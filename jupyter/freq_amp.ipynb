{
 "cells": [
  {
   "cell_type": "code",
   "execution_count": 3,
   "metadata": {},
   "outputs": [],
   "source": [
    "# plot the audio data\n",
    "# use popup window\n",
    "# %matplotlib qt\n",
    "import matplotlib.pyplot as plt\n",
    "\n",
    "from utils import *# plot the audio data\n",
    "# use popup window\n",
    "# %matplotlib qt\n",
    "import matplotlib.pyplot as plt\n",
    "\n",
    "from utils import *"
   ]
  },
  {
   "cell_type": "code",
   "execution_count": 4,
   "metadata": {},
   "outputs": [
    {
     "name": "stdout",
     "output_type": "stream",
     "text": [
      "[ 1000.  2000.  3000.  4000.  5000.  6000.  7000.  8000.  9000. 10000.\n",
      " 11000. 12000. 13000. 14000. 15000.]\n"
     ]
    }
   ],
   "source": [
    "rate = 48000\n",
    "seconds = 1.6\n",
    "\n",
    "test_freqs = np.linspace(1000, 15000, 15)\n",
    "# test_freqs = [400]\n",
    "print(test_freqs)\n",
    "\n",
    "freq_amp_map = {}\n",
    "\n",
    "for freq in test_freqs:\n",
    "    cycle_time = 1 / freq\n",
    "    cycle_samples = int(cycle_time * rate)\n",
    "    n_cycles = int(seconds / cycle_time)\n",
    "    t = np.linspace(0, n_cycles * cycle_time, n_cycles * cycle_samples, endpoint=False)\n",
    "    y = sine_wave(freq)(t)\n",
    "\n",
    "    record_wave, play_wave, rate = play_and_record(y, rate, discard=False)\n",
    "    record_wave = record_wave[rate//2:rate//2+rate]\n",
    "\n",
    "    amp = np.max(record_wave)\n",
    "\n",
    "    freq_amp_map[freq] = amp"
   ]
  },
  {
   "cell_type": "code",
   "execution_count": 5,
   "metadata": {},
   "outputs": [
    {
     "name": "stderr",
     "output_type": "stream",
     "text": [
      "qt.qpa.wayland.textinput: virtual void QtWaylandClient::QWaylandTextInputv3::zwp_text_input_v3_leave(wl_surface*) Got leave event for surface 0x0 focused surface 0x614eb0625ca0\n"
     ]
    }
   ],
   "source": [
    "x = sorted(list(freq_amp_map.keys()))\n",
    "y = np.array([freq_amp_map[f] for f in x])\n",
    "plt.plot(x, y, 'o')\n",
    "plt.plot(x, y, '--')\n",
    "plt.show()"
   ]
  },
  {
   "cell_type": "code",
   "execution_count": 6,
   "metadata": {},
   "outputs": [
    {
     "name": "stdout",
     "output_type": "stream",
     "text": [
      "Length of a symbol: 0.001 s\n",
      "Frequency resolution: 1000.0 Hz\n",
      "max corr 0.1685974930645031\n",
      "max corr 0.29211502837692793\n",
      "59810 60286\n"
     ]
    },
    {
     "name": "stderr",
     "output_type": "stream",
     "text": [
      "qt.qpa.wayland.textinput: virtual void QtWaylandClient::QWaylandTextInputv3::zwp_text_input_v3_leave(wl_surface*) Got leave event for surface 0x0 focused surface 0x5fc49fb7f800\n"
     ]
    }
   ],
   "source": [
    "# use irfft to test\n",
    "freq_amp_map = {}\n",
    "\n",
    "rate = 48000\n",
    "symbol_samples = 48\n",
    "t_symbol = symbol_samples / rate\n",
    "delta_f = 1 / t_symbol\n",
    "\n",
    "print(f\"Length of a symbol: {t_symbol} s\")\n",
    "print(f\"Frequency resolution: {delta_f} Hz\")\n",
    "\n",
    "fft_freq = np.fft.rfftfreq(symbol_samples, 1 / rate)\n",
    "fft_amp = np.zeros(fft_freq.shape, dtype=np.complex128)\n",
    "\n",
    "test_freqs = [1000*i for i in range(1, 25)]\n",
    "# print(test_freqs)\n",
    "for freq in test_freqs:\n",
    "    fft_amp[int(freq // delta_f)] = 1j\n",
    "\n",
    "signal = np.fft.irfft(fft_amp)\n",
    "signal = signal / np.max(np.abs(signal))\n",
    "\n",
    "y = np.concatenate([signal for _ in range(10)])\n",
    "\n",
    "# plt.plot(signal)\n",
    "record_wave, rate, raw_wave = play_and_record_precise2(y, rate)\n",
    "\n",
    "# plt.plot(record_wave)\n",
    "\n",
    "plot_fft(record_wave[symbol_samples*2:symbol_samples*3], rate)\n",
    "\n",
    "# Conclusion\n",
    "# For resolution of 1000Hz\n",
    "# usable range 1000Hz-12000Hz"
   ]
  }
 ],
 "metadata": {
  "kernelspec": {
   "display_name": "venv",
   "language": "python",
   "name": "python3"
  },
  "language_info": {
   "codemirror_mode": {
    "name": "ipython",
    "version": 3
   },
   "file_extension": ".py",
   "mimetype": "text/x-python",
   "name": "python",
   "nbconvert_exporter": "python",
   "pygments_lexer": "ipython3",
   "version": "3.12.7"
  }
 },
 "nbformat": 4,
 "nbformat_minor": 2
}
