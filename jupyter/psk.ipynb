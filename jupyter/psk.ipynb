{
 "cells": [
  {
   "cell_type": "code",
   "execution_count": null,
   "metadata": {},
   "outputs": [],
   "source": [
    "# plot the audio data\n",
    "# use popup window\n",
    "%matplotlib qt\n",
    "import matplotlib.pyplot as plt\n",
    "\n",
    "from utils import *# plot the audio data\n",
    "# use popup window\n",
    "%matplotlib qt\n",
    "import matplotlib.pyplot as plt\n",
    "\n",
    "from utils import *"
   ]
  },
  {
   "cell_type": "code",
   "execution_count": null,
   "metadata": {},
   "outputs": [],
   "source": [
    "rate = 48000\n",
    "seconds = 10 / 400\n",
    "# y = np.concatenate((sine_wave(400)(t), sine_wave(800)(t)))\n",
    "# y = np.concatenate((sine_wave(400)(t), sine_wave(400)(t)))\n",
    "# y = np.zeros(int(0.2*rate))\n",
    "\n",
    "freq = 400\n",
    "cycle_time = 1 / freq\n",
    "cycle_samples = int(cycle_time * rate)\n",
    "sinew = sine_wave(freq)(np.linspace(0, cycle_time, cycle_samples, endpoint=False))\n",
    "cosinew = sine_wave(freq, phase=np.pi/2)(np.linspace(0, cycle_time, cycle_samples, endpoint=False))\n",
    "\n",
    "one = np.concatenate((sinew, sinew, np.zeros(cycle_samples)))\n",
    "zero = np.concatenate((cosinew, cosinew, np.zeros(cycle_samples)))\n",
    "\n",
    "# plt.plot(zero)\n",
    "y = np.concatenate((one, zero, one, zero))"
   ]
  }
 ],
 "metadata": {
  "language_info": {
   "name": "python"
  }
 },
 "nbformat": 4,
 "nbformat_minor": 2
}
