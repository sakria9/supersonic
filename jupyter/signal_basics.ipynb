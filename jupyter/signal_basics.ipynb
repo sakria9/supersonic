{
 "cells": [
  {
   "cell_type": "code",
   "execution_count": 25,
   "metadata": {},
   "outputs": [],
   "source": [
    "import numpy as np\n",
    "# plot the audio data\n",
    "# use popup window\n",
    "%matplotlib qt\n",
    "import matplotlib.pyplot as plt\n",
    "def sine_wave_f(f, A=1, phi=0):\n",
    "    return lambda t: A * np.sin(2 * np.pi * f * t + phi)\n",
    "def cosine_wave_f(f, A=1, phi=0):\n",
    "    return lambda t: A * np.cos(2 * np.pi * f * t + phi)\n",
    "\n",
    "def plot_fft(data, rate, seconds=1, freq_range=(0, 24000), title=\"FFT of Audio Data\"):\n",
    "    # If seconds is None, perform FFT on the entire audio data\n",
    "    if seconds is None:\n",
    "        num_samples = len(data)\n",
    "    else:\n",
    "        num_samples = min(int(seconds * rate), len(data))\n",
    "        seconds = min(seconds, len(data) / rate)\n",
    "\n",
    "    assert num_samples % 2 == 0\n",
    "    # Perform FFT on the audio data\n",
    "    freqs = np.fft.fft(data[:num_samples])\n",
    "    freqs = np.abs(freqs) / num_samples\n",
    "    freqs = freqs[:num_samples // 2]\n",
    "    plt.figure()\n",
    "    plt.plot(np.linspace(0., rate / 2, num_samples // 2), freqs)\n",
    "    plt.xlabel('Frequency (Hz)')\n",
    "    plt.ylabel('Magnitude')\n",
    "    plt.title(title)\n",
    "    plt.xlim(*freq_range)\n",
    "    plt.show()"
   ]
  },
  {
   "cell_type": "code",
   "execution_count": 17,
   "metadata": {},
   "outputs": [
    {
     "name": "stderr",
     "output_type": "stream",
     "text": [
      "The cached device pixel ratio value was stale on window update.  Please file a QTBUG which explains how to reproduce.\n",
      "qt.qpa.wayland.textinput: virtual void QtWaylandClient::QWaylandTextInputv3::zwp_text_input_v3_leave(wl_surface*) Got leave event for surface 0x0 focused surface 0x5b6445841d00\n",
      "qt.qpa.wayland.textinput: virtual void QtWaylandClient::QWaylandTextInputv3::zwp_text_input_v3_leave(wl_surface*) Got leave event for surface 0x0 focused surface 0x5b6445bc67b0\n"
     ]
    }
   ],
   "source": [
    "# freq domain of PSK\n",
    "rate = 1000\n",
    "seconds = 1\n",
    "t = np.linspace(0, seconds, seconds * rate)\n",
    "one = sine_wave_f(1)(t)\n",
    "zero = sine_wave_f(1, phi=np.pi)(t)\n",
    "wave = np.concatenate([one, one, zero, zero])\n",
    "plt.plot(wave)\n",
    "plot_fft(wave, rate, seconds=None, freq_range=(0, 10))"
   ]
  },
  {
   "cell_type": "code",
   "execution_count": 16,
   "metadata": {},
   "outputs": [
    {
     "name": "stderr",
     "output_type": "stream",
     "text": [
      "The cached device pixel ratio value was stale on window update.  Please file a QTBUG which explains how to reproduce.\n",
      "The cached device pixel ratio value was stale on window update.  Please file a QTBUG which explains how to reproduce.\n",
      "qt.qpa.wayland.textinput: virtual void QtWaylandClient::QWaylandTextInputv3::zwp_text_input_v3_leave(wl_surface*) Got leave event for surface 0x0 focused surface 0x5b6445b178f0\n",
      "qt.qpa.wayland.textinput: virtual void QtWaylandClient::QWaylandTextInputv3::zwp_text_input_v3_leave(wl_surface*) Got leave event for surface 0x0 focused surface 0x5b6445b14970\n"
     ]
    }
   ],
   "source": [
    "# freq domain of FSK\n",
    "rate = 1000\n",
    "seconds = 1\n",
    "t = np.linspace(0, seconds, seconds * rate)\n",
    "one = sine_wave_f(1)(t)\n",
    "zero = sine_wave_f(2)(t)\n",
    "wave = np.concatenate([one, one, zero, zero])\n",
    "plt.plot(wave)\n",
    "plot_fft(wave, rate, seconds=None, freq_range=(0, 10))"
   ]
  },
  {
   "cell_type": "code",
   "execution_count": 48,
   "metadata": {},
   "outputs": [
    {
     "data": {
      "text/plain": [
       "[<matplotlib.lines.Line2D at 0x7d8c1d070a10>]"
      ]
     },
     "execution_count": 48,
     "metadata": {},
     "output_type": "execute_result"
    },
    {
     "name": "stderr",
     "output_type": "stream",
     "text": [
      "qt.qpa.wayland.textinput: virtual void QtWaylandClient::QWaylandTextInputv3::zwp_text_input_v3_leave(wl_surface*) Got leave event for surface 0x0 focused surface 0x5b6445426950\n"
     ]
    }
   ],
   "source": [
    "# X-axis is freq, Y-axis is the dot product to 10Hz wave\n",
    "rate = 1000\n",
    "seconds = 10\n",
    "t = np.linspace(0, seconds, seconds * rate)\n",
    "\n",
    "kernel = sine_wave_f(1)(t) / (rate * seconds)\n",
    "\n",
    "freqs = np.linspace(0.1, 10, 1000)\n",
    "corrs = []\n",
    "for f in freqs:\n",
    "    wave = sine_wave_f(f)(t)\n",
    "    corr = np.dot(wave, kernel)\n",
    "    corrs.append(corr)\n",
    "plt.plot(freqs, corrs)"
   ]
  },
  {
   "cell_type": "code",
   "execution_count": 53,
   "metadata": {},
   "outputs": [
    {
     "name": "stderr",
     "output_type": "stream",
     "text": [
      "The cached device pixel ratio value was stale on window update.  Please file a QTBUG which explains how to reproduce.\n",
      "The cached device pixel ratio value was stale on window update.  Please file a QTBUG which explains how to reproduce.\n",
      "The cached device pixel ratio value was stale on window update.  Please file a QTBUG which explains how to reproduce.\n",
      "qt.qpa.wayland.textinput: virtual void QtWaylandClient::QWaylandTextInputv3::zwp_text_input_v3_leave(wl_surface*) Got leave event for surface 0x0 focused surface 0x5b6445891bf0\n",
      "qt.qpa.wayland.textinput: virtual void QtWaylandClient::QWaylandTextInputv3::zwp_text_input_v3_leave(wl_surface*) Got leave event for surface 0x0 focused surface 0x5b6445933780\n",
      "qt.qpa.wayland.textinput: virtual void QtWaylandClient::QWaylandTextInputv3::zwp_text_input_v3_leave(wl_surface*) Got leave event for surface 0x0 focused surface 0x5b6445993670\n"
     ]
    }
   ],
   "source": [
    "# Plot the FFT of sine wave that < 1Hz\n",
    "\n",
    "rate = 1000\n",
    "seconds = 1\n",
    "\n",
    "freqs = [1, 0.75, 0.5]\n",
    "for f in freqs:\n",
    "    t = np.linspace(0, seconds, seconds * rate)\n",
    "    wave = sine_wave_f(f)(t)\n",
    "    plot_fft(wave, rate, seconds=None, freq_range=(0, 2), title=f\"FFT of {f}Hz sine wave\")\n",
    "    # plt.plot(wave)"
   ]
  },
  {
   "cell_type": "code",
   "execution_count": 51,
   "metadata": {},
   "outputs": [
    {
     "data": {
      "text/plain": [
       "[<matplotlib.lines.Line2D at 0x7d8c1d0ff8c0>]"
      ]
     },
     "execution_count": 51,
     "metadata": {},
     "output_type": "execute_result"
    },
    {
     "name": "stderr",
     "output_type": "stream",
     "text": [
      "qt.qpa.wayland.textinput: virtual void QtWaylandClient::QWaylandTextInputv3::zwp_text_input_v3_leave(wl_surface*) Got leave event for surface 0x0 focused surface 0x5b6445423fc0\n"
     ]
    }
   ],
   "source": [
    "# Plot the corr of sine wave that < 1Hz\n",
    "\n",
    "rate = 1000\n",
    "seconds = 1\n",
    "\n",
    "freqs = np.linspace(0.1, 1, 1000)\n",
    "corrs = []\n",
    "for f in freqs:\n",
    "    t = np.linspace(0, seconds, seconds * rate)\n",
    "    wave = sine_wave_f(f)(t)\n",
    "    corr = np.dot(wave, wave)\n",
    "    np.correlate(wave, wave)\n",
    "    corrs.append(corr)\n",
    "plt.plot(freqs, corrs)"
   ]
  },
  {
   "cell_type": "code",
   "execution_count": 54,
   "metadata": {},
   "outputs": [
    {
     "name": "stderr",
     "output_type": "stream",
     "text": [
      "The cached device pixel ratio value was stale on window update.  Please file a QTBUG which explains how to reproduce.\n",
      "The cached device pixel ratio value was stale on window update.  Please file a QTBUG which explains how to reproduce.\n",
      "The cached device pixel ratio value was stale on window update.  Please file a QTBUG which explains how to reproduce.\n",
      "The cached device pixel ratio value was stale on window update.  Please file a QTBUG which explains how to reproduce.\n",
      "qt.qpa.wayland.textinput: virtual void QtWaylandClient::QWaylandTextInputv3::zwp_text_input_v3_leave(wl_surface*) Got leave event for surface 0x0 focused surface 0x5b64470ab520\n",
      "qt.qpa.wayland.textinput: virtual void QtWaylandClient::QWaylandTextInputv3::zwp_text_input_v3_leave(wl_surface*) Got leave event for surface 0x0 focused surface 0x5b644529d860\n",
      "qt.qpa.wayland.textinput: virtual void QtWaylandClient::QWaylandTextInputv3::zwp_text_input_v3_leave(wl_surface*) Got leave event for surface 0x0 focused surface 0x5b6445889520\n",
      "qt.qpa.wayland.textinput: virtual void QtWaylandClient::QWaylandTextInputv3::zwp_text_input_v3_leave(wl_surface*) Got leave event for surface 0x0 focused surface 0x5b64456cb800\n",
      "qt.qpa.wayland.textinput: virtual void QtWaylandClient::QWaylandTextInputv3::zwp_text_input_v3_leave(wl_surface*) Got leave event for surface 0x0 focused surface 0x5b6453922a30\n"
     ]
    }
   ],
   "source": [
    "# Plot the FFT of sine wave that > 1Hz\n",
    "\n",
    "rate = 1000\n",
    "seconds = 1\n",
    "\n",
    "freqs = [1, 1.25, 1.5, 1.75, 2]\n",
    "for f in freqs:\n",
    "    t = np.linspace(0, seconds, seconds * rate)\n",
    "    wave = sine_wave_f(f)(t)\n",
    "    plot_fft(wave, rate, seconds=None, freq_range=(0, 5), title=f\"FFT of {f}Hz sine wave\")\n",
    "    # plt.plot(wave)"
   ]
  }
 ],
 "metadata": {
  "kernelspec": {
   "display_name": "venv",
   "language": "python",
   "name": "python3"
  },
  "language_info": {
   "codemirror_mode": {
    "name": "ipython",
    "version": 3
   },
   "file_extension": ".py",
   "mimetype": "text/x-python",
   "name": "python",
   "nbconvert_exporter": "python",
   "pygments_lexer": "ipython3",
   "version": "3.12.6"
  }
 },
 "nbformat": 4,
 "nbformat_minor": 2
}
