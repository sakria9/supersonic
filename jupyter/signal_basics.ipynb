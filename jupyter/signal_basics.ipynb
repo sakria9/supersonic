{
 "cells": [
  {
   "cell_type": "code",
   "execution_count": 18,
   "metadata": {},
   "outputs": [
    {
     "data": {
      "text/plain": [
       "[<matplotlib.lines.Line2D at 0x725f5b2ca450>]"
      ]
     },
     "execution_count": 18,
     "metadata": {},
     "output_type": "execute_result"
    },
    {
     "name": "stderr",
     "output_type": "stream",
     "text": [
      "qt.qpa.wayland.textinput: virtual void QtWaylandClient::QWaylandTextInputv3::zwp_text_input_v3_leave(wl_surface*) Got leave event for surface 0x0 focused surface 0x586b2821f500\n"
     ]
    }
   ],
   "source": [
    "import numpy as np\n",
    "# plot the audio data\n",
    "# use popup window\n",
    "%matplotlib qt\n",
    "import matplotlib.pyplot as plt\n",
    "def sine_wave_f(f, A=1, phi=0):\n",
    "    return lambda t: A * np.sin(2 * np.pi * f * t + phi)\n",
    "def cosine_wave_f(f, A=1, phi=0):\n",
    "    return lambda t: A * np.cos(2 * np.pi * f * t + phi)\n",
    "\n",
    "def plot_fft(data, rate, seconds=1, freq_range=(0, 24000)):\n",
    "    # If seconds is None, perform FFT on the entire audio data\n",
    "    if seconds is None:\n",
    "        num_samples = len(data)\n",
    "    else:\n",
    "        num_samples = min(int(seconds * rate), len(data))\n",
    "        seconds = min(seconds, len(data) / rate)\n",
    "\n",
    "    assert num_samples % 2 == 0\n",
    "    # Perform FFT on the audio data\n",
    "    freqs = np.fft.fft(data[:num_samples])\n",
    "    freqs = np.abs(freqs) / num_samples\n",
    "    freqs = freqs[:num_samples // 2]\n",
    "    plt.figure()\n",
    "    plt.plot(np.linspace(0., rate / 2, num_samples // 2), freqs)\n",
    "    plt.xlabel('Frequency (Hz)')\n",
    "    plt.ylabel('Magnitude')\n",
    "    plt.title(f'FFT of Audio Data (First {seconds} seconds)' if seconds is not None else 'FFT of Audio Data (Full)')\n",
    "    plt.xlim(*freq_range)\n",
    "    plt.show()\n",
    "\n",
    "rate = 1000\n",
    "seconds = 2\n",
    "t = np.linspace(0, seconds, seconds * rate)\n",
    "one = sine_wave_f(1)(t)\n",
    "wave2 = sine_wave_f(2)(t)\n",
    "# plt.plot(t, wave)\n",
    "\n",
    "kernel = wave1.copy() / 1000\n",
    "\n",
    "# corr = np.correlate(wave1, kernel, mode='full')[:len(wave1)]\n",
    "# corr2 = np.correlate(wave2, kernel, mode='full')[:len(wave1)]\n",
    "# plt.plot(corr)\n",
    "# plt.plot(corr2)\n",
    "# plt.plot(wave1)\n",
    "# plt.plot(wave2)\n",
    "\n",
    "wave = one + wave2 * 0.2\n",
    "plot_fft(wave, rate, seconds=None, freq_range=(0, 10))\n",
    "\n",
    "freqs = np.linspace(0.1, 10, 1000)\n",
    "corrs = []\n",
    "for f in freqs:\n",
    "    wave = sine_wave_f(f)(t)\n",
    "    corr = np.dot(wave, kernel)\n",
    "    corrs.append(corr)\n",
    "plt.plot(freqs, corrs)\n",
    "# plot a vertical line at the peak"
   ]
  },
  {
   "cell_type": "code",
   "execution_count": 16,
   "metadata": {},
   "outputs": [
    {
     "name": "stderr",
     "output_type": "stream",
     "text": [
      "qt.qpa.wayland.textinput: virtual void QtWaylandClient::QWaylandTextInputv3::zwp_text_input_v3_leave(wl_surface*) Got leave event for surface 0x0 focused surface 0x586b25ea5590\n"
     ]
    }
   ],
   "source": [
    "rate = 1000\n",
    "seconds = 4\n",
    "t = np.linspace(0, seconds, seconds * rate)\n",
    "one = sine_wave_f(1)(t)\n",
    "zero = sine_wave_f(1, phi=np.pi)(t)\n",
    "wave = one + zero + zero + zero\n",
    "plot_fft(wave, rate, seconds=None, freq_range=(0, 10))\n",
    "# plt.plot(t, one * one)\n",
    "# plt.plot(t, zero * one)\n",
    "# kernel = one.copy() / 1000\n",
    "# plt.plot(t, np.correlate(one, kernel, mode='full')[:len(t)])\n",
    "# plt.plot(t, np.correlate(zero, kernel, mode='full')[:len(t)])"
   ]
  },
  {
   "cell_type": "code",
   "execution_count": 38,
   "metadata": {},
   "outputs": [
    {
     "name": "stderr",
     "output_type": "stream",
     "text": [
      "qt.qpa.wayland.textinput: virtual void QtWaylandClient::QWaylandTextInputv3::zwp_text_input_v3_leave(wl_surface*) Got leave event for surface 0x0 focused surface 0x5f71ebe1ca20\n"
     ]
    }
   ],
   "source": [
    "rate = 1000\n",
    "t = np.linspace(0, 1, rate)\n",
    "a = sine_wave_f(1)(t)\n",
    "c = a * cosine_wave_f(6)(t)\n",
    "plot_fft(c, rate, seconds=None, freq_range=(0, 10))\n",
    "# plt.plot(t, c)"
   ]
  },
  {
   "cell_type": "code",
   "execution_count": 18,
   "metadata": {},
   "outputs": [
    {
     "name": "stderr",
     "output_type": "stream",
     "text": [
      "The cached device pixel ratio value was stale on window update.  Please file a QTBUG which explains how to reproduce.\n",
      "qt.qpa.wayland.textinput: virtual void QtWaylandClient::QWaylandTextInputv3::zwp_text_input_v3_leave(wl_surface*) Got leave event for surface 0x0 focused surface 0x6397ef48e780\n"
     ]
    }
   ],
   "source": [
    "rate = 48000\n",
    "\n",
    "freq = 480\n",
    "samples = 100\n",
    "times = np.linspace(0, 1, rate, endpoint=False)[:samples]\n",
    "one = sine_wave_f(freq)(times)\n",
    "\n",
    "plot_fft(one, rate, seconds=None, freq_range=(0, 1000))"
   ]
  }
 ],
 "metadata": {
  "kernelspec": {
   "display_name": "venv",
   "language": "python",
   "name": "python3"
  },
  "language_info": {
   "codemirror_mode": {
    "name": "ipython",
    "version": 3
   },
   "file_extension": ".py",
   "mimetype": "text/x-python",
   "name": "python",
   "nbconvert_exporter": "python",
   "pygments_lexer": "ipython3",
   "version": "3.12.6"
  }
 },
 "nbformat": 4,
 "nbformat_minor": 2
}
