{
 "cells": [
  {
   "cell_type": "code",
   "execution_count": 1,
   "metadata": {},
   "outputs": [
    {
     "name": "stdout",
     "output_type": "stream",
     "text": [
      "chrip freq 5000, 10000.0\n",
      "chrip freq 7000, 11000.0\n"
     ]
    }
   ],
   "source": [
    "# plot the audio data\n",
    "# use popup window\n",
    "%matplotlib qt\n",
    "import matplotlib.pyplot as plt\n",
    "\n",
    "from utils import *"
   ]
  },
  {
   "cell_type": "code",
   "execution_count": 27,
   "metadata": {},
   "outputs": [
    {
     "name": "stdout",
     "output_type": "stream",
     "text": [
      "max continuous diff: 4\n",
      "mean: 0.9621 median: 1.0\n",
      "max: 1.0 min: 0.65\n",
      "std: 0.07306565540662727\n",
      "percentile 25: 0.95\n",
      "percentile 75: 1.0\n",
      "percentile 90: 1.0\n",
      "9621/10000 bits (96.210000%) are correct\n"
     ]
    }
   ],
   "source": [
    "def read_frames(file):\n",
    "    with open(file, 'r') as f:\n",
    "        lines = f.readlines()\n",
    "        lines = [line.strip() for line in lines]\n",
    "        lines = [np.array([1 if x == '1' else 0 for x in line]) for line in lines]\n",
    "        return lines\n",
    "\n",
    "\n",
    "def diff_frames(input, output):\n",
    "    if len(input) != len(output):\n",
    "        print(f\"length mismatch, input: {len(input)}, output: {len(output)}\")\n",
    "\n",
    "    max_cont_diff = 0\n",
    "    similarities = []\n",
    "    total_bits = 0\n",
    "    correct_bits = 0\n",
    "    for frame1, frame2 in zip(input, output):\n",
    "        total_bits += len(frame1)\n",
    "        correct_bits += np.sum(frame1 == frame2)\n",
    "        similarity = np.sum(frame1 == frame2) / len(frame1)\n",
    "        similarities.append(similarity)\n",
    "        cont_diff = 0\n",
    "        for x, y in zip(frame1, frame2):\n",
    "            if x != y:\n",
    "                cont_diff += 1\n",
    "            else:\n",
    "                max_cont_diff = max(max_cont_diff, cont_diff)\n",
    "                cont_diff = 0\n",
    "        max_cont_diff = max(max_cont_diff, cont_diff)\n",
    "    similarities = np.array(similarities)\n",
    "    print(\"max continuous diff:\", max_cont_diff)\n",
    "    print(\"mean:\", np.mean(similarities), \"median:\", np.median(similarities))\n",
    "    print(\"max:\", np.max(similarities), \"min:\", np.min(similarities))\n",
    "    print(\"std:\", np.std(similarities))\n",
    "    print(\"percentile 25:\", np.percentile(similarities, 25))\n",
    "    print(\"percentile 75:\", np.percentile(similarities, 75))\n",
    "    print(\"percentile 90:\", np.percentile(similarities, 90))\n",
    "    print(f\"{correct_bits}/{total_bits} bits ({correct_bits/total_bits*100:2f}%) are correct\")\n",
    "\n",
    "input = read_frames(\"/home/ryo/code/supersonic/build/input.txt\")\n",
    "output = read_frames(\"/home/ryo/code/supersonic/build/output.txt\")\n",
    "\n",
    "diff_frames(input, output)"
   ]
  }
 ],
 "metadata": {
  "kernelspec": {
   "display_name": "venv",
   "language": "python",
   "name": "python3"
  },
  "language_info": {
   "codemirror_mode": {
    "name": "ipython",
    "version": 3
   },
   "file_extension": ".py",
   "mimetype": "text/x-python",
   "name": "python",
   "nbconvert_exporter": "python",
   "pygments_lexer": "ipython3",
   "version": "3.12.7"
  }
 },
 "nbformat": 4,
 "nbformat_minor": 2
}
