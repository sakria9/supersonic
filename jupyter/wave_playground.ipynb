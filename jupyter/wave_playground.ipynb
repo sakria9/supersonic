{
 "cells": [
  {
   "cell_type": "code",
   "execution_count": 132,
   "metadata": {},
   "outputs": [
    {
     "name": "stdout",
     "output_type": "stream",
     "text": [
      "3000 7000.0\n",
      "7000 11000.0\n"
     ]
    }
   ],
   "source": [
    "import scipy.io.wavfile as wav\n",
    "import numpy as np\n",
    "\n",
    "def read_wave_file(file_path) -> tuple[int, np.ndarray]:\n",
    "    rate, data = wav.read(file_path)\n",
    "    if data.ndim == 2:\n",
    "        data = data[:, 0]\n",
    "    # convert to float\n",
    "    if data.dtype == 'int16':\n",
    "        data = data / 32768.0\n",
    "    elif data.dtype == 'float32':\n",
    "        pass\n",
    "    else:\n",
    "        raise ValueError(\"Unknown data type\")\n",
    "    return rate, data\n",
    "\n",
    "def save_wave_file(file_path, rate, data):\n",
    "    # Ensure data is in the correct format\n",
    "    if data.dtype != 'float32':\n",
    "        data = data.astype('float32')\n",
    "\n",
    "    # Convert float data to int16 for saving\n",
    "    data_int16 = (data * 32767).astype('int16')\n",
    "\n",
    "    # Write the data to a wav file\n",
    "    wav.write(file_path, rate, data_int16)\n",
    "\n",
    "# plot the audio data\n",
    "# use popup window\n",
    "%matplotlib qt\n",
    "import matplotlib.pyplot as plt\n",
    "\n",
    "import sounddevice as sd\n",
    "\n",
    "def plot_audio(data, rate, seconds=1):\n",
    "    # If seconds is None, plot the entire audio data\n",
    "    if seconds is None:\n",
    "        num_samples = len(data)\n",
    "        seconds = num_samples / rate\n",
    "    else:\n",
    "        num_samples = min(int(seconds * rate), len(data))\n",
    "        seconds = min(seconds, len(data) / rate)\n",
    "\n",
    "    # Create a time axis based on the sample rate and the specified duration\n",
    "    time = np.linspace(0., seconds, num_samples)\n",
    "\n",
    "    # Plot the audio data for the specified duration\n",
    "    plt.figure()\n",
    "    plt.plot(time, data[:num_samples])\n",
    "    plt.xlabel('Time (s)')\n",
    "    plt.ylabel('Amplitude')\n",
    "    plt.title(f'Audio Data (First {seconds} seconds)' if seconds is not None else 'Audio Data (Full)')\n",
    "    plt.show()\n",
    "\n",
    "def plot_fft(data, rate, seconds=1, freq_range=(0, 24000)):\n",
    "    # If seconds is None, perform FFT on the entire audio data\n",
    "    if seconds is None:\n",
    "        num_samples = len(data)\n",
    "    else:\n",
    "        num_samples = min(int(seconds * rate), len(data))\n",
    "        seconds = min(seconds, len(data) / rate)\n",
    "    # assert num_samples % 2 == 0\n",
    "    if num_samples % 2 != 0:\n",
    "        num_samples -= 1\n",
    "    # Perform FFT on the audio data\n",
    "    freqs = np.fft.fft(data[:num_samples])\n",
    "    freqs = np.abs(freqs) / num_samples\n",
    "    freqs = freqs[:num_samples // 2]\n",
    "    plt.figure()\n",
    "    plt.plot(np.linspace(0., rate / 2, num_samples // 2), freqs)\n",
    "    plt.xlabel('Frequency (Hz)')\n",
    "    plt.ylabel('Magnitude')\n",
    "    plt.title(f'FFT of Audio Data (First {seconds} seconds)' if seconds is not None else 'FFT of Audio Data (Full)')\n",
    "    plt.xlim(*freq_range)\n",
    "    plt.show()\n",
    "\n",
    "def plot_wav_file(file_path, seconds=1):\n",
    "    rate, data = read_wave_file(file_path)\n",
    "    plot_audio(data, rate, seconds)\n",
    "    plot_fft(data, rate, seconds)\n",
    "\n",
    "from scipy.signal import butter, filtfilt\n",
    "\n",
    "def low_pass_filter(data, rate, freq):\n",
    "    nyquist = 0.5 * rate\n",
    "    normal_cutoff = freq / nyquist\n",
    "    b, a = butter(5, normal_cutoff, btype='low', analog=False)\n",
    "    filtered_data = filtfilt(b, a, data)\n",
    "    return filtered_data\n",
    "\n",
    "def play_audio(audio: np.array, rate=48000):\n",
    "    save_wave_file(\"../build/temp.wav\", rate, audio)\n",
    "    sd.play(audio, rate)\n",
    "    sd.wait()\n",
    "\n",
    "def audio_by_function(func: callable, rate=48000, duration=1):\n",
    "    timepoints = np.linspace(0, duration, int(rate * duration))\n",
    "    return func(timepoints)\n",
    "\n",
    "def play_audio_by_function(func: callable, rate=48000, duration=1):\n",
    "    timepoints = np.linspace(0, duration, int(rate * duration))\n",
    "    audio = audio_by_function(func, rate, duration)\n",
    "    play_audio(audio, rate)\n",
    "\n",
    "def sine_wave(freq_hz, phase=0):\n",
    "    return lambda time_in_second: np.sin(2 * np.pi * freq_hz * time_in_second + phase)\n",
    "\n",
    "def cosine_wave(freq_hz, phase=0):\n",
    "    return lambda time_in_second: np.sin(2 * np.pi * freq_hz * time_in_second + phase)\n",
    "\n",
    "sine_440hz = sine_wave(440)\n",
    "sine_880hz = sine_wave(880)\n",
    "\n",
    "def square_wave(freq):\n",
    "    return lambda time_in_second: np.sign(np.sin(2 * np.pi * freq * time_in_second))\n",
    "\n",
    "def cosine_440hz(time_in_second):\n",
    "    return np.cos(2 * np.pi * 440 * time_in_second)\n",
    "\n",
    "def multiply_amplitude(amplitude: float, func: callable):\n",
    "    def wrapper(*args, **kwargs):\n",
    "        return amplitude * func(*args, **kwargs)\n",
    "    return wrapper\n",
    "\n",
    "def sine_wave_samples(freq, cycle, phase, amplitude, rate=48000):\n",
    "    duration = cycle / freq\n",
    "    timepoints = np.linspace(0, duration, int(rate * duration))\n",
    "    return multiply_amplitude(amplitude, sine_wave(freq, phase))(timepoints)\n",
    "\n",
    "def play_sine_waves(sine_waves: tuple[int, float, float], rate=48000):\n",
    "    audio = np.zeros(0)\n",
    "    for freq, cycle, amplitude in sine_waves:\n",
    "        sine_wave_audio = sine_wave_samples(freq, cycle, 0, amplitude, rate)\n",
    "        audio = np.concatenate((audio, sine_wave_audio))\n",
    "    play_audio(audio, rate)\n",
    "\n",
    "# play_sine_waves([(4800, 4, 0.5), (4800, 4, 1), (2400, 4, 1)] * 500)\n",
    "\n",
    "# play_audio_by_function(sine_wave(440), duration=10)\n",
    "# play_audio_by_function(sine_wave(4800), duration=3)\n",
    "# play_audio_by_function(lambda t: (sine_wave(440)(t) + sine_wave()(t))/2, duration=2)\n",
    "\n",
    "def play_and_record(data, rate, discard=True):\n",
    "    save_wave_file(\"../build/temp.wav\", rate, data)\n",
    "\n",
    "    cmd = \"../build/supersonic/play_and_record -f ../build/temp.wav -i 'UGREEN CM564 USB Audio  Mono:capture_MONO' -o 'USB2.0 Device Analog Stereo:playback_FL'\"\n",
    "    # cmd = \"..\\\\out\\\\build\\\\x64-debug\\\\supersonic\\\\play_and_record.exe -f ../build/temp.wav\"\n",
    "    import subprocess\n",
    "    p = subprocess.Popen(cmd, shell=True, stdout=subprocess.PIPE, stderr=subprocess.PIPE)\n",
    "    p.wait()\n",
    "    if p.returncode != 0:\n",
    "        print(p.stdout.read())\n",
    "        print(p.stderr.read())\n",
    "        raise ValueError(\"play_and_record failed\")\n",
    "    \n",
    "    rate, record_wave = read_wave_file(\"raw_input.wav\")\n",
    "    rate, play_wave = read_wave_file(\"raw_output.wav\")\n",
    "    if discard:\n",
    "        # discard first 0.5s\n",
    "        record_wave = record_wave[int(0.5 * rate):]\n",
    "        play_wave = play_wave[int(0.5 * rate):]\n",
    "    return record_wave, play_wave, rate\n",
    "\n",
    "# try play a chirp\n",
    "\n",
    "# chirp_frequencies1 = np.linspace(5000, 7500, 20)\n",
    "# chirp_frequencies2 = np.linspace(7500, 10000, 20)\n",
    "\n",
    "# def gen_chirp(frequencies):\n",
    "#     rate = 48000\n",
    "#     duration = 1 / 100\n",
    "#     timepoints = np.linspace(0, duration, int(rate * duration) + 1)\n",
    "#     chirp = np.zeros(len(timepoints))\n",
    "#     for freq in frequencies:\n",
    "#         # print(freq)\n",
    "#         chirp += sine_wave(freq)(timepoints)\n",
    "#     chirp /= len(frequencies)\n",
    "#     return chirp\n",
    "\n",
    "# chirp1 = gen_chirp(chirp_frequencies1)\n",
    "# chirp2 = gen_chirp(chirp_frequencies2)\n",
    "\n",
    "def gen_chirp(f_0, c, duration, rate):\n",
    "    f_1 = c * duration + f_0\n",
    "    print(f_0, f_1)\n",
    "\n",
    "    def phi(t):\n",
    "        return 2 * np.pi * (c / 2 * t * t + f_0 * t)\n",
    "\n",
    "    times = np.linspace(0, duration, int(rate * duration), endpoint=False)\n",
    "    chirp = np.sin(phi(times))\n",
    "    chirp_rev = -np.flip(chirp)\n",
    "    chirp = np.concatenate((chirp, chirp_rev))\n",
    "    return chirp\n",
    "chirp1 = gen_chirp(3000, 400000, 0.01, 48000)\n",
    "chirp2 = gen_chirp(7000, 400000, 0.01, 48000)\n",
    "\n",
    "def locate_chirp(data, chirp):\n",
    "    corr = np.correlate(data, chirp, mode='full')\n",
    "    loc = np.argmax(corr)\n",
    "    return loc\n",
    "\n",
    "def play_and_record_precise(data, rate):\n",
    "    # get sine wave with 440Hz for 0.2s\n",
    "    sine_wav = sine_wave_samples(440, 1 * 440, 0, 1, rate)\n",
    "    audio = np.concatenate((sine_wav, chirp1, data, chirp2, np.zeros(int(0.5*rate))))\n",
    "\n",
    "    record_wave, play_wave, rate = play_and_record(audio, rate, discard=False)\n",
    "\n",
    "    magic_correction = 0\n",
    "\n",
    "    chirp1_loc = locate_chirp(record_wave, chirp1) + magic_correction\n",
    "    chirp2_loc = locate_chirp(record_wave, chirp2) + magic_correction\n",
    "    chirp2_loc = min(chirp2_loc, len(record_wave))\n",
    "\n",
    "    start = chirp1_loc + 1\n",
    "    end = chirp2_loc - len(chirp2) + 1\n",
    "\n",
    "    return record_wave[start:end], rate\n",
    "\n",
    "def play_and_record_precise2(data, rate):\n",
    "    # get sine wave with 440Hz for 0.2s\n",
    "    sine_wav = sine_wave_samples(440, 1 * 440, 0, 1, rate)\n",
    "    audio = np.concatenate((sine_wav, chirp1, data, chirp2, np.zeros(int(0.5*rate))))\n",
    "\n",
    "    record_wave, play_wave, rate = play_and_record(audio, rate, discard=False)\n",
    "\n",
    "    magic_correction = 0\n",
    "\n",
    "    chirp1_loc = locate_chirp(record_wave, chirp1) + magic_correction\n",
    "    chirp2_loc = locate_chirp(record_wave, chirp2) + magic_correction\n",
    "    chirp2_loc = min(chirp2_loc, len(record_wave))\n",
    "\n",
    "    start = chirp1_loc + 1\n",
    "    end = chirp2_loc - len(chirp2) + 1\n",
    "    print(start, end)\n",
    "\n",
    "    return record_wave[start:end], rate, record_wave"
   ]
  },
  {
   "cell_type": "code",
   "execution_count": 41,
   "metadata": {},
   "outputs": [
    {
     "name": "stderr",
     "output_type": "stream",
     "text": [
      "The cached device pixel ratio value was stale on window update.  Please file a QTBUG which explains how to reproduce.\n",
      "The cached device pixel ratio value was stale on window update.  Please file a QTBUG which explains how to reproduce.\n",
      "The cached device pixel ratio value was stale on window update.  Please file a QTBUG which explains how to reproduce.\n",
      "The cached device pixel ratio value was stale on window update.  Please file a QTBUG which explains how to reproduce.\n",
      "qt.qpa.wayland.textinput: virtual void QtWaylandClient::QWaylandTextInputv3::zwp_text_input_v3_leave(wl_surface*) Got leave event for surface 0x0 focused surface 0x650b28b774a0\n",
      "qt.qpa.wayland.textinput: virtual void QtWaylandClient::QWaylandTextInputv3::zwp_text_input_v3_leave(wl_surface*) Got leave event for surface 0x0 focused surface 0x650b290de790\n",
      "qt.qpa.wayland.textinput: virtual void QtWaylandClient::QWaylandTextInputv3::zwp_text_input_v3_leave(wl_surface*) Got leave event for surface 0x0 focused surface 0x650b29134090\n"
     ]
    }
   ],
   "source": [
    "rate = 48000\n",
    "freq = 10\n",
    "cycles = 1\n",
    "amplitude = 1\n",
    "window_size = int(rate / freq * cycles)\n",
    "\n",
    "one = sine_wave_samples(freq, cycles, 0, amplitude)\n",
    "\n",
    "def plot_modulation(one, zero, title_prefix):\n",
    "    # zero_shift = zero * one\n",
    "    # zero_smooth = np.convolve(zero_shift, np.ones(window_size) / window_size, mode='full')\n",
    "    # fig, axs = plt.subplots(2, 2)\n",
    "    # axs[0, 0].plot(one)\n",
    "    # axs[0, 0].set_title(f\"{title_prefix} One\")\n",
    "    # axs[0, 0].set_ylim([-1, 1])\n",
    "    # axs[0, 1].plot(zero)\n",
    "    # axs[0, 1].set_title(f\"{title_prefix} Zero\")\n",
    "    # axs[0, 1].set_ylim([-1, 1])\n",
    "    # axs[1, 0].plot(zero_shift)\n",
    "    # axs[1, 0].set_title(f\"{title_prefix} Zero Shift\")\n",
    "    # axs[1, 0].set_ylim([-1, 1])\n",
    "    # axs[1, 1].plot(zero_smooth)\n",
    "    # axs[1, 1].set_title(f\"{title_prefix} Zero Smooth\")\n",
    "    # axs[1, 1].set_ylim([-1, 1])\n",
    "    # axs[1, 1].axvline(x=window_size, color='r', linestyle='--')\n",
    "    # axs[1, 1].annotate(f'Result: {zero_smooth[window_size]:.2e}', xy=(0.5, 0.9), xycoords='axes fraction', fontsize=10, ha='center', va='center', bbox=dict(boxstyle=\"round,pad=0.3\", edgecolor='black', facecolor='white'))\n",
    "    # plt.show()\n",
    "    one_shift = one * one\n",
    "    one_smooth = np.correlate(one_shift, np.ones(window_size) / window_size, mode='full')\n",
    "    zero_shift = zero * one\n",
    "    zero_smooth = np.correlate(zero_shift, np.ones(window_size) / window_size, mode='full')\n",
    "    fig, axs = plt.subplots(2, 3)\n",
    "    axs[0, 0].plot(one)\n",
    "    axs[0, 0].set_title(f\"{title_prefix} One\")\n",
    "    axs[0, 0].set_ylim([-1, 1])\n",
    "    axs[0, 1].plot(one_shift)\n",
    "    axs[0, 1].set_title(f\"{title_prefix} One Shift\")\n",
    "    axs[0, 1].set_ylim([-1, 1])\n",
    "    axs[0, 2].plot(one_smooth)\n",
    "    axs[0, 2].set_title(f\"{title_prefix} One Smooth\")\n",
    "    axs[0, 2].set_ylim([-1, 1])\n",
    "    axs[0, 2].axvline(x=window_size, color='r', linestyle='--')\n",
    "    axs[0, 2].annotate(f'Result: {one_smooth[window_size]:.2e}', xy=(0.5, 0.9), xycoords='axes fraction', fontsize=10, ha='center', va='center', bbox=dict(boxstyle=\"round,pad=0.3\", edgecolor='black', facecolor='white'))\n",
    "    axs[1, 0].plot(zero)\n",
    "    axs[1, 0].set_title(f\"{title_prefix} Zero\")\n",
    "    axs[1, 0].set_ylim([-1, 1])\n",
    "    axs[1, 1].plot(zero_shift)\n",
    "    axs[1, 1].set_title(f\"{title_prefix} Zero Shift\")\n",
    "    axs[1, 1].set_ylim([-1, 1])\n",
    "    axs[1, 2].plot(zero_smooth)\n",
    "    axs[1, 2].set_title(f\"{title_prefix} Zero Smooth\")\n",
    "    axs[1, 2].set_ylim([-1, 1])\n",
    "    axs[1, 2].axvline(x=window_size, color='r', linestyle='--')\n",
    "    axs[1, 2].annotate(f'Result: {zero_smooth[window_size]:.2e}', xy=(0.5, 0.9), xycoords='axes fraction', fontsize=10, ha='center', va='center', bbox=dict(boxstyle=\"round,pad=0.3\", edgecolor='black', facecolor='white'))\n",
    "    plt.show()\n",
    "\n",
    "# ASK, Amplitude Shift Keying\n",
    "zero_ask = sine_wave_samples(freq, cycles, 0, 0.5)\n",
    "plot_modulation(one, zero_ask, \"ASK\")\n",
    "# one = 0.5\n",
    "# zero = 0.25\n",
    "\n",
    "# FSK, Frequency Shift Keying\n",
    "zero_fsk = sine_wave_samples(freq * 2, cycles * 2, 0, 1)\n",
    "plot_modulation(one, zero_fsk, \"FSK\")\n",
    "# one = 0.5\n",
    "# zero = 0\n",
    "\n",
    "# PSK, Phase Shift Keying\n",
    "zero_psk = sine_wave_samples(freq, cycles, np.pi, 1)\n",
    "plot_modulation(one, zero_psk, \"PSK pi\")\n",
    "# one = 0.5\n",
    "# zero = -0.5\n",
    "\n",
    "# PSK, Phase Shift Keying\n",
    "zero_psk = sine_wave_samples(freq, cycles, np.pi/2, 1)\n",
    "plot_modulation(one, zero_psk, \"PSK pi/2\")\n",
    "# one = 0.5\n",
    "# zero = 0"
   ]
  },
  {
   "cell_type": "code",
   "execution_count": 82,
   "metadata": {},
   "outputs": [
    {
     "name": "stdout",
     "output_type": "stream",
     "text": [
      "249.74999999999986\n",
      "-1.5727643521394e-13\n",
      "2.8395679091495346e-13\n",
      "-1.2243277947546984e-13\n"
     ]
    },
    {
     "name": "stderr",
     "output_type": "stream",
     "text": [
      "The cached device pixel ratio value was stale on window update.  Please file a QTBUG which explains how to reproduce.\n",
      "qt.qpa.wayland.textinput: virtual void QtWaylandClient::QWaylandTextInputv3::zwp_text_input_v3_leave(wl_surface*) Got leave event for surface 0x0 focused surface 0x58dae9a30bd0\n"
     ]
    }
   ],
   "source": [
    "rate = 10000\n",
    "freq = 10\n",
    "cycles = 1\n",
    "amplitude = 1\n",
    "window_size = int(rate / freq * cycles)\n",
    "\n",
    "duration = cycles / freq\n",
    "timepoints = np.linspace(0, duration, int(rate * duration))\n",
    "\n",
    "one = np.sin(2 * np.pi * freq * timepoints)\n",
    "zero = np.cos(2 * np.pi * 2 * freq * timepoints)\n",
    "# one = np.ones(len(timepoints))\n",
    "carrier = np.cos(2 * np.pi * 200 * timepoints)\n",
    "\n",
    "one_passband = one * carrier\n",
    "zero_passband = zero * carrier\n",
    "\n",
    "one_decode = one_passband * carrier\n",
    "\n",
    "plot_fft(one_decode, rate)\n",
    "\n",
    "# plt.plot(one_passband)\n",
    "# plt.plot(one_decode)\n",
    "# (one_decode, rate)\n",
    "print(np.dot(one_decode, np.sin(2 * np.pi * freq * timepoints)))\n",
    "print(np.dot(one_decode, np.cos(2 * np.pi * freq * timepoints)))\n",
    "\n",
    "print(np.dot(one_decode, np.sin(2 * np.pi * 2 * freq * timepoints)))\n",
    "print(np.dot(one_decode, np.cos(2 * np.pi * 2 * freq * timepoints)))"
   ]
  },
  {
   "cell_type": "code",
   "execution_count": 185,
   "metadata": {},
   "outputs": [
    {
     "data": {
      "text/plain": [
       "[<matplotlib.lines.Line2D at 0x7c6ea3d5d0a0>]"
      ]
     },
     "execution_count": 185,
     "metadata": {},
     "output_type": "execute_result"
    }
   ],
   "source": [
    "rate = 20\n",
    "\n",
    "freq = 10\n",
    "cycles = 20\n",
    "amplitude = 1\n",
    "window_size = int(rate / freq * cycles)\n",
    "\n",
    "duration = cycles / freq\n",
    "x = np.linspace(0, duration, int(rate * duration))\n",
    "x_more = np.linspace(0, duration, int(rate * duration * 10))\n",
    "\n",
    "wave = sine_wave(freq)(x)\n",
    "\n",
    "plt.plot(x, wave)\n",
    "# plt.plot(x_more, sine_wave(freq)(x_more))\n",
    "\n",
    "# plot_fft(wave, rate)"
   ]
  },
  {
   "cell_type": "code",
   "execution_count": 186,
   "metadata": {},
   "outputs": [],
   "source": [
    "t = np.linspace(0, 1, 48000)\n",
    "# wave = sine_wave(200)(t) * sine_wave(1000)(t)\n",
    "wave = sine_wave(200)(t) * sine_wave(200, np.pi / 2)(t)\n",
    "plot_fft(wave, 48000)"
   ]
  },
  {
   "cell_type": "code",
   "execution_count": 187,
   "metadata": {},
   "outputs": [],
   "source": [
    "plot_wav_file(\"../build/temp.wav\", seconds=None)"
   ]
  },
  {
   "cell_type": "code",
   "execution_count": 352,
   "metadata": {},
   "outputs": [],
   "source": [
    "rate = 48000\n",
    "duration = 5\n",
    "\n",
    "none_wave = np.zeros(int(rate * duration))\n",
    "\n",
    "noise_wave, _, rate = play_and_record(none_wave, rate)"
   ]
  },
  {
   "cell_type": "code",
   "execution_count": 353,
   "metadata": {},
   "outputs": [
    {
     "name": "stdout",
     "output_type": "stream",
     "text": [
      "noise power: 0.3337700366973877\n"
     ]
    }
   ],
   "source": [
    "# calculate noise power\n",
    "noise_power = np.sum(noise_wave ** 2) / len(noise_wave) * rate\n",
    "print(f\"noise power: {noise_power}\")"
   ]
  },
  {
   "cell_type": "code",
   "execution_count": 354,
   "metadata": {},
   "outputs": [],
   "source": [
    "plot_fft(noise_wave, rate)"
   ]
  },
  {
   "cell_type": "code",
   "execution_count": 355,
   "metadata": {},
   "outputs": [],
   "source": [
    "class FrequencyData:\n",
    "    def __init__(self, freq, wave, signal, noise):\n",
    "        self.freq = freq\n",
    "        self.wave = wave\n",
    "        self.s_div_n = signal / noise\n",
    "        print(f\"freq={freq} S/N={self.s_div_n}\")\n",
    "freq_data_map = {}"
   ]
  },
  {
   "cell_type": "code",
   "execution_count": 357,
   "metadata": {},
   "outputs": [
    {
     "name": "stdout",
     "output_type": "stream",
     "text": [
      "freq=200 S/N=6180.28564453125\n",
      "freq=300 S/N=10547.876953125\n",
      "freq=400 S/N=6437.01708984375\n",
      "freq=500 S/N=2790.4609375\n",
      "freq=600 S/N=20332.91015625\n",
      "freq=700 S/N=23913.248046875\n",
      "freq=800 S/N=2184.93408203125\n",
      "freq=900 S/N=8733.72265625\n",
      "freq=1000 S/N=9756.5615234375\n",
      "freq=1500 S/N=33645.984375\n",
      "freq=2000 S/N=33775.51953125\n",
      "freq=2500 S/N=41350.671875\n",
      "freq=3000 S/N=5711.15185546875\n",
      "freq=3500 S/N=2145.159912109375\n",
      "freq=4000 S/N=10867.0\n",
      "freq=4500 S/N=21287.65625\n",
      "freq=5000 S/N=3625.360595703125\n",
      "freq=5500 S/N=506.87750244140625\n",
      "freq=6000 S/N=9915.4169921875\n",
      "freq=6500 S/N=1332.413818359375\n",
      "freq=7000 S/N=2423.74658203125\n",
      "freq=7500 S/N=833.5259399414062\n",
      "freq=8000 S/N=4672.8427734375\n",
      "freq=8500 S/N=8913.705078125\n",
      "freq=9000 S/N=9868.794921875\n",
      "freq=9500 S/N=5061.52880859375\n",
      "freq=10000 S/N=696.3435668945312\n",
      "freq=10500 S/N=1472.89501953125\n",
      "freq=11000 S/N=1352.660400390625\n",
      "freq=11500 S/N=798.1116333007812\n",
      "freq=12000 S/N=100.519287109375\n",
      "freq=12500 S/N=949.373779296875\n",
      "freq=13000 S/N=1223.51904296875\n",
      "freq=13500 S/N=2107.007080078125\n",
      "freq=14000 S/N=128.87876892089844\n",
      "freq=14500 S/N=518.5474243164062\n",
      "freq=15000 S/N=248.63587951660156\n",
      "freq=15500 S/N=277.85186767578125\n",
      "freq=16000 S/N=806.0550537109375\n",
      "freq=16500 S/N=239.56541442871094\n",
      "freq=17000 S/N=199.45892333984375\n",
      "freq=17500 S/N=61.07709503173828\n",
      "freq=18000 S/N=62.22216796875\n",
      "freq=18500 S/N=18.657855987548828\n",
      "freq=19000 S/N=140.76683044433594\n",
      "freq=19500 S/N=25.81694984436035\n"
     ]
    }
   ],
   "source": [
    "def test_freq_SNR(freq):\n",
    "    rate = 48000\n",
    "    duration = 1.5\n",
    "    cycles = duration * freq\n",
    "    phase = 0\n",
    "    amplitude = 1\n",
    "\n",
    "    # print(f\"Freq = {freq}, Period (s) = {1 / freq}\")\n",
    "\n",
    "    wave = sine_wave_samples(freq, cycles, phase, amplitude, rate)\n",
    "    record_wave, play_wave, rate = play_and_record(wave, rate)\n",
    "\n",
    "    # calculate signal power\n",
    "    signal_noise_power = np.sum(record_wave ** 2) / len(record_wave) * rate\n",
    "    signal_power = signal_noise_power - noise_power\n",
    "    # print(f\"freq={freq} signal power: {signal_power}\")\n",
    "\n",
    "    # calculate SNR\n",
    "    # print(f\"freq={freq} S/N={signal_power / noise_power}\")\n",
    "    # print(f\"freq={freq} SNR={10 * np.log10(signal_power / noise_power)}\")\n",
    "\n",
    "    freq_data_map[freq] = FrequencyData(freq, record_wave, signal_power, noise_power)\n",
    "\n",
    "for freq in range(200, 1000, 100):\n",
    "    test_freq_SNR(freq)\n",
    "\n",
    "for freq in range(1000, 10000, 500):\n",
    "    test_freq_SNR(freq)\n",
    "\n",
    "for freq in range(10000, 15000, 500):\n",
    "    test_freq_SNR(freq)\n",
    "\n",
    "for freq in range(15000, 20000, 500):\n",
    "    test_freq_SNR(freq)\n",
    "\n",
    "# for freq in [100, 200, 400, 800, 1600, 3200, 6400, 12800]:\n",
    "#     test_freq_SNR(freq)"
   ]
  },
  {
   "cell_type": "code",
   "execution_count": 368,
   "metadata": {},
   "outputs": [
    {
     "data": {
      "text/plain": [
       "[<matplotlib.lines.Line2D at 0x266c9d93860>]"
      ]
     },
     "execution_count": 368,
     "metadata": {},
     "output_type": "execute_result"
    }
   ],
   "source": [
    "# plot_fft(freq_data_map[13000].wave, rate)\n",
    "# plot freq and S/N\n",
    "freqs = sorted(list(freq_data_map.keys()))\n",
    "s_div_n = [freq_data_map[freq].s_div_n for freq in freqs]\n",
    "# plt.plot(freqs, s_div_n)\n",
    "plt.title(\"Freq - log2(1 + S/N)\")\n",
    "plt.plot(freqs, np.log2(1 + np.array(s_div_n)))"
   ]
  },
  {
   "cell_type": "code",
   "execution_count": 132,
   "metadata": {},
   "outputs": [
    {
     "name": "stderr",
     "output_type": "stream",
     "text": [
      "qt.qpa.wayland.textinput: virtual void QtWaylandClient::QWaylandTextInputv3::zwp_text_input_v3_leave(wl_surface*) Got leave event for surface 0x0 focused surface 0x5c0a3be4d130\n"
     ]
    }
   ],
   "source": [
    "# plot_audio(freq_data_map[13500].wave, rate)\n",
    "# plot_fft(freq_data_map[13500].wave, rate)\n",
    "# plot_audio(sine_wave(13500)(np.linspace(0, 0.2, 48000)), 48000)\n",
    "\n",
    "x = np.linspace(0, 0.01, int(0.01*48000))\n",
    "x_fine = np.linspace(0, 0.01, 10000)\n",
    "y = sine_wave(13500)(x)\n",
    "y_fine = sine_wave(13500)(x_fine)\n",
    "# plot graph and point\n",
    "plt.plot(x, y)\n",
    "plt.plot(x_fine, y_fine)\n",
    "plt.scatter(x, y)\n",
    "plt.show()"
   ]
  },
  {
   "cell_type": "code",
   "execution_count": 114,
   "metadata": {},
   "outputs": [
    {
     "name": "stdout",
     "output_type": "stream",
     "text": [
      "Channel Capacity: 22573.1796875 bps, 22.573179244995117 kbps\n"
     ]
    }
   ],
   "source": [
    "B = 13500 - 8500\n",
    "C = B * np.log2(1 + freq_data_map[8500].s_div_n)\n",
    "print(f\"Channel Capacity: {C} bps, {C/1000} kbps\")"
   ]
  },
  {
   "cell_type": "code",
   "execution_count": 369,
   "metadata": {},
   "outputs": [],
   "source": [
    "# try play square wave\n",
    "rate = 48000\n",
    "freq = 500\n",
    "duration = 1\n",
    "timepoints = np.linspace(0, duration, int(rate * duration))\n",
    "wave = square_wave(freq)(timepoints)\n",
    "record_wave, play_wave, rate = play_and_record(wave, rate)"
   ]
  },
  {
   "cell_type": "code",
   "execution_count": 375,
   "metadata": {},
   "outputs": [],
   "source": [
    "# try play sine wave\n",
    "rate = 48000\n",
    "freq = 500\n",
    "duration = 1\n",
    "timepoints = np.linspace(0, duration, int(rate * duration))\n",
    "wave = sine_wave(freq)(timepoints)\n",
    "record_wave, play_wave, rate = play_and_record(wave, rate)"
   ]
  },
  {
   "cell_type": "code",
   "execution_count": 161,
   "metadata": {},
   "outputs": [],
   "source": [
    "# try play triangle wave\n",
    "rate = 48000\n",
    "freq = 500\n",
    "duration = 1\n",
    "timepoints = np.linspace(0, duration, int(rate * duration))\n",
    "def triangle_wave(freq):\n",
    "    return lambda time_in_second: np.abs(2 * (time_in_second * freq - np.floor(time_in_second * freq + 0.5)))\n",
    "wave = triangle_wave(freq)(timepoints)\n",
    "record_wave, play_wave, rate = play_and_record(wave, rate)"
   ]
  },
  {
   "cell_type": "code",
   "execution_count": 127,
   "metadata": {},
   "outputs": [],
   "source": [
    "# try play a chord\n",
    "rate = 48000\n",
    "duration = 5\n",
    "timepoints = np.linspace(0, duration, int(rate * duration) + 1)\n",
    "wave = np.zeros(len(timepoints))\n",
    "count = 0\n",
    "frequencies = [261.63, 327.04, 392.45]\n",
    "\n",
    "for freq in frequencies:\n",
    "    # print(freq)\n",
    "    count += 1\n",
    "    wave += sine_wave(freq)(timepoints)\n",
    "wave /= count\n",
    "record_wave, play_wave, rate = play_and_record(wave, rate)"
   ]
  },
  {
   "cell_type": "code",
   "execution_count": 128,
   "metadata": {},
   "outputs": [
    {
     "name": "stdout",
     "output_type": "stream",
     "text": [
      "48000 47724\n"
     ]
    }
   ],
   "source": [
    "rate, wave = read_wave_file(\"../test-audio.wav\")\n",
    "wave = wave[int(0.7*rate):int(1.7*rate)]\n",
    "# sd.play(wave, rate)\n",
    "record, rate = play_and_record_precise(wave, rate)\n",
    "\n",
    "print(len(wave), len(record))"
   ]
  },
  {
   "cell_type": "code",
   "execution_count": 144,
   "metadata": {},
   "outputs": [],
   "source": [
    "rate, wave = read_wave_file(\"../test-audio.wav\")\n",
    "seconds = 2\n",
    "start_point = int(0.75 * rate)\n",
    "# carrier_wave = wave[start_point:start_point+int(rate * seconds)]\n",
    "carrier_wave = sine_wave(440)(np.linspace(0, seconds, int(rate * seconds), endpoint=False))\n",
    "\n",
    "# encode binary data to wave with frequency freq\n",
    "freq = 100\n",
    "bin1 = np.random.randint(0, 2, size=int(freq * seconds))\n",
    "samples_per_symbol = int(rate / freq)\n",
    "fsk_shift_freq = 440\n",
    "\n",
    "fsk_waves = []\n",
    "for i in range(len(bin1)):\n",
    "    bit = bin1[i]\n",
    "    start = i * samples_per_symbol\n",
    "    end = (i + 1) * samples_per_symbol\n",
    "    one = carrier_wave[start:end]\n",
    "    # shift freq by fsk_shift_freq Hz\n",
    "    zero = carrier_wave[start:end] * cosine_wave(fsk_shift_freq)(np.linspace(0, 1, samples_per_symbol, endpoint=False))\n",
    "    fsk_waves.append(one if bit == 1 else zero)\n",
    "fsk_wave1 = np.concatenate(fsk_waves)\n",
    "\n",
    "modulated_wave = fsk_wave1"
   ]
  },
  {
   "cell_type": "code",
   "execution_count": 145,
   "metadata": {},
   "outputs": [],
   "source": [
    "# receive_wave = modulated_wave\n",
    "receive_wave, rate = play_and_record_precise(modulated_wave, rate)\n",
    "# receive_wave, rate = play_and_record_precise(carrier_wave, rate)"
   ]
  },
  {
   "cell_type": "code",
   "execution_count": 147,
   "metadata": {},
   "outputs": [
    {
     "name": "stdout",
     "output_type": "stream",
     "text": [
      "97004 96000\n",
      "Similarity: 0.45\n"
     ]
    }
   ],
   "source": [
    "print(len(receive_wave), len(modulated_wave))\n",
    "if len(receive_wave) > len(modulated_wave):\n",
    "    receive_psk_wave = receive_wave[:len(modulated_wave)]\n",
    "else:\n",
    "    receive_psk_wave = np.concatenate((receive_wave, np.zeros(len(modulated_wave) - len(receive_wave))))\n",
    "\n",
    "receive_bits = np.zeros(len(bin1))\n",
    "for i in range(len(bin1)):\n",
    "    start = i * samples_per_symbol\n",
    "    end = (i + 1) * samples_per_symbol\n",
    "    one = carrier_wave[start:end]\n",
    "    zero = carrier_wave[start:end] * cosine_wave(fsk_shift_freq)(np.linspace(0, 1, samples_per_symbol, endpoint=False))\n",
    "\n",
    "    one_corr = np.dot(one, receive_psk_wave[start:end])\n",
    "    zero_corr = np.dot(zero, receive_psk_wave[start:end])\n",
    "   \n",
    "    print(one_corr, zero_corr)\n",
    "    bit = 1 if np.abs(one_corr) > np.abs(zero_corr) else 0\n",
    "    receive_bits[i] = bit\n",
    "\n",
    "print(bin1)\n",
    "\n",
    "similarity = np.sum(receive_bits == bin1) / len(bin1)\n",
    "# print(f\"Binary data: {binary_data}\")\n",
    "print(f\"Similarity: {similarity}\")"
   ]
  },
  {
   "cell_type": "code",
   "execution_count": 117,
   "metadata": {},
   "outputs": [
    {
     "name": "stdout",
     "output_type": "stream",
     "text": [
      "Min FSK freq: 1000\n",
      "2450 2400\n",
      "bit=1, truth=1, wave_len=56 one_corr = 0.5796708416119744, zero_corr = 0.18639372630364856\n",
      "bit=0, truth=0, wave_len=45 one_corr = 0.23382373333045506, zero_corr = 0.9449798879965285\n",
      "bit=0, truth=0, wave_len=48 one_corr = 0.3322032630853176, zero_corr = 1.0369042071720256\n",
      "bit=0, truth=0, wave_len=49 one_corr = 0.24895658111369584, zero_corr = 0.9850747331348807\n",
      "bit=0, truth=0, wave_len=48 one_corr = 0.274384364958881, zero_corr = 0.9394127411348869\n",
      "bit=1, truth=1, wave_len=54 one_corr = 0.5702854945850174, zero_corr = 0.16052222188778456\n",
      "bit=0, truth=0, wave_len=44 one_corr = 0.21013670411121, zero_corr = 0.9500805925483123\n",
      "bit=0, truth=0, wave_len=48 one_corr = 0.2815951204276254, zero_corr = 1.0110102110160355\n",
      "bit=0, truth=0, wave_len=49 one_corr = 0.23218137123919552, zero_corr = 0.9952529673962611\n",
      "bit=0, truth=0, wave_len=48 one_corr = 0.28711796151720653, zero_corr = 0.9376595342050116\n",
      "bit=1, truth=1, wave_len=56 one_corr = 0.5935757496145704, zero_corr = 0.19065295237467283\n",
      "bit=1, truth=1, wave_len=48 one_corr = 0.6669839809762872, zero_corr = 0.24436294199382835\n",
      "bit=1, truth=1, wave_len=48 one_corr = 0.5469451083943015, zero_corr = 0.22006526905597848\n",
      "bit=0, truth=0, wave_len=44 one_corr = 0.2935701539779014, zero_corr = 0.9326774994401481\n",
      "bit=1, truth=1, wave_len=53 one_corr = 0.5591942727712971, zero_corr = 0.15997204813226334\n",
      "bit=0, truth=0, wave_len=44 one_corr = 0.3323058927665, zero_corr = 0.8672662849035185\n",
      "bit=1, truth=1, wave_len=56 one_corr = 0.6353723454795275, zero_corr = 0.14917213038614835\n",
      "bit=1, truth=1, wave_len=45 one_corr = 0.5948889950220553, zero_corr = 0.1855948373427425\n",
      "bit=0, truth=0, wave_len=44 one_corr = 0.31455886122279125, zero_corr = 0.9802256296681029\n",
      "bit=1, truth=1, wave_len=56 one_corr = 0.5816874819289028, zero_corr = 0.15254185889301347\n",
      "bit=1, truth=1, wave_len=48 one_corr = 0.7270270288457206, zero_corr = 0.2066263199980949\n",
      "bit=1, truth=1, wave_len=50 one_corr = 0.6611365800037903, zero_corr = 0.2562497898901323\n",
      "bit=1, truth=1, wave_len=48 one_corr = 0.6160564734019984, zero_corr = 0.1689304478478788\n",
      "bit=1, truth=1, wave_len=49 one_corr = 0.6357080791549331, zero_corr = 0.21126573238936727\n",
      "bit=1, truth=1, wave_len=47 one_corr = 0.624399060683438, zero_corr = 0.15390242286271832\n",
      "bit=0, truth=0, wave_len=43 one_corr = 0.17711931292326505, zero_corr = 0.9593449880577894\n",
      "bit=0, truth=0, wave_len=49 one_corr = 0.23551678827356506, zero_corr = 1.0180743366986984\n",
      "bit=0, truth=0, wave_len=49 one_corr = 0.1972808657575676, zero_corr = 0.9306353974421878\n",
      "bit=1, truth=1, wave_len=55 one_corr = 0.5965995743663712, zero_corr = 0.16264118877377962\n",
      "bit=1, truth=1, wave_len=46 one_corr = 0.6516724559272977, zero_corr = 0.2253161646783115\n",
      "bit=0, truth=0, wave_len=44 one_corr = 0.28045166164184915, zero_corr = 1.0003231505610697\n",
      "bit=0, truth=0, wave_len=49 one_corr = 0.273540278139187, zero_corr = 1.0066935481160484\n",
      "bit=0, truth=0, wave_len=49 one_corr = 0.26208154497130653, zero_corr = 0.9472677303239155\n",
      "bit=1, truth=1, wave_len=55 one_corr = 0.6148576445217412, zero_corr = 0.17997297428917097\n",
      "bit=1, truth=1, wave_len=48 one_corr = 0.6708936112208707, zero_corr = 0.2357275505322169\n",
      "bit=1, truth=1, wave_len=48 one_corr = 0.5263440613985827, zero_corr = 0.23545348137279634\n",
      "bit=0, truth=0, wave_len=43 one_corr = 0.16522123657640786, zero_corr = 0.9463583881981152\n",
      "bit=0, truth=0, wave_len=49 one_corr = 0.26419532703602927, zero_corr = 1.0062620307936492\n",
      "bit=1, truth=1, wave_len=53 one_corr = 0.6291027900228263, zero_corr = 0.2008032161109724\n",
      "bit=0, truth=0, wave_len=44 one_corr = 0.3110467455649053, zero_corr = 0.8823998088438635\n",
      "bit=1, truth=1, wave_len=54 one_corr = 0.5219630540770162, zero_corr = 0.13500963315721531\n",
      "bit=0, truth=0, wave_len=43 one_corr = 0.2270964226017448, zero_corr = 0.9552827225278455\n",
      "bit=0, truth=0, wave_len=49 one_corr = 0.33184878575968585, zero_corr = 1.0269203111720548\n",
      "bit=1, truth=1, wave_len=55 one_corr = 0.5950335866536987, zero_corr = 0.22261473642411025\n",
      "bit=1, truth=1, wave_len=49 one_corr = 0.6908672154099127, zero_corr = 0.2644263003231486\n",
      "bit=1, truth=1, wave_len=47 one_corr = 0.5978579887298143, zero_corr = 0.19095886855206112\n",
      "bit=0, truth=0, wave_len=43 one_corr = 0.2731745355947352, zero_corr = 0.9867156858131706\n",
      "bit=0, truth=0, wave_len=49 one_corr = 0.2554850389682479, zero_corr = 0.9932854415610772\n",
      "bit=1, truth=1, wave_len=55 one_corr = 0.6462965483590379, zero_corr = 0.19341561026177315\n",
      "bit=1, truth=1, wave_len=47 one_corr = 0.5534692836879606, zero_corr = 0.2585017612544019\n",
      "Similarity: 1.0\n",
      "Transfer Time: 0.05 s, 1000.0 bps, 1.0 kbps\n"
     ]
    }
   ],
   "source": [
    "data_len = 50\n",
    "bin1 = np.random.randint(0, 2, size=data_len)\n",
    "bin2 = np.random.randint(0, 2, size=data_len)\n",
    "\n",
    "def fsk_modulation(binary_data, rate, symbol_freq, fsk_freq):\n",
    "    symbol_samples = int(rate / symbol_freq)\n",
    "    symbol_time = 1 / symbol_freq\n",
    "\n",
    "    print(f\"Min FSK freq: {symbol_freq}\")\n",
    "    assert fsk_freq >= symbol_freq\n",
    "\n",
    "    one = sine_wave(fsk_freq)(np.linspace(0, symbol_time, symbol_samples, endpoint=False))\n",
    "    zero = sine_wave(2*fsk_freq)(np.linspace(0, symbol_time, symbol_samples, endpoint=False))\n",
    "\n",
    "    fsk_wave = np.concatenate([one if bit == 1 else zero for bit in binary_data])\n",
    "    return fsk_wave\n",
    "\n",
    "def fsk_demodulation(expected_bits, receive_wave, rate, symbol_freq, fsk_freq):\n",
    "    symbol_samples = int(rate / symbol_freq)\n",
    "    symbol_time = 1 / symbol_freq\n",
    "\n",
    "    one = sine_wave(fsk_freq)(np.linspace(0, symbol_time, symbol_samples, endpoint=False))\n",
    "    zero = sine_wave(2*fsk_freq)(np.linspace(0, symbol_time, symbol_samples, endpoint=False))\n",
    "\n",
    "    receive_fsk_wave = receive_wave\n",
    "\n",
    "    num_recv = 0\n",
    "    receive_bits = np.zeros(expected_bits)\n",
    "    start = 0\n",
    "    wave_lens = []\n",
    "    while num_recv < expected_bits:\n",
    "        end = start + int(symbol_samples*1.2)\n",
    "        wave = receive_fsk_wave[start:end]\n",
    "        wave = np.concatenate((wave, np.zeros(end - start - len(wave))))\n",
    "\n",
    "        # plot_audio(wave, rate, seconds=None)\n",
    "        # plot_fft(wave, rate, seconds=None, freq_range=(500, 2500))\n",
    "\n",
    "        one_corr_arr = np.correlate(wave, one, 'full')[:len(wave)]\n",
    "        zero_corr_arr = np.correlate(wave, zero, 'full')[:len(wave)]\n",
    "        one_corr = np.max(one_corr_arr)\n",
    "        zero_corr = np.max(zero_corr_arr)\n",
    "        bit = 1 if one_corr > zero_corr else 0\n",
    "\n",
    "        wave_len = np.argmax(one_corr_arr) if bit == 1 else np.argmax(zero_corr_arr)\n",
    "        start += wave_len\n",
    "        wave_lens.append(wave_len)\n",
    "\n",
    "        print(f\"bit={bit}, truth={bin1[num_recv]}, wave_len={wave_len} one_corr = {one_corr}, zero_corr = {zero_corr}\")\n",
    "\n",
    "        receive_bits[num_recv] = bit\n",
    "        num_recv += 1\n",
    "    return receive_bits\n",
    "\n",
    "rate = 48000\n",
    "\n",
    "symbol_freq1 = 1000\n",
    "fsk_freq1 = symbol_freq1\n",
    "fsk_wave1 = fsk_modulation(bin1, rate, symbol_freq1, fsk_freq1)\n",
    "\n",
    "# symbol_freq2 = 1500\n",
    "# fsk_freq2 = symbol_freq2\n",
    "# fsk_wave2 = fsk_modulation(bin2, rate, symbol_freq2, fsk_freq2)\n",
    "\n",
    "# fsk_wave = np.zeros(max(len(fsk_wave1), len(fsk_wave2)))\n",
    "# fsk_wave[:len(fsk_wave1)] += fsk_wave1\n",
    "# fsk_wave[:len(fsk_wave2)] += fsk_wave2\n",
    "# fsk_wave /= 2\n",
    "\n",
    "fsk_wave = fsk_wave1\n",
    "\n",
    "record_wave, rate = play_and_record_precise(fsk_wave, rate)\n",
    "print(len(record_wave), len(fsk_wave))\n",
    "\n",
    "receive_bits = fsk_demodulation(len(bin1), record_wave.copy(), rate, symbol_freq1, fsk_freq1)\n",
    "\n",
    "similarity = np.sum(receive_bits == bin1) / len(bin1)\n",
    "print(f\"Similarity: {similarity}\")\n",
    "\n",
    "\n",
    "transfer_time = len(fsk_wave) / rate\n",
    "bits = len(bin1)\n",
    "bps = bits / transfer_time\n",
    "print(f\"Transfer Time: {transfer_time} s, {bps} bps, {bps/1000} kbps\")"
   ]
  },
  {
   "cell_type": "code",
   "execution_count": 121,
   "metadata": {},
   "outputs": [
    {
     "name": "stderr",
     "output_type": "stream",
     "text": [
      "qt.qpa.wayland.textinput: virtual void QtWaylandClient::QWaylandTextInputv3::zwp_text_input_v3_leave(wl_surface*) Got leave event for surface 0x0 focused surface 0x5a5294ae5020\n"
     ]
    }
   ],
   "source": [
    "# plot_audio(fsk_wave, rate)\n",
    "# plot_audio(record_wave, rate)\n",
    "plt.plot(fsk_wave * 0.03)\n",
    "plt.plot(record_wave)\n",
    "for i in range(len(bin1)):\n",
    "    plt.axvline(x=i*rate/symbol_freq1, color='r', linestyle='--')"
   ]
  },
  {
   "cell_type": "code",
   "execution_count": 85,
   "metadata": {},
   "outputs": [
    {
     "name": "stderr",
     "output_type": "stream",
     "text": [
      "The cached device pixel ratio value was stale on window update.  Please file a QTBUG which explains how to reproduce.\n",
      "qt.qpa.wayland.textinput: virtual void QtWaylandClient::QWaylandTextInputv3::zwp_text_input_v3_leave(wl_surface*) Got leave event for surface 0x0 focused surface 0x5a5295142180\n"
     ]
    }
   ],
   "source": [
    "plot_fft(record_wave, rate, seconds=None, freq_range=(0, 4500))"
   ]
  },
  {
   "cell_type": "code",
   "execution_count": 106,
   "metadata": {},
   "outputs": [
    {
     "data": {
      "text/plain": [
       "[<matplotlib.lines.Line2D at 0x716a75ff7b60>]"
      ]
     },
     "execution_count": 106,
     "metadata": {},
     "output_type": "execute_result"
    },
    {
     "name": "stderr",
     "output_type": "stream",
     "text": [
      "qt.qpa.wayland.textinput: virtual void QtWaylandClient::QWaylandTextInputv3::zwp_text_input_v3_leave(wl_surface*) Got leave event for surface 0x0 focused surface 0x650b28899080\n"
     ]
    }
   ],
   "source": [
    "# plot_audio(receive_wave, rate, seconds=None)\n",
    "plt.plot(receive_wave)"
   ]
  },
  {
   "cell_type": "code",
   "execution_count": 137,
   "metadata": {},
   "outputs": [
    {
     "name": "stdout",
     "output_type": "stream",
     "text": [
      "Min PSK freq: 200\n",
      "53371 55791\n",
      "2420 2400\n"
     ]
    }
   ],
   "source": [
    "data_len = 10\n",
    "# binary_data = np.array([1, 0, 1, 0, 1, 0, 1, 0, 1, 0])\n",
    "bin1 = np.random.randint(0, 2, size=data_len)\n",
    "# binary_data = np.ones(data_len)\n",
    "# binary_data = np.zeros(data_len)\n",
    "bin1\n",
    "\n",
    "# PSK modulation\n",
    "rate = 48000\n",
    "\n",
    "symbol_freq1 = 200\n",
    "symbol_samples = int(rate / symbol_freq1) \n",
    "symbol_time = 1 / symbol_freq1\n",
    "symbol_times = np.linspace(0, symbol_time, symbol_samples, endpoint=False)\n",
    "\n",
    "psk_freq = 400\n",
    "\n",
    "transfer_time = len(bin1) * symbol_time\n",
    "# carrier_freq = 2000\n",
    "# def carrier_wave_f(samples):\n",
    "#     return cosine_wave(carrier_freq)(np.linspace(0, samples / rate, samples, endpoint=False))\n",
    "# carrier_wave = carrier_wave_f(len(bin1) * symbol_samples)\n",
    "\n",
    "print(f\"Min PSK freq: {symbol_freq1}\")\n",
    "assert psk_freq >= symbol_freq1\n",
    "\n",
    "one = sine_wave(psk_freq)(symbol_times)\n",
    "zero = sine_wave(psk_freq, np.pi)(symbol_times)\n",
    "\n",
    "psk_wave = np.concatenate([one if bit == 1 else zero for bit in bin1])\n",
    "\n",
    "# play_wave = psk_wave * carrier_wave\n",
    "\n",
    "record_wave, rate, raw_record_wave = play_and_record_precise2(psk_wave, rate)\n",
    "print(len(record_wave), len(psk_wave))\n",
    "\n",
    "\n",
    "# # plot_fft(record_wave, rate, seconds=None)\n",
    "\n",
    "# # decode fsk_wave\n",
    "# # receive_wave = record_wave.copy()\n",
    "# # if len(receive_wave) > len(fsk_wave):\n",
    "# #     receive_fsk_wave = receive_wave[:len(fsk_wave)]\n",
    "# # else:\n",
    "# #     receive_fsk_wave = np.concatenate((receive_wave, np.zeros(len(fsk_wave) - len(receive_wave))))\n",
    "# # receive_bits = np.zeros(len(binary_data))\n",
    "# # for i in range(len(binary_data)):\n",
    "# #     start = i * symbol_samples\n",
    "# #     end = (i + 1) * symbol_samples\n",
    "# #     one_corr = np.dot(one, receive_fsk_wave[start:end])\n",
    "# #     zero_corr = np.dot(zero, receive_fsk_wave[start:end])\n",
    "# #     bit = 1 if np.abs(one_corr) > np.abs(zero_corr) else 0\n",
    "# #     receive_bits[i] = bit\n",
    "# # similarity = np.sum(receive_bits == binary_data) / len(binary_data)\n",
    "# # print(f\"Similarity: {similarity}\")\n",
    "\n",
    "# # with time sync\n",
    "# receive_wave = record_wave.copy()\n",
    "# receive_psk_wave = receive_wave * carrier_wave_f(len(receive_wave))\n",
    "# receive_psk_wave = low_pass_filter(receive_psk_wave, rate, carrier_freq)\n",
    "# num_recv = 0\n",
    "# receive_bits = np.zeros(len(bin1))\n",
    "# start = 0\n",
    "# wave_lens = []\n",
    "# while num_recv < len(bin1):\n",
    "#     end = start + int(symbol_samples)\n",
    "#     wave = receive_psk_wave[start:end]\n",
    "#     wave = np.concatenate((wave, np.zeros(end - start - len(wave))))\n",
    "\n",
    "#     one_corr_arr = np.correlate(wave, one, 'full')[:len(wave)]\n",
    "#     sig = one_corr_arr[symbol_samples - 1]\n",
    "#     bit = 1 if sig > 0 else 0\n",
    "#     print(f\"bit={bit}, truth={bin1[num_recv]}, next_truth={bin1[(num_recv+1)%len(bin1)]} sig={sig}\")\n",
    "\n",
    "#     wave_len = symbol_samples\n",
    "#     # wave_len = np.argmax(one_corr_arr) if bit == 1 else np.argmax(zero_corr_arr)\n",
    "#     start += wave_len\n",
    "#     wave_lens.append(wave_len)\n",
    "#     receive_bits[num_recv] = bit\n",
    "#     num_recv += 1\n",
    "\n",
    "# similarity = np.sum(receive_bits == bin1) / len(bin1)\n",
    "# print(f\"Similarity: {similarity}\")\n",
    "# # print(wave_lens)"
   ]
  },
  {
   "cell_type": "code",
   "execution_count": 123,
   "metadata": {},
   "outputs": [
    {
     "name": "stderr",
     "output_type": "stream",
     "text": [
      "qt.qpa.wayland.textinput: virtual void QtWaylandClient::QWaylandTextInputv3::zwp_text_input_v3_leave(wl_surface*) Got leave event for surface 0x0 focused surface 0x5a52950e3f70\n"
     ]
    }
   ],
   "source": [
    "# plt.plot(psk_wave)\n",
    "# plt.plot(record_wave)\n",
    "# plot_fft(psk_wave, rate, seconds=None)\n",
    "\n",
    "# plot_audio(psk_wave, rate, seconds=None)\n",
    "# plot_audio(receive_psk_wave, rate, seconds=None)\n",
    "# plot_fft(psk_wave, rate, seconds=None)\n",
    "\n",
    "plt.plot(psk_wave * 0.07)\n",
    "plt.plot(receive_psk_wave)\n",
    "# # plt.plot(record_wave * np.concatenate([one] * len(binary_data)))\n",
    "# # plt.plot(np.correlate(record_wave, one, 'full')[:len(record_wave)])\n",
    "# # plt.plot(record_wave[8:])\n",
    "for i in range(len(bin1)):\n",
    "    plt.axvline(x=i*symbol_samples, color='r', linestyle='--')\n",
    "plt.show()"
   ]
  },
  {
   "cell_type": "code",
   "execution_count": 129,
   "metadata": {},
   "outputs": [
    {
     "name": "stderr",
     "output_type": "stream",
     "text": [
      "qt.qpa.wayland.textinput: virtual void QtWaylandClient::QWaylandTextInputv3::zwp_text_input_v3_leave(wl_surface*) Got leave event for surface 0x0 focused surface 0x5a5294b32d50\n"
     ]
    }
   ],
   "source": [
    "plot_fft(psk_wave, rate, seconds=None)"
   ]
  },
  {
   "cell_type": "code",
   "execution_count": 131,
   "metadata": {},
   "outputs": [
    {
     "name": "stderr",
     "output_type": "stream",
     "text": [
      "qt.qpa.wayland.textinput: virtual void QtWaylandClient::QWaylandTextInputv3::zwp_text_input_v3_leave(wl_surface*) Got leave event for surface 0x0 focused surface 0x5a5295291590\n"
     ]
    }
   ],
   "source": [
    "plot_fft(np.array([0] * 100 + [1] * 100), rate, seconds=None)"
   ]
  },
  {
   "cell_type": "code",
   "execution_count": 138,
   "metadata": {},
   "outputs": [
    {
     "name": "stderr",
     "output_type": "stream",
     "text": [
      "qt.qpa.wayland.textinput: virtual void QtWaylandClient::QWaylandTextInputv3::zwp_text_input_v3_leave(wl_surface*) Got leave event for surface 0x0 focused surface 0x5a5295153280\n"
     ]
    }
   ],
   "source": [
    "plot_audio(raw_record_wave, rate, seconds=None)"
   ]
  }
 ],
 "metadata": {
  "kernelspec": {
   "display_name": "venv",
   "language": "python",
   "name": "python3"
  },
  "language_info": {
   "codemirror_mode": {
    "name": "ipython",
    "version": 3
   },
   "file_extension": ".py",
   "mimetype": "text/x-python",
   "name": "python",
   "nbconvert_exporter": "python",
   "pygments_lexer": "ipython3",
   "version": "3.12.6"
  }
 },
 "nbformat": 4,
 "nbformat_minor": 2
}
