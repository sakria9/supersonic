{
 "cells": [
  {
   "cell_type": "code",
   "execution_count": 42,
   "metadata": {},
   "outputs": [],
   "source": [
    "import scipy.io.wavfile as wav\n",
    "import numpy as np\n",
    "\n",
    "def read_wave_file(file_path) -> tuple[int, np.ndarray]:\n",
    "    rate, data = wav.read(file_path)\n",
    "    if data.ndim == 2:\n",
    "        data = data[:, 0]\n",
    "    # convert to float\n",
    "    if data.dtype == 'int16':\n",
    "        data = data / 32768.0\n",
    "    elif data.dtype == 'float32':\n",
    "        pass\n",
    "    else:\n",
    "        raise ValueError(\"Unknown data type\")\n",
    "    return rate, data\n",
    "\n",
    "def save_wave_file(file_path, rate, data):\n",
    "    # Ensure data is in the correct format\n",
    "    if data.dtype != 'float32':\n",
    "        data = data.astype('float32')\n",
    "\n",
    "    # Convert float data to int16 for saving\n",
    "    data_int16 = (data * 32767).astype('int16')\n",
    "\n",
    "    # Write the data to a wav file\n",
    "    wav.write(file_path, rate, data_int16)\n",
    "\n",
    "# plot the audio data\n",
    "# use popup window\n",
    "%matplotlib qt\n",
    "import matplotlib.pyplot as plt\n",
    "\n",
    "import sounddevice as sd"
   ]
  },
  {
   "cell_type": "code",
   "execution_count": 252,
   "metadata": {},
   "outputs": [],
   "source": [
    "def plot_audio(data, rate, seconds=1):\n",
    "    # If seconds is None, plot the entire audio data\n",
    "    if seconds is None:\n",
    "        num_samples = len(data)\n",
    "        seconds = num_samples / rate\n",
    "    else:\n",
    "        num_samples = min(int(seconds * rate), len(data))\n",
    "        seconds = min(seconds, len(data) / rate)\n",
    "\n",
    "    # Create a time axis based on the sample rate and the specified duration\n",
    "    time = np.linspace(0., seconds, num_samples)\n",
    "\n",
    "    # Plot the audio data for the specified duration\n",
    "    plt.figure()\n",
    "    plt.plot(time, data[:num_samples])\n",
    "    plt.xlabel('Time (s)')\n",
    "    plt.ylabel('Amplitude')\n",
    "    plt.title(f'Audio Data (First {seconds} seconds)' if seconds is not None else 'Audio Data (Full)')\n",
    "    plt.show()\n",
    "\n",
    "def plot_fft(data, rate, seconds=1, freq_range=(0, 24000)):\n",
    "    # If seconds is None, perform FFT on the entire audio data\n",
    "    if seconds is None:\n",
    "        num_samples = len(data)\n",
    "    else:\n",
    "        num_samples = min(int(seconds * rate), len(data))\n",
    "        seconds = min(seconds, len(data) / rate)\n",
    "    assert num_samples % 2 == 0\n",
    "    # Perform FFT on the audio data\n",
    "    freqs = np.fft.fft(data[:num_samples])\n",
    "    freqs = np.abs(freqs) / num_samples\n",
    "    freqs = freqs[:num_samples // 2]\n",
    "    plt.figure()\n",
    "    plt.plot(np.linspace(0., rate / 2, num_samples // 2), freqs)\n",
    "    plt.xlabel('Frequency (Hz)')\n",
    "    plt.ylabel('Magnitude')\n",
    "    plt.title(f'FFT of Audio Data (First {seconds} seconds)' if seconds is not None else 'FFT of Audio Data (Full)')\n",
    "    plt.xlim(*freq_range)\n",
    "    plt.show()\n",
    "\n",
    "def plot_wav_file(file_path, seconds=1):\n",
    "    rate, data = read_wave_file(file_path)\n",
    "    plot_audio(data, rate, seconds)\n",
    "    plot_fft(data, rate, seconds)\n",
    "\n",
    "# plot_audio(data, rate)\n",
    "# plot_fft(data, rate)"
   ]
  },
  {
   "cell_type": "code",
   "execution_count": 6,
   "metadata": {},
   "outputs": [],
   "source": [
    "# plot_wav_file(\"../build/raw_output.wav\")\n",
    "# plot_wav_file(\"../build/raw_input.wav\")"
   ]
  },
  {
   "cell_type": "code",
   "execution_count": 138,
   "metadata": {},
   "outputs": [],
   "source": [
    "def play_audio(audio: np.array, rate=48000):\n",
    "    save_wave_file(\"../build/temp.wav\", rate, audio)\n",
    "    sd.play(audio, rate)\n",
    "    sd.wait()\n",
    "\n",
    "def audio_by_function(func: callable, rate=48000, duration=1):\n",
    "    timepoints = np.linspace(0, duration, int(rate * duration))\n",
    "    return func(timepoints)\n",
    "\n",
    "def play_audio_by_function(func: callable, rate=48000, duration=1):\n",
    "    timepoints = np.linspace(0, duration, int(rate * duration))\n",
    "    audio = audio_by_function(func, rate, duration)\n",
    "    play_audio(audio, rate)\n",
    "\n",
    "def sine_wave(freq_hz, phase=0):\n",
    "    return lambda time_in_second: np.sin(2 * np.pi * freq_hz * time_in_second + phase)\n",
    "\n",
    "sine_440hz = sine_wave(440)\n",
    "sine_880hz = sine_wave(880)\n",
    "\n",
    "def square_wave(freq):\n",
    "    return lambda time_in_second: np.sign(np.sin(2 * np.pi * freq * time_in_second))\n",
    "\n",
    "def cosine_440hz(time_in_second):\n",
    "    return np.cos(2 * np.pi * 440 * time_in_second)\n",
    "\n",
    "def multiply_amplitude(amplitude: float, func: callable):\n",
    "    def wrapper(*args, **kwargs):\n",
    "        return amplitude * func(*args, **kwargs)\n",
    "    return wrapper\n",
    "\n",
    "def sine_wave_samples(freq, cycle, phase, amplitude, rate=48000):\n",
    "    duration = cycle / freq\n",
    "    timepoints = np.linspace(0, duration, int(rate * duration))\n",
    "    return multiply_amplitude(amplitude, sine_wave(freq, phase))(timepoints)\n",
    "\n",
    "def play_sine_waves(sine_waves: tuple[int, float, float], rate=48000):\n",
    "    audio = np.zeros(0)\n",
    "    for freq, cycle, amplitude in sine_waves:\n",
    "        sine_wave_audio = sine_wave_samples(freq, cycle, 0, amplitude, rate)\n",
    "        audio = np.concatenate((audio, sine_wave_audio))\n",
    "    play_audio(audio, rate)\n",
    "\n",
    "# play_sine_waves([(4800, 4, 0.5), (4800, 4, 1), (2400, 4, 1)] * 500)\n",
    "\n",
    "# play_audio_by_function(sine_wave(2400))\n",
    "# play_audio_by_function(sine_wave(4800))\n",
    "# play_audio_by_function(sine_wave(9600))"
   ]
  },
  {
   "cell_type": "code",
   "execution_count": 58,
   "metadata": {},
   "outputs": [
    {
     "name": "stderr",
     "output_type": "stream",
     "text": [
      "The cached device pixel ratio value was stale on window update.  Please file a QTBUG which explains how to reproduce.\n",
      "The cached device pixel ratio value was stale on window update.  Please file a QTBUG which explains how to reproduce.\n",
      "The cached device pixel ratio value was stale on window update.  Please file a QTBUG which explains how to reproduce.\n",
      "The cached device pixel ratio value was stale on window update.  Please file a QTBUG which explains how to reproduce.\n",
      "qt.qpa.wayland.textinput: virtual void QtWaylandClient::QWaylandTextInputv3::zwp_text_input_v3_leave(wl_surface*) Got leave event for surface 0x0 focused surface 0x58dae9cca540\n",
      "qt.qpa.wayland.textinput: virtual void QtWaylandClient::QWaylandTextInputv3::zwp_text_input_v3_leave(wl_surface*) Got leave event for surface 0x0 focused surface 0x58daea22aec0\n",
      "qt.qpa.wayland.textinput: virtual void QtWaylandClient::QWaylandTextInputv3::zwp_text_input_v3_leave(wl_surface*) Got leave event for surface 0x0 focused surface 0x58dae9ab2b40\n",
      "qt.qpa.wayland.textinput: virtual void QtWaylandClient::QWaylandTextInputv3::zwp_text_input_v3_leave(wl_surface*) Got leave event for surface 0x0 focused surface 0x58dae928b3e0\n"
     ]
    }
   ],
   "source": [
    "rate = 48000\n",
    "freq = 10\n",
    "cycles = 1\n",
    "amplitude = 1\n",
    "window_size = int(rate / freq * cycles)\n",
    "\n",
    "one = sine_wave_samples(freq, cycles, 0, amplitude)\n",
    "\n",
    "def plot_modulation(one, zero, title_prefix):\n",
    "    # zero_shift = zero * one\n",
    "    # zero_smooth = np.convolve(zero_shift, np.ones(window_size) / window_size, mode='full')\n",
    "    # fig, axs = plt.subplots(2, 2)\n",
    "    # axs[0, 0].plot(one)\n",
    "    # axs[0, 0].set_title(f\"{title_prefix} One\")\n",
    "    # axs[0, 0].set_ylim([-1, 1])\n",
    "    # axs[0, 1].plot(zero)\n",
    "    # axs[0, 1].set_title(f\"{title_prefix} Zero\")\n",
    "    # axs[0, 1].set_ylim([-1, 1])\n",
    "    # axs[1, 0].plot(zero_shift)\n",
    "    # axs[1, 0].set_title(f\"{title_prefix} Zero Shift\")\n",
    "    # axs[1, 0].set_ylim([-1, 1])\n",
    "    # axs[1, 1].plot(zero_smooth)\n",
    "    # axs[1, 1].set_title(f\"{title_prefix} Zero Smooth\")\n",
    "    # axs[1, 1].set_ylim([-1, 1])\n",
    "    # axs[1, 1].axvline(x=window_size, color='r', linestyle='--')\n",
    "    # axs[1, 1].annotate(f'Result: {zero_smooth[window_size]:.2e}', xy=(0.5, 0.9), xycoords='axes fraction', fontsize=10, ha='center', va='center', bbox=dict(boxstyle=\"round,pad=0.3\", edgecolor='black', facecolor='white'))\n",
    "    # plt.show()\n",
    "    one_shift = one * one\n",
    "    one_smooth = np.convolve(one_shift, np.ones(window_size) / window_size, mode='full')\n",
    "    zero_shift = zero * one\n",
    "    zero_smooth = np.convolve(zero_shift, np.ones(window_size) / window_size, mode='full')\n",
    "    fig, axs = plt.subplots(2, 3)\n",
    "    axs[0, 0].plot(one)\n",
    "    axs[0, 0].set_title(f\"{title_prefix} One\")\n",
    "    axs[0, 0].set_ylim([-1, 1])\n",
    "    axs[0, 1].plot(one_shift)\n",
    "    axs[0, 1].set_title(f\"{title_prefix} One Shift\")\n",
    "    axs[0, 1].set_ylim([-1, 1])\n",
    "    axs[0, 2].plot(one_smooth)\n",
    "    axs[0, 2].set_title(f\"{title_prefix} One Smooth\")\n",
    "    axs[0, 2].set_ylim([-1, 1])\n",
    "    axs[0, 2].axvline(x=window_size, color='r', linestyle='--')\n",
    "    axs[0, 2].annotate(f'Result: {one_smooth[window_size]:.2e}', xy=(0.5, 0.9), xycoords='axes fraction', fontsize=10, ha='center', va='center', bbox=dict(boxstyle=\"round,pad=0.3\", edgecolor='black', facecolor='white'))\n",
    "    axs[1, 0].plot(zero)\n",
    "    axs[1, 0].set_title(f\"{title_prefix} Zero\")\n",
    "    axs[1, 0].set_ylim([-1, 1])\n",
    "    axs[1, 1].plot(zero_shift)\n",
    "    axs[1, 1].set_title(f\"{title_prefix} Zero Shift\")\n",
    "    axs[1, 1].set_ylim([-1, 1])\n",
    "    axs[1, 2].plot(zero_smooth)\n",
    "    axs[1, 2].set_title(f\"{title_prefix} Zero Smooth\")\n",
    "    axs[1, 2].set_ylim([-1, 1])\n",
    "    axs[1, 2].axvline(x=window_size, color='r', linestyle='--')\n",
    "    axs[1, 2].annotate(f'Result: {zero_smooth[window_size]:.2e}', xy=(0.5, 0.9), xycoords='axes fraction', fontsize=10, ha='center', va='center', bbox=dict(boxstyle=\"round,pad=0.3\", edgecolor='black', facecolor='white'))\n",
    "    plt.show()\n",
    "\n",
    "# ASK, Amplitude Shift Keying\n",
    "zero_ask = sine_wave_samples(freq, cycles, 0, 0.5)\n",
    "plot_modulation(one, zero_ask, \"ASK\")\n",
    "# one = 0.5\n",
    "# zero = 0.25\n",
    "\n",
    "# FSK, Frequency Shift Keying\n",
    "zero_fsk = sine_wave_samples(freq * 2, cycles * 2, 0, 1)\n",
    "plot_modulation(one, zero_fsk, \"FSK\")\n",
    "# one = 0.5\n",
    "# zero = 0\n",
    "\n",
    "# PSK, Phase Shift Keying\n",
    "zero_psk = sine_wave_samples(freq, cycles, np.pi, 1)\n",
    "plot_modulation(one, zero_psk, \"PSK pi\")\n",
    "# one = 0.5\n",
    "# zero = -0.5\n",
    "\n",
    "# PSK, Phase Shift Keying\n",
    "zero_psk = sine_wave_samples(freq, cycles, np.pi/2, 1)\n",
    "plot_modulation(one, zero_psk, \"PSK pi/2\")\n",
    "# one = 0.5\n",
    "# zero = 0"
   ]
  },
  {
   "cell_type": "code",
   "execution_count": 82,
   "metadata": {},
   "outputs": [
    {
     "name": "stdout",
     "output_type": "stream",
     "text": [
      "249.74999999999986\n",
      "-1.5727643521394e-13\n",
      "2.8395679091495346e-13\n",
      "-1.2243277947546984e-13\n"
     ]
    },
    {
     "name": "stderr",
     "output_type": "stream",
     "text": [
      "The cached device pixel ratio value was stale on window update.  Please file a QTBUG which explains how to reproduce.\n",
      "qt.qpa.wayland.textinput: virtual void QtWaylandClient::QWaylandTextInputv3::zwp_text_input_v3_leave(wl_surface*) Got leave event for surface 0x0 focused surface 0x58dae9a30bd0\n"
     ]
    }
   ],
   "source": [
    "rate = 10000\n",
    "freq = 10\n",
    "cycles = 1\n",
    "amplitude = 1\n",
    "window_size = int(rate / freq * cycles)\n",
    "\n",
    "duration = cycles / freq\n",
    "timepoints = np.linspace(0, duration, int(rate * duration))\n",
    "\n",
    "one = np.sin(2 * np.pi * freq * timepoints)\n",
    "zero = np.cos(2 * np.pi * 2 * freq * timepoints)\n",
    "# one = np.ones(len(timepoints))\n",
    "carrier = np.cos(2 * np.pi * 200 * timepoints)\n",
    "\n",
    "one_passband = one * carrier\n",
    "zero_passband = zero * carrier\n",
    "\n",
    "one_decode = one_passband * carrier\n",
    "\n",
    "plot_fft(one_decode, rate)\n",
    "\n",
    "# plt.plot(one_passband)\n",
    "# plt.plot(one_decode)\n",
    "# (one_decode, rate)\n",
    "print(np.dot(one_decode, np.sin(2 * np.pi * freq * timepoints)))\n",
    "print(np.dot(one_decode, np.cos(2 * np.pi * freq * timepoints)))\n",
    "\n",
    "print(np.dot(one_decode, np.sin(2 * np.pi * 2 * freq * timepoints)))\n",
    "print(np.dot(one_decode, np.cos(2 * np.pi * 2 * freq * timepoints)))"
   ]
  },
  {
   "cell_type": "code",
   "execution_count": 185,
   "metadata": {},
   "outputs": [
    {
     "data": {
      "text/plain": [
       "[<matplotlib.lines.Line2D at 0x7c6ea3d5d0a0>]"
      ]
     },
     "execution_count": 185,
     "metadata": {},
     "output_type": "execute_result"
    }
   ],
   "source": [
    "rate = 20\n",
    "\n",
    "freq = 10\n",
    "cycles = 20\n",
    "amplitude = 1\n",
    "window_size = int(rate / freq * cycles)\n",
    "\n",
    "duration = cycles / freq\n",
    "x = np.linspace(0, duration, int(rate * duration))\n",
    "x_more = np.linspace(0, duration, int(rate * duration * 10))\n",
    "\n",
    "wave = sine_wave(freq)(x)\n",
    "\n",
    "plt.plot(x, wave)\n",
    "# plt.plot(x_more, sine_wave(freq)(x_more))\n",
    "\n",
    "# plot_fft(wave, rate)"
   ]
  },
  {
   "cell_type": "code",
   "execution_count": 186,
   "metadata": {},
   "outputs": [],
   "source": [
    "t = np.linspace(0, 1, 48000)\n",
    "# wave = sine_wave(200)(t) * sine_wave(1000)(t)\n",
    "wave = sine_wave(200)(t) * sine_wave(200, np.pi / 2)(t)\n",
    "plot_fft(wave, 48000)"
   ]
  },
  {
   "cell_type": "code",
   "execution_count": 187,
   "metadata": {},
   "outputs": [],
   "source": [
    "plot_wav_file(\"../build/temp.wav\", seconds=None)"
   ]
  },
  {
   "cell_type": "code",
   "execution_count": 188,
   "metadata": {},
   "outputs": [
    {
     "name": "stderr",
     "output_type": "stream",
     "text": [
      "The cached device pixel ratio value was stale on window update.  Please file a QTBUG which explains how to reproduce.\n"
     ]
    }
   ],
   "source": [
    "def play_and_record(data, rate, discard=True):\n",
    "    save_wave_file(\"../build/temp.wav\", rate, data)\n",
    "\n",
    "    cmd = \"../build/supersonic/play_and_record -f ../build/temp.wav -i 'UGREEN CM564 USB Audio  Mono:capture_MONO' -o 'USB2.0 Device Analog Stereo:playback_FL'\"\n",
    "    import subprocess\n",
    "    p = subprocess.Popen(cmd, shell=True, stdout=subprocess.PIPE, stderr=subprocess.PIPE)\n",
    "    p.wait()\n",
    "    \n",
    "    rate, record_wave = read_wave_file(\"raw_input.wav\")\n",
    "    rate, play_wave = read_wave_file(\"raw_output.wav\")\n",
    "    if discard:\n",
    "        # discard first 0.5s\n",
    "        record_wave = record_wave[int(0.5 * rate):]\n",
    "        play_wave = play_wave[int(0.5 * rate):]\n",
    "    return record_wave, play_wave, rate"
   ]
  },
  {
   "cell_type": "code",
   "execution_count": 189,
   "metadata": {},
   "outputs": [
    {
     "ename": "KeyboardInterrupt",
     "evalue": "",
     "output_type": "error",
     "traceback": [
      "\u001b[0;31m---------------------------------------------------------------------------\u001b[0m",
      "\u001b[0;31mKeyboardInterrupt\u001b[0m                         Traceback (most recent call last)",
      "Cell \u001b[0;32mIn[189], line 6\u001b[0m\n\u001b[1;32m      2\u001b[0m duration \u001b[38;5;241m=\u001b[39m \u001b[38;5;241m10\u001b[39m\n\u001b[1;32m      4\u001b[0m none_wave \u001b[38;5;241m=\u001b[39m np\u001b[38;5;241m.\u001b[39mzeros(\u001b[38;5;28mint\u001b[39m(rate \u001b[38;5;241m*\u001b[39m duration))\n\u001b[0;32m----> 6\u001b[0m noise_wave, _, rate \u001b[38;5;241m=\u001b[39m \u001b[43mplay_and_record\u001b[49m\u001b[43m(\u001b[49m\u001b[43mnone_wave\u001b[49m\u001b[43m,\u001b[49m\u001b[43m \u001b[49m\u001b[43mrate\u001b[49m\u001b[43m)\u001b[49m\n",
      "Cell \u001b[0;32mIn[188], line 7\u001b[0m, in \u001b[0;36mplay_and_record\u001b[0;34m(data, rate, discard)\u001b[0m\n\u001b[1;32m      5\u001b[0m \u001b[38;5;28;01mimport\u001b[39;00m \u001b[38;5;21;01msubprocess\u001b[39;00m\n\u001b[1;32m      6\u001b[0m p \u001b[38;5;241m=\u001b[39m subprocess\u001b[38;5;241m.\u001b[39mPopen(cmd, shell\u001b[38;5;241m=\u001b[39m\u001b[38;5;28;01mTrue\u001b[39;00m, stdout\u001b[38;5;241m=\u001b[39msubprocess\u001b[38;5;241m.\u001b[39mPIPE, stderr\u001b[38;5;241m=\u001b[39msubprocess\u001b[38;5;241m.\u001b[39mPIPE)\n\u001b[0;32m----> 7\u001b[0m \u001b[43mp\u001b[49m\u001b[38;5;241;43m.\u001b[39;49m\u001b[43mwait\u001b[49m\u001b[43m(\u001b[49m\u001b[43m)\u001b[49m\n\u001b[1;32m      9\u001b[0m rate, record_wave \u001b[38;5;241m=\u001b[39m read_wave_file(\u001b[38;5;124m\"\u001b[39m\u001b[38;5;124mraw_input.wav\u001b[39m\u001b[38;5;124m\"\u001b[39m)\n\u001b[1;32m     10\u001b[0m rate, play_wave \u001b[38;5;241m=\u001b[39m read_wave_file(\u001b[38;5;124m\"\u001b[39m\u001b[38;5;124mraw_output.wav\u001b[39m\u001b[38;5;124m\"\u001b[39m)\n",
      "File \u001b[0;32m/usr/lib/python3.12/subprocess.py:1264\u001b[0m, in \u001b[0;36mPopen.wait\u001b[0;34m(self, timeout)\u001b[0m\n\u001b[1;32m   1262\u001b[0m     endtime \u001b[38;5;241m=\u001b[39m _time() \u001b[38;5;241m+\u001b[39m timeout\n\u001b[1;32m   1263\u001b[0m \u001b[38;5;28;01mtry\u001b[39;00m:\n\u001b[0;32m-> 1264\u001b[0m     \u001b[38;5;28;01mreturn\u001b[39;00m \u001b[38;5;28;43mself\u001b[39;49m\u001b[38;5;241;43m.\u001b[39;49m\u001b[43m_wait\u001b[49m\u001b[43m(\u001b[49m\u001b[43mtimeout\u001b[49m\u001b[38;5;241;43m=\u001b[39;49m\u001b[43mtimeout\u001b[49m\u001b[43m)\u001b[49m\n\u001b[1;32m   1265\u001b[0m \u001b[38;5;28;01mexcept\u001b[39;00m \u001b[38;5;167;01mKeyboardInterrupt\u001b[39;00m:\n\u001b[1;32m   1266\u001b[0m     \u001b[38;5;66;03m# https://bugs.python.org/issue25942\u001b[39;00m\n\u001b[1;32m   1267\u001b[0m     \u001b[38;5;66;03m# The first keyboard interrupt waits briefly for the child to\u001b[39;00m\n\u001b[1;32m   1268\u001b[0m     \u001b[38;5;66;03m# exit under the common assumption that it also received the ^C\u001b[39;00m\n\u001b[1;32m   1269\u001b[0m     \u001b[38;5;66;03m# generated SIGINT and will exit rapidly.\u001b[39;00m\n\u001b[1;32m   1270\u001b[0m     \u001b[38;5;28;01mif\u001b[39;00m timeout \u001b[38;5;129;01mis\u001b[39;00m \u001b[38;5;129;01mnot\u001b[39;00m \u001b[38;5;28;01mNone\u001b[39;00m:\n",
      "File \u001b[0;32m/usr/lib/python3.12/subprocess.py:2053\u001b[0m, in \u001b[0;36mPopen._wait\u001b[0;34m(self, timeout)\u001b[0m\n\u001b[1;32m   2051\u001b[0m \u001b[38;5;28;01mif\u001b[39;00m \u001b[38;5;28mself\u001b[39m\u001b[38;5;241m.\u001b[39mreturncode \u001b[38;5;129;01mis\u001b[39;00m \u001b[38;5;129;01mnot\u001b[39;00m \u001b[38;5;28;01mNone\u001b[39;00m:\n\u001b[1;32m   2052\u001b[0m     \u001b[38;5;28;01mbreak\u001b[39;00m  \u001b[38;5;66;03m# Another thread waited.\u001b[39;00m\n\u001b[0;32m-> 2053\u001b[0m (pid, sts) \u001b[38;5;241m=\u001b[39m \u001b[38;5;28;43mself\u001b[39;49m\u001b[38;5;241;43m.\u001b[39;49m\u001b[43m_try_wait\u001b[49m\u001b[43m(\u001b[49m\u001b[38;5;241;43m0\u001b[39;49m\u001b[43m)\u001b[49m\n\u001b[1;32m   2054\u001b[0m \u001b[38;5;66;03m# Check the pid and loop as waitpid has been known to\u001b[39;00m\n\u001b[1;32m   2055\u001b[0m \u001b[38;5;66;03m# return 0 even without WNOHANG in odd situations.\u001b[39;00m\n\u001b[1;32m   2056\u001b[0m \u001b[38;5;66;03m# http://bugs.python.org/issue14396.\u001b[39;00m\n\u001b[1;32m   2057\u001b[0m \u001b[38;5;28;01mif\u001b[39;00m pid \u001b[38;5;241m==\u001b[39m \u001b[38;5;28mself\u001b[39m\u001b[38;5;241m.\u001b[39mpid:\n",
      "File \u001b[0;32m/usr/lib/python3.12/subprocess.py:2011\u001b[0m, in \u001b[0;36mPopen._try_wait\u001b[0;34m(self, wait_flags)\u001b[0m\n\u001b[1;32m   2009\u001b[0m \u001b[38;5;250m\u001b[39m\u001b[38;5;124;03m\"\"\"All callers to this function MUST hold self._waitpid_lock.\"\"\"\u001b[39;00m\n\u001b[1;32m   2010\u001b[0m \u001b[38;5;28;01mtry\u001b[39;00m:\n\u001b[0;32m-> 2011\u001b[0m     (pid, sts) \u001b[38;5;241m=\u001b[39m \u001b[43mos\u001b[49m\u001b[38;5;241;43m.\u001b[39;49m\u001b[43mwaitpid\u001b[49m\u001b[43m(\u001b[49m\u001b[38;5;28;43mself\u001b[39;49m\u001b[38;5;241;43m.\u001b[39;49m\u001b[43mpid\u001b[49m\u001b[43m,\u001b[49m\u001b[43m \u001b[49m\u001b[43mwait_flags\u001b[49m\u001b[43m)\u001b[49m\n\u001b[1;32m   2012\u001b[0m \u001b[38;5;28;01mexcept\u001b[39;00m \u001b[38;5;167;01mChildProcessError\u001b[39;00m:\n\u001b[1;32m   2013\u001b[0m     \u001b[38;5;66;03m# This happens if SIGCLD is set to be ignored or waiting\u001b[39;00m\n\u001b[1;32m   2014\u001b[0m     \u001b[38;5;66;03m# for child processes has otherwise been disabled for our\u001b[39;00m\n\u001b[1;32m   2015\u001b[0m     \u001b[38;5;66;03m# process.  This child is dead, we can't get the status.\u001b[39;00m\n\u001b[1;32m   2016\u001b[0m     pid \u001b[38;5;241m=\u001b[39m \u001b[38;5;28mself\u001b[39m\u001b[38;5;241m.\u001b[39mpid\n",
      "\u001b[0;31mKeyboardInterrupt\u001b[0m: "
     ]
    },
    {
     "name": "stderr",
     "output_type": "stream",
     "text": [
      "The cached device pixel ratio value was stale on window update.  Please file a QTBUG which explains how to reproduce.\n",
      "The cached device pixel ratio value was stale on window update.  Please file a QTBUG which explains how to reproduce.\n",
      "The cached device pixel ratio value was stale on window update.  Please file a QTBUG which explains how to reproduce.\n",
      "qt.qpa.wayland.textinput: virtual void QtWaylandClient::QWaylandTextInputv3::zwp_text_input_v3_leave(wl_surface*) Got leave event for surface 0x0 focused surface 0x5c0a3b850740\n",
      "qt.qpa.wayland.textinput: virtual void QtWaylandClient::QWaylandTextInputv3::zwp_text_input_v3_leave(wl_surface*) Got leave event for surface 0x0 focused surface 0x5c0a3baf01d0\n"
     ]
    }
   ],
   "source": [
    "rate = 48000\n",
    "duration = 10\n",
    "\n",
    "none_wave = np.zeros(int(rate * duration))\n",
    "\n",
    "noise_wave, _, rate = play_and_record(none_wave, rate)"
   ]
  },
  {
   "cell_type": "code",
   "execution_count": 58,
   "metadata": {},
   "outputs": [
    {
     "name": "stdout",
     "output_type": "stream",
     "text": [
      "noise power: 0.09256891161203384\n"
     ]
    }
   ],
   "source": [
    "# calculate noise power\n",
    "noise_power = np.sum(noise_wave ** 2) / len(noise_wave) * rate\n",
    "print(f\"noise power: {noise_power}\")"
   ]
  },
  {
   "cell_type": "code",
   "execution_count": 81,
   "metadata": {},
   "outputs": [
    {
     "name": "stderr",
     "output_type": "stream",
     "text": [
      "qt.qpa.wayland.textinput: virtual void QtWaylandClient::QWaylandTextInputv3::zwp_text_input_v3_leave(wl_surface*) Got leave event for surface 0x0 focused surface 0x5c0a3b80e030\n"
     ]
    }
   ],
   "source": [
    "plot_fft(noise_wave, rate)"
   ]
  },
  {
   "cell_type": "code",
   "execution_count": 99,
   "metadata": {},
   "outputs": [],
   "source": [
    "class FrequencyData:\n",
    "    def __init__(self, freq, wave, signal, noise):\n",
    "        self.freq = freq\n",
    "        self.wave = wave\n",
    "        self.s_div_n = signal / noise\n",
    "        print(f\"freq={freq} S/N={self.s_div_n}\")\n",
    "freq_data_map = {}"
   ]
  },
  {
   "cell_type": "code",
   "execution_count": 103,
   "metadata": {},
   "outputs": [
    {
     "name": "stdout",
     "output_type": "stream",
     "text": [
      "freq=200 S/N=2.439788818359375\n",
      "freq=300 S/N=2.4707531929016113\n",
      "freq=400 S/N=8.894071578979492\n",
      "freq=500 S/N=2.5171334743499756\n",
      "freq=600 S/N=1.8965137004852295\n",
      "freq=700 S/N=4.5611138343811035\n",
      "freq=800 S/N=4.237361907958984\n",
      "freq=900 S/N=5.708857536315918\n",
      "freq=1000 S/N=9.166345596313477\n",
      "freq=1500 S/N=5.319309711456299\n",
      "freq=2000 S/N=9.06489372253418\n",
      "freq=2500 S/N=17.16437339782715\n",
      "freq=3000 S/N=10.600259780883789\n",
      "freq=3500 S/N=20.592689514160156\n",
      "freq=4000 S/N=15.892398834228516\n",
      "freq=4500 S/N=18.32355499267578\n",
      "freq=5000 S/N=16.683053970336914\n",
      "freq=5500 S/N=16.264638900756836\n",
      "freq=6000 S/N=16.570907592773438\n",
      "freq=6500 S/N=15.168131828308105\n",
      "freq=7000 S/N=9.810857772827148\n",
      "freq=7500 S/N=4.563968181610107\n",
      "freq=8000 S/N=4.931657791137695\n",
      "freq=8500 S/N=21.85814094543457\n",
      "freq=9000 S/N=31.73781967163086\n",
      "freq=9500 S/N=50.711936950683594\n",
      "freq=10000 S/N=26.714826583862305\n",
      "freq=10500 S/N=52.22666549682617\n",
      "freq=11000 S/N=26.453899383544922\n",
      "freq=11500 S/N=60.73630142211914\n",
      "freq=12000 S/N=21.507389068603516\n",
      "freq=12500 S/N=39.92961502075195\n",
      "freq=13000 S/N=20.688514709472656\n",
      "freq=13500 S/N=29.164569854736328\n",
      "freq=14000 S/N=8.974031448364258\n",
      "freq=14500 S/N=3.1421499252319336\n",
      "freq=15000 S/N=4.883622169494629\n",
      "freq=15500 S/N=3.5803334712982178\n",
      "freq=16000 S/N=1.3797388076782227\n",
      "freq=16500 S/N=0.29024484753608704\n",
      "freq=17000 S/N=0.6853647828102112\n",
      "freq=17500 S/N=0.7986297607421875\n",
      "freq=18000 S/N=0.8965263962745667\n",
      "freq=18500 S/N=0.36924415826797485\n",
      "freq=19000 S/N=0.15231050550937653\n",
      "freq=19500 S/N=0.1740100085735321\n"
     ]
    }
   ],
   "source": [
    "def test_freq_SNR(freq):\n",
    "    rate = 48000\n",
    "    duration = 1.5\n",
    "    cycles = duration * freq\n",
    "    phase = 0\n",
    "    amplitude = 1\n",
    "\n",
    "    # print(f\"Freq = {freq}, Period (s) = {1 / freq}\")\n",
    "\n",
    "    wave = sine_wave_samples(freq, cycles, phase, amplitude, rate)\n",
    "    record_wave, play_wave, rate = play_and_record(wave, rate)\n",
    "\n",
    "    # calculate signal power\n",
    "    signal_noise_power = np.sum(record_wave ** 2) / len(record_wave) * rate\n",
    "    signal_power = signal_noise_power - noise_power\n",
    "    # print(f\"freq={freq} signal power: {signal_power}\")\n",
    "\n",
    "    # calculate SNR\n",
    "    # print(f\"freq={freq} S/N={signal_power / noise_power}\")\n",
    "    # print(f\"freq={freq} SNR={10 * np.log10(signal_power / noise_power)}\")\n",
    "\n",
    "    freq_data_map[freq] = FrequencyData(freq, record_wave, signal_power, noise_power)\n",
    "\n",
    "for freq in range(200, 1000, 100):\n",
    "    test_freq_SNR(freq)\n",
    "\n",
    "for freq in range(1000, 10000, 500):\n",
    "    test_freq_SNR(freq)\n",
    "\n",
    "for freq in range(10000, 15000, 500):\n",
    "    test_freq_SNR(freq)\n",
    "\n",
    "for freq in range(15000, 20000, 500):\n",
    "    test_freq_SNR(freq)\n",
    "\n",
    "# for freq in [100, 200, 400, 800, 1600, 3200, 6400, 12800]:\n",
    "#     test_freq_SNR(freq)"
   ]
  },
  {
   "cell_type": "code",
   "execution_count": 116,
   "metadata": {},
   "outputs": [
    {
     "data": {
      "text/plain": [
       "[<matplotlib.lines.Line2D at 0x7c6ed8ae4470>]"
      ]
     },
     "execution_count": 116,
     "metadata": {},
     "output_type": "execute_result"
    },
    {
     "name": "stderr",
     "output_type": "stream",
     "text": [
      "qt.qpa.wayland.textinput: virtual void QtWaylandClient::QWaylandTextInputv3::zwp_text_input_v3_leave(wl_surface*) Got leave event for surface 0x0 focused surface 0x5c0a3bcce420\n"
     ]
    }
   ],
   "source": [
    "# plot_fft(freq_data_map[13000].wave, rate)\n",
    "# plot freq and S/N\n",
    "freqs = sorted(list(freq_data_map.keys()))\n",
    "s_div_n = [freq_data_map[freq].s_div_n for freq in freqs]\n",
    "# plt.plot(freqs, s_div_n)\n",
    "plt.title(\"Freq - log2(1 + S/N)\")\n",
    "plt.plot(freqs, np.log2(1 + np.array(s_div_n)))"
   ]
  },
  {
   "cell_type": "code",
   "execution_count": 132,
   "metadata": {},
   "outputs": [
    {
     "name": "stderr",
     "output_type": "stream",
     "text": [
      "qt.qpa.wayland.textinput: virtual void QtWaylandClient::QWaylandTextInputv3::zwp_text_input_v3_leave(wl_surface*) Got leave event for surface 0x0 focused surface 0x5c0a3be4d130\n"
     ]
    }
   ],
   "source": [
    "# plot_audio(freq_data_map[13500].wave, rate)\n",
    "# plot_fft(freq_data_map[13500].wave, rate)\n",
    "# plot_audio(sine_wave(13500)(np.linspace(0, 0.2, 48000)), 48000)\n",
    "\n",
    "x = np.linspace(0, 0.01, int(0.01*48000))\n",
    "x_fine = np.linspace(0, 0.01, 10000)\n",
    "y = sine_wave(13500)(x)\n",
    "y_fine = sine_wave(13500)(x_fine)\n",
    "# plot graph and point\n",
    "plt.plot(x, y)\n",
    "plt.plot(x_fine, y_fine)\n",
    "plt.scatter(x, y)\n",
    "plt.show()"
   ]
  },
  {
   "cell_type": "code",
   "execution_count": 114,
   "metadata": {},
   "outputs": [
    {
     "name": "stdout",
     "output_type": "stream",
     "text": [
      "Channel Capacity: 22573.1796875 bps, 22.573179244995117 kbps\n"
     ]
    }
   ],
   "source": [
    "B = 13500 - 8500\n",
    "C = B * np.log2(1 + freq_data_map[8500].s_div_n)\n",
    "print(f\"Channel Capacity: {C} bps, {C/1000} kbps\")"
   ]
  },
  {
   "cell_type": "code",
   "execution_count": 153,
   "metadata": {},
   "outputs": [],
   "source": [
    "# try play square wave\n",
    "rate = 48000\n",
    "freq = 500\n",
    "duration = 1\n",
    "timepoints = np.linspace(0, duration, int(rate * duration))\n",
    "wave = square_wave(freq)(timepoints)\n",
    "record_wave, play_wave, rate = play_and_record(wave, rate)"
   ]
  },
  {
   "cell_type": "code",
   "execution_count": 161,
   "metadata": {},
   "outputs": [],
   "source": [
    "# try play triangle wave\n",
    "rate = 48000\n",
    "freq = 500\n",
    "duration = 1\n",
    "timepoints = np.linspace(0, duration, int(rate * duration))\n",
    "def triangle_wave(freq):\n",
    "    return lambda time_in_second: np.abs(2 * (time_in_second * freq - np.floor(time_in_second * freq + 0.5)))\n",
    "wave = triangle_wave(freq)(timepoints)\n",
    "record_wave, play_wave, rate = play_and_record(wave, rate)"
   ]
  },
  {
   "cell_type": "code",
   "execution_count": 261,
   "metadata": {},
   "outputs": [],
   "source": [
    "# try play sweep wave\n",
    "rate = 48000\n",
    "duration = 5\n",
    "timepoints = np.linspace(0, duration, int(rate * duration) + 1)\n",
    "# print(timepoints[1], 1. / rate)\n",
    "wave = np.zeros(len(timepoints))\n",
    "count = 0\n",
    "frequencies = [261.63, 327.04, 392.45]\n",
    "\n",
    "for freq in frequencies:\n",
    "    # print(freq)\n",
    "    count += 1\n",
    "    wave += sine_wave(freq)(timepoints)\n",
    "wave /= count\n",
    "record_wave, play_wave, rate = play_and_record(wave, rate)"
   ]
  },
  {
   "cell_type": "code",
   "execution_count": 262,
   "metadata": {},
   "outputs": [
    {
     "name": "stderr",
     "output_type": "stream",
     "text": [
      "qt.qpa.wayland.textinput: virtual void QtWaylandClient::QWaylandTextInputv3::zwp_text_input_v3_leave(wl_surface*) Got leave event for surface 0x0 focused surface 0x5c0a3b9d7ab0\n"
     ]
    }
   ],
   "source": [
    "# plot_audio(record_wave, rate)\n",
    "# plot_fft(record_wave, rate, freq_range=(200, 400))\n",
    "# plot_fft(play_wave, rate)\n",
    "# plot_audio(play_wave, rate)"
   ]
  }
 ],
 "metadata": {
  "kernelspec": {
   "display_name": "venv",
   "language": "python",
   "name": "python3"
  },
  "language_info": {
   "codemirror_mode": {
    "name": "ipython",
    "version": 3
   },
   "file_extension": ".py",
   "mimetype": "text/x-python",
   "name": "python",
   "nbconvert_exporter": "python",
   "pygments_lexer": "ipython3",
   "version": "3.12.6"
  }
 },
 "nbformat": 4,
 "nbformat_minor": 2
}
