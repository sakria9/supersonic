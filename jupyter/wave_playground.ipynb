{
 "cells": [
  {
   "cell_type": "code",
   "execution_count": 1,
   "metadata": {},
   "outputs": [],
   "source": [
    "import scipy.io.wavfile as wav\n",
    "import numpy as np\n",
    "\n",
    "def read_wave_file(file_path) -> tuple[int, np.ndarray]:\n",
    "    rate, data = wav.read(file_path)\n",
    "    if data.ndim == 2:\n",
    "        data = data[:, 0]\n",
    "    # convert to float\n",
    "    if data.dtype == 'int16':\n",
    "        data = data / 32768.0\n",
    "    elif data.dtype == 'float32':\n",
    "        pass\n",
    "    else:\n",
    "        raise ValueError(\"Unknown data type\")\n",
    "    return rate, data\n",
    "\n",
    "def save_wave_file(file_path, rate, data):\n",
    "    # Ensure data is in the correct format\n",
    "    if data.dtype != 'float32':\n",
    "        data = data.astype('float32')\n",
    "\n",
    "    # Convert float data to int16 for saving\n",
    "    data_int16 = (data * 32767).astype('int16')\n",
    "\n",
    "    # Write the data to a wav file\n",
    "    wav.write(file_path, rate, data_int16)\n",
    "\n",
    "# plot the audio data\n",
    "# use popup window\n",
    "%matplotlib qt\n",
    "import matplotlib.pyplot as plt\n",
    "\n",
    "import sounddevice as sd"
   ]
  },
  {
   "cell_type": "code",
   "execution_count": 2,
   "metadata": {},
   "outputs": [],
   "source": [
    "def plot_audio(data, rate, seconds=1):\n",
    "    # If seconds is None, plot the entire audio data\n",
    "    if seconds is None:\n",
    "        num_samples = len(data)\n",
    "        seconds = num_samples / rate\n",
    "    else:\n",
    "        num_samples = min(int(seconds * rate), len(data))\n",
    "        seconds = min(seconds, len(data) / rate)\n",
    "\n",
    "    # Create a time axis based on the sample rate and the specified duration\n",
    "    time = np.linspace(0., seconds, num_samples)\n",
    "\n",
    "    # Plot the audio data for the specified duration\n",
    "    plt.figure()\n",
    "    plt.plot(time, data[:num_samples])\n",
    "    plt.xlabel('Time (s)')\n",
    "    plt.ylabel('Amplitude')\n",
    "    plt.title(f'Audio Data (First {seconds} seconds)' if seconds is not None else 'Audio Data (Full)')\n",
    "    plt.show()\n",
    "\n",
    "def plot_fft(data, rate, seconds=1, freq_range=(0, 24000)):\n",
    "    # If seconds is None, perform FFT on the entire audio data\n",
    "    if seconds is None:\n",
    "        num_samples = len(data)\n",
    "    else:\n",
    "        num_samples = min(int(seconds * rate), len(data))\n",
    "        seconds = min(seconds, len(data) / rate)\n",
    "    assert num_samples % 2 == 0\n",
    "    # Perform FFT on the audio data\n",
    "    freqs = np.fft.fft(data[:num_samples])\n",
    "    freqs = np.abs(freqs) / num_samples\n",
    "    freqs = freqs[:num_samples // 2]\n",
    "    plt.figure()\n",
    "    plt.plot(np.linspace(0., rate / 2, num_samples // 2), freqs)\n",
    "    plt.xlabel('Frequency (Hz)')\n",
    "    plt.ylabel('Magnitude')\n",
    "    plt.title(f'FFT of Audio Data (First {seconds} seconds)' if seconds is not None else 'FFT of Audio Data (Full)')\n",
    "    plt.xlim(*freq_range)\n",
    "    plt.show()\n",
    "\n",
    "def plot_wav_file(file_path, seconds=1):\n",
    "    rate, data = read_wave_file(file_path)\n",
    "    plot_audio(data, rate, seconds)\n",
    "    plot_fft(data, rate, seconds)\n",
    "\n",
    "# plot_audio(data, rate)\n",
    "# plot_fft(data, rate)"
   ]
  },
  {
   "cell_type": "code",
   "execution_count": 3,
   "metadata": {},
   "outputs": [],
   "source": [
    "from scipy.signal import butter, filtfilt\n",
    "\n",
    "def low_pass_filter(data, rate, freq):\n",
    "    nyquist = 0.5 * rate\n",
    "    normal_cutoff = freq / nyquist\n",
    "    b, a = butter(5, normal_cutoff, btype='low', analog=False)\n",
    "    filtered_data = filtfilt(b, a, data)\n",
    "    return filtered_data"
   ]
  },
  {
   "cell_type": "code",
   "execution_count": 6,
   "metadata": {},
   "outputs": [],
   "source": [
    "# plot_wav_file(\"../build/raw_output.wav\")\n",
    "# plot_wav_file(\"../build/raw_input.wav\")"
   ]
  },
  {
   "cell_type": "code",
   "execution_count": 4,
   "metadata": {},
   "outputs": [],
   "source": [
    "def play_audio(audio: np.array, rate=48000):\n",
    "    save_wave_file(\"../build/temp.wav\", rate, audio)\n",
    "    sd.play(audio, rate)\n",
    "    sd.wait()\n",
    "\n",
    "def audio_by_function(func: callable, rate=48000, duration=1):\n",
    "    timepoints = np.linspace(0, duration, int(rate * duration))\n",
    "    return func(timepoints)\n",
    "\n",
    "def play_audio_by_function(func: callable, rate=48000, duration=1):\n",
    "    timepoints = np.linspace(0, duration, int(rate * duration))\n",
    "    audio = audio_by_function(func, rate, duration)\n",
    "    play_audio(audio, rate)\n",
    "\n",
    "def sine_wave(freq_hz, phase=0):\n",
    "    return lambda time_in_second: np.sin(2 * np.pi * freq_hz * time_in_second + phase)\n",
    "\n",
    "sine_440hz = sine_wave(440)\n",
    "sine_880hz = sine_wave(880)\n",
    "\n",
    "def square_wave(freq):\n",
    "    return lambda time_in_second: np.sign(np.sin(2 * np.pi * freq * time_in_second))\n",
    "\n",
    "def cosine_440hz(time_in_second):\n",
    "    return np.cos(2 * np.pi * 440 * time_in_second)\n",
    "\n",
    "def multiply_amplitude(amplitude: float, func: callable):\n",
    "    def wrapper(*args, **kwargs):\n",
    "        return amplitude * func(*args, **kwargs)\n",
    "    return wrapper\n",
    "\n",
    "def sine_wave_samples(freq, cycle, phase, amplitude, rate=48000):\n",
    "    duration = cycle / freq\n",
    "    timepoints = np.linspace(0, duration, int(rate * duration))\n",
    "    return multiply_amplitude(amplitude, sine_wave(freq, phase))(timepoints)\n",
    "\n",
    "def play_sine_waves(sine_waves: tuple[int, float, float], rate=48000):\n",
    "    audio = np.zeros(0)\n",
    "    for freq, cycle, amplitude in sine_waves:\n",
    "        sine_wave_audio = sine_wave_samples(freq, cycle, 0, amplitude, rate)\n",
    "        audio = np.concatenate((audio, sine_wave_audio))\n",
    "    play_audio(audio, rate)\n",
    "\n",
    "# play_sine_waves([(4800, 4, 0.5), (4800, 4, 1), (2400, 4, 1)] * 500)\n",
    "\n",
    "# play_audio_by_function(sine_wave(440), duration=10)\n",
    "# play_audio_by_function(sine_wave(4800), duration=3)\n",
    "# play_audio_by_function(lambda t: (sine_wave(440)(t) + sine_wave()(t))/2, duration=2)"
   ]
  },
  {
   "cell_type": "code",
   "execution_count": 181,
   "metadata": {},
   "outputs": [],
   "source": [
    "# plot_audio(data_wave, rate, seconds)\n",
    "# plot_audio(receive_wave_one, rate, seconds)\n",
    "# plot_audio(receive_smooth, rate, seconds)\n",
    "# plot_fft(receive_wave_filter, rate, seconds)"
   ]
  },
  {
   "cell_type": "code",
   "execution_count": 662,
   "metadata": {},
   "outputs": [],
   "source": [
    "rate = 48000\n",
    "freq = 10\n",
    "cycles = 1\n",
    "amplitude = 1\n",
    "window_size = int(rate / freq * cycles)\n",
    "\n",
    "one = sine_wave_samples(freq, cycles, 0, amplitude)\n",
    "\n",
    "def plot_modulation(one, zero, title_prefix):\n",
    "    # zero_shift = zero * one\n",
    "    # zero_smooth = np.convolve(zero_shift, np.ones(window_size) / window_size, mode='full')\n",
    "    # fig, axs = plt.subplots(2, 2)\n",
    "    # axs[0, 0].plot(one)\n",
    "    # axs[0, 0].set_title(f\"{title_prefix} One\")\n",
    "    # axs[0, 0].set_ylim([-1, 1])\n",
    "    # axs[0, 1].plot(zero)\n",
    "    # axs[0, 1].set_title(f\"{title_prefix} Zero\")\n",
    "    # axs[0, 1].set_ylim([-1, 1])\n",
    "    # axs[1, 0].plot(zero_shift)\n",
    "    # axs[1, 0].set_title(f\"{title_prefix} Zero Shift\")\n",
    "    # axs[1, 0].set_ylim([-1, 1])\n",
    "    # axs[1, 1].plot(zero_smooth)\n",
    "    # axs[1, 1].set_title(f\"{title_prefix} Zero Smooth\")\n",
    "    # axs[1, 1].set_ylim([-1, 1])\n",
    "    # axs[1, 1].axvline(x=window_size, color='r', linestyle='--')\n",
    "    # axs[1, 1].annotate(f'Result: {zero_smooth[window_size]:.2e}', xy=(0.5, 0.9), xycoords='axes fraction', fontsize=10, ha='center', va='center', bbox=dict(boxstyle=\"round,pad=0.3\", edgecolor='black', facecolor='white'))\n",
    "    # plt.show()\n",
    "    one_shift = one * one\n",
    "    one_smooth = np.correlate(one_shift, np.ones(window_size) / window_size, mode='full')\n",
    "    zero_shift = zero * one\n",
    "    zero_smooth = np.correlate(zero_shift, np.ones(window_size) / window_size, mode='full')\n",
    "    fig, axs = plt.subplots(2, 3)\n",
    "    axs[0, 0].plot(one)\n",
    "    axs[0, 0].set_title(f\"{title_prefix} One\")\n",
    "    axs[0, 0].set_ylim([-1, 1])\n",
    "    axs[0, 1].plot(one_shift)\n",
    "    axs[0, 1].set_title(f\"{title_prefix} One Shift\")\n",
    "    axs[0, 1].set_ylim([-1, 1])\n",
    "    axs[0, 2].plot(one_smooth)\n",
    "    axs[0, 2].set_title(f\"{title_prefix} One Smooth\")\n",
    "    axs[0, 2].set_ylim([-1, 1])\n",
    "    axs[0, 2].axvline(x=window_size, color='r', linestyle='--')\n",
    "    axs[0, 2].annotate(f'Result: {one_smooth[window_size]:.2e}', xy=(0.5, 0.9), xycoords='axes fraction', fontsize=10, ha='center', va='center', bbox=dict(boxstyle=\"round,pad=0.3\", edgecolor='black', facecolor='white'))\n",
    "    axs[1, 0].plot(zero)\n",
    "    axs[1, 0].set_title(f\"{title_prefix} Zero\")\n",
    "    axs[1, 0].set_ylim([-1, 1])\n",
    "    axs[1, 1].plot(zero_shift)\n",
    "    axs[1, 1].set_title(f\"{title_prefix} Zero Shift\")\n",
    "    axs[1, 1].set_ylim([-1, 1])\n",
    "    axs[1, 2].plot(zero_smooth)\n",
    "    axs[1, 2].set_title(f\"{title_prefix} Zero Smooth\")\n",
    "    axs[1, 2].set_ylim([-1, 1])\n",
    "    axs[1, 2].axvline(x=window_size, color='r', linestyle='--')\n",
    "    axs[1, 2].annotate(f'Result: {zero_smooth[window_size]:.2e}', xy=(0.5, 0.9), xycoords='axes fraction', fontsize=10, ha='center', va='center', bbox=dict(boxstyle=\"round,pad=0.3\", edgecolor='black', facecolor='white'))\n",
    "    plt.show()\n",
    "\n",
    "# ASK, Amplitude Shift Keying\n",
    "zero_ask = sine_wave_samples(freq, cycles, 0, 0.5)\n",
    "plot_modulation(one, zero_ask, \"ASK\")\n",
    "# one = 0.5\n",
    "# zero = 0.25\n",
    "\n",
    "# FSK, Frequency Shift Keying\n",
    "zero_fsk = sine_wave_samples(freq * 2, cycles * 2, 0, 1)\n",
    "plot_modulation(one, zero_fsk, \"FSK\")\n",
    "# one = 0.5\n",
    "# zero = 0\n",
    "\n",
    "# PSK, Phase Shift Keying\n",
    "zero_psk = sine_wave_samples(freq, cycles, np.pi, 1)\n",
    "plot_modulation(one, zero_psk, \"PSK pi\")\n",
    "# one = 0.5\n",
    "# zero = -0.5\n",
    "\n",
    "# PSK, Phase Shift Keying\n",
    "zero_psk = sine_wave_samples(freq, cycles, np.pi/2, 1)\n",
    "plot_modulation(one, zero_psk, \"PSK pi/2\")\n",
    "# one = 0.5\n",
    "# zero = 0"
   ]
  },
  {
   "cell_type": "code",
   "execution_count": 82,
   "metadata": {},
   "outputs": [
    {
     "name": "stdout",
     "output_type": "stream",
     "text": [
      "249.74999999999986\n",
      "-1.5727643521394e-13\n",
      "2.8395679091495346e-13\n",
      "-1.2243277947546984e-13\n"
     ]
    },
    {
     "name": "stderr",
     "output_type": "stream",
     "text": [
      "The cached device pixel ratio value was stale on window update.  Please file a QTBUG which explains how to reproduce.\n",
      "qt.qpa.wayland.textinput: virtual void QtWaylandClient::QWaylandTextInputv3::zwp_text_input_v3_leave(wl_surface*) Got leave event for surface 0x0 focused surface 0x58dae9a30bd0\n"
     ]
    }
   ],
   "source": [
    "rate = 10000\n",
    "freq = 10\n",
    "cycles = 1\n",
    "amplitude = 1\n",
    "window_size = int(rate / freq * cycles)\n",
    "\n",
    "duration = cycles / freq\n",
    "timepoints = np.linspace(0, duration, int(rate * duration))\n",
    "\n",
    "one = np.sin(2 * np.pi * freq * timepoints)\n",
    "zero = np.cos(2 * np.pi * 2 * freq * timepoints)\n",
    "# one = np.ones(len(timepoints))\n",
    "carrier = np.cos(2 * np.pi * 200 * timepoints)\n",
    "\n",
    "one_passband = one * carrier\n",
    "zero_passband = zero * carrier\n",
    "\n",
    "one_decode = one_passband * carrier\n",
    "\n",
    "plot_fft(one_decode, rate)\n",
    "\n",
    "# plt.plot(one_passband)\n",
    "# plt.plot(one_decode)\n",
    "# (one_decode, rate)\n",
    "print(np.dot(one_decode, np.sin(2 * np.pi * freq * timepoints)))\n",
    "print(np.dot(one_decode, np.cos(2 * np.pi * freq * timepoints)))\n",
    "\n",
    "print(np.dot(one_decode, np.sin(2 * np.pi * 2 * freq * timepoints)))\n",
    "print(np.dot(one_decode, np.cos(2 * np.pi * 2 * freq * timepoints)))"
   ]
  },
  {
   "cell_type": "code",
   "execution_count": 185,
   "metadata": {},
   "outputs": [
    {
     "data": {
      "text/plain": [
       "[<matplotlib.lines.Line2D at 0x7c6ea3d5d0a0>]"
      ]
     },
     "execution_count": 185,
     "metadata": {},
     "output_type": "execute_result"
    }
   ],
   "source": [
    "rate = 20\n",
    "\n",
    "freq = 10\n",
    "cycles = 20\n",
    "amplitude = 1\n",
    "window_size = int(rate / freq * cycles)\n",
    "\n",
    "duration = cycles / freq\n",
    "x = np.linspace(0, duration, int(rate * duration))\n",
    "x_more = np.linspace(0, duration, int(rate * duration * 10))\n",
    "\n",
    "wave = sine_wave(freq)(x)\n",
    "\n",
    "plt.plot(x, wave)\n",
    "# plt.plot(x_more, sine_wave(freq)(x_more))\n",
    "\n",
    "# plot_fft(wave, rate)"
   ]
  },
  {
   "cell_type": "code",
   "execution_count": 186,
   "metadata": {},
   "outputs": [],
   "source": [
    "t = np.linspace(0, 1, 48000)\n",
    "# wave = sine_wave(200)(t) * sine_wave(1000)(t)\n",
    "wave = sine_wave(200)(t) * sine_wave(200, np.pi / 2)(t)\n",
    "plot_fft(wave, 48000)"
   ]
  },
  {
   "cell_type": "code",
   "execution_count": 187,
   "metadata": {},
   "outputs": [],
   "source": [
    "plot_wav_file(\"../build/temp.wav\", seconds=None)"
   ]
  },
  {
   "cell_type": "code",
   "execution_count": 5,
   "metadata": {},
   "outputs": [],
   "source": [
    "def play_and_record(data, rate, discard=True):\n",
    "    save_wave_file(\"../build/temp.wav\", rate, data)\n",
    "\n",
    "    # cmd = \"../build/supersonic/play_and_record -f ../build/temp.wav -i 'UGREEN CM564 USB Audio  Mono:capture_MONO' -o 'USB2.0 Device Analog Stereo:playback_FL'\"\n",
    "    cmd = \"..\\\\out\\\\build\\\\x64-debug\\\\supersonic\\\\play_and_record.exe -f ../build/temp.wav\"\n",
    "    import subprocess\n",
    "    p = subprocess.Popen(cmd, shell=True, stdout=subprocess.PIPE, stderr=subprocess.PIPE)\n",
    "    p.wait()\n",
    "    if p.returncode != 0:\n",
    "        print(p.stdout.read())\n",
    "        print(p.stderr.read())\n",
    "        raise ValueError(\"play_and_record failed\")\n",
    "    \n",
    "    rate, record_wave = read_wave_file(\"raw_input.wav\")\n",
    "    rate, play_wave = read_wave_file(\"raw_output.wav\")\n",
    "    if discard:\n",
    "        # discard first 0.5s\n",
    "        record_wave = record_wave[int(0.5 * rate):]\n",
    "        play_wave = play_wave[int(0.5 * rate):]\n",
    "    return record_wave, play_wave, rate"
   ]
  },
  {
   "cell_type": "code",
   "execution_count": 352,
   "metadata": {},
   "outputs": [],
   "source": [
    "rate = 48000\n",
    "duration = 5\n",
    "\n",
    "none_wave = np.zeros(int(rate * duration))\n",
    "\n",
    "noise_wave, _, rate = play_and_record(none_wave, rate)"
   ]
  },
  {
   "cell_type": "code",
   "execution_count": 353,
   "metadata": {},
   "outputs": [
    {
     "name": "stdout",
     "output_type": "stream",
     "text": [
      "noise power: 0.3337700366973877\n"
     ]
    }
   ],
   "source": [
    "# calculate noise power\n",
    "noise_power = np.sum(noise_wave ** 2) / len(noise_wave) * rate\n",
    "print(f\"noise power: {noise_power}\")"
   ]
  },
  {
   "cell_type": "code",
   "execution_count": 354,
   "metadata": {},
   "outputs": [],
   "source": [
    "plot_fft(noise_wave, rate)"
   ]
  },
  {
   "cell_type": "code",
   "execution_count": 355,
   "metadata": {},
   "outputs": [],
   "source": [
    "class FrequencyData:\n",
    "    def __init__(self, freq, wave, signal, noise):\n",
    "        self.freq = freq\n",
    "        self.wave = wave\n",
    "        self.s_div_n = signal / noise\n",
    "        print(f\"freq={freq} S/N={self.s_div_n}\")\n",
    "freq_data_map = {}"
   ]
  },
  {
   "cell_type": "code",
   "execution_count": 357,
   "metadata": {},
   "outputs": [
    {
     "name": "stdout",
     "output_type": "stream",
     "text": [
      "freq=200 S/N=6180.28564453125\n",
      "freq=300 S/N=10547.876953125\n",
      "freq=400 S/N=6437.01708984375\n",
      "freq=500 S/N=2790.4609375\n",
      "freq=600 S/N=20332.91015625\n",
      "freq=700 S/N=23913.248046875\n",
      "freq=800 S/N=2184.93408203125\n",
      "freq=900 S/N=8733.72265625\n",
      "freq=1000 S/N=9756.5615234375\n",
      "freq=1500 S/N=33645.984375\n",
      "freq=2000 S/N=33775.51953125\n",
      "freq=2500 S/N=41350.671875\n",
      "freq=3000 S/N=5711.15185546875\n",
      "freq=3500 S/N=2145.159912109375\n",
      "freq=4000 S/N=10867.0\n",
      "freq=4500 S/N=21287.65625\n",
      "freq=5000 S/N=3625.360595703125\n",
      "freq=5500 S/N=506.87750244140625\n",
      "freq=6000 S/N=9915.4169921875\n",
      "freq=6500 S/N=1332.413818359375\n",
      "freq=7000 S/N=2423.74658203125\n",
      "freq=7500 S/N=833.5259399414062\n",
      "freq=8000 S/N=4672.8427734375\n",
      "freq=8500 S/N=8913.705078125\n",
      "freq=9000 S/N=9868.794921875\n",
      "freq=9500 S/N=5061.52880859375\n",
      "freq=10000 S/N=696.3435668945312\n",
      "freq=10500 S/N=1472.89501953125\n",
      "freq=11000 S/N=1352.660400390625\n",
      "freq=11500 S/N=798.1116333007812\n",
      "freq=12000 S/N=100.519287109375\n",
      "freq=12500 S/N=949.373779296875\n",
      "freq=13000 S/N=1223.51904296875\n",
      "freq=13500 S/N=2107.007080078125\n",
      "freq=14000 S/N=128.87876892089844\n",
      "freq=14500 S/N=518.5474243164062\n",
      "freq=15000 S/N=248.63587951660156\n",
      "freq=15500 S/N=277.85186767578125\n",
      "freq=16000 S/N=806.0550537109375\n",
      "freq=16500 S/N=239.56541442871094\n",
      "freq=17000 S/N=199.45892333984375\n",
      "freq=17500 S/N=61.07709503173828\n",
      "freq=18000 S/N=62.22216796875\n",
      "freq=18500 S/N=18.657855987548828\n",
      "freq=19000 S/N=140.76683044433594\n",
      "freq=19500 S/N=25.81694984436035\n"
     ]
    }
   ],
   "source": [
    "def test_freq_SNR(freq):\n",
    "    rate = 48000\n",
    "    duration = 1.5\n",
    "    cycles = duration * freq\n",
    "    phase = 0\n",
    "    amplitude = 1\n",
    "\n",
    "    # print(f\"Freq = {freq}, Period (s) = {1 / freq}\")\n",
    "\n",
    "    wave = sine_wave_samples(freq, cycles, phase, amplitude, rate)\n",
    "    record_wave, play_wave, rate = play_and_record(wave, rate)\n",
    "\n",
    "    # calculate signal power\n",
    "    signal_noise_power = np.sum(record_wave ** 2) / len(record_wave) * rate\n",
    "    signal_power = signal_noise_power - noise_power\n",
    "    # print(f\"freq={freq} signal power: {signal_power}\")\n",
    "\n",
    "    # calculate SNR\n",
    "    # print(f\"freq={freq} S/N={signal_power / noise_power}\")\n",
    "    # print(f\"freq={freq} SNR={10 * np.log10(signal_power / noise_power)}\")\n",
    "\n",
    "    freq_data_map[freq] = FrequencyData(freq, record_wave, signal_power, noise_power)\n",
    "\n",
    "for freq in range(200, 1000, 100):\n",
    "    test_freq_SNR(freq)\n",
    "\n",
    "for freq in range(1000, 10000, 500):\n",
    "    test_freq_SNR(freq)\n",
    "\n",
    "for freq in range(10000, 15000, 500):\n",
    "    test_freq_SNR(freq)\n",
    "\n",
    "for freq in range(15000, 20000, 500):\n",
    "    test_freq_SNR(freq)\n",
    "\n",
    "# for freq in [100, 200, 400, 800, 1600, 3200, 6400, 12800]:\n",
    "#     test_freq_SNR(freq)"
   ]
  },
  {
   "cell_type": "code",
   "execution_count": 368,
   "metadata": {},
   "outputs": [
    {
     "data": {
      "text/plain": [
       "[<matplotlib.lines.Line2D at 0x266c9d93860>]"
      ]
     },
     "execution_count": 368,
     "metadata": {},
     "output_type": "execute_result"
    }
   ],
   "source": [
    "# plot_fft(freq_data_map[13000].wave, rate)\n",
    "# plot freq and S/N\n",
    "freqs = sorted(list(freq_data_map.keys()))\n",
    "s_div_n = [freq_data_map[freq].s_div_n for freq in freqs]\n",
    "# plt.plot(freqs, s_div_n)\n",
    "plt.title(\"Freq - log2(1 + S/N)\")\n",
    "plt.plot(freqs, np.log2(1 + np.array(s_div_n)))"
   ]
  },
  {
   "cell_type": "code",
   "execution_count": 132,
   "metadata": {},
   "outputs": [
    {
     "name": "stderr",
     "output_type": "stream",
     "text": [
      "qt.qpa.wayland.textinput: virtual void QtWaylandClient::QWaylandTextInputv3::zwp_text_input_v3_leave(wl_surface*) Got leave event for surface 0x0 focused surface 0x5c0a3be4d130\n"
     ]
    }
   ],
   "source": [
    "# plot_audio(freq_data_map[13500].wave, rate)\n",
    "# plot_fft(freq_data_map[13500].wave, rate)\n",
    "# plot_audio(sine_wave(13500)(np.linspace(0, 0.2, 48000)), 48000)\n",
    "\n",
    "x = np.linspace(0, 0.01, int(0.01*48000))\n",
    "x_fine = np.linspace(0, 0.01, 10000)\n",
    "y = sine_wave(13500)(x)\n",
    "y_fine = sine_wave(13500)(x_fine)\n",
    "# plot graph and point\n",
    "plt.plot(x, y)\n",
    "plt.plot(x_fine, y_fine)\n",
    "plt.scatter(x, y)\n",
    "plt.show()"
   ]
  },
  {
   "cell_type": "code",
   "execution_count": 114,
   "metadata": {},
   "outputs": [
    {
     "name": "stdout",
     "output_type": "stream",
     "text": [
      "Channel Capacity: 22573.1796875 bps, 22.573179244995117 kbps\n"
     ]
    }
   ],
   "source": [
    "B = 13500 - 8500\n",
    "C = B * np.log2(1 + freq_data_map[8500].s_div_n)\n",
    "print(f\"Channel Capacity: {C} bps, {C/1000} kbps\")"
   ]
  },
  {
   "cell_type": "code",
   "execution_count": 369,
   "metadata": {},
   "outputs": [],
   "source": [
    "# try play square wave\n",
    "rate = 48000\n",
    "freq = 500\n",
    "duration = 1\n",
    "timepoints = np.linspace(0, duration, int(rate * duration))\n",
    "wave = square_wave(freq)(timepoints)\n",
    "record_wave, play_wave, rate = play_and_record(wave, rate)"
   ]
  },
  {
   "cell_type": "code",
   "execution_count": 375,
   "metadata": {},
   "outputs": [],
   "source": [
    "# try play sine wave\n",
    "rate = 48000\n",
    "freq = 500\n",
    "duration = 1\n",
    "timepoints = np.linspace(0, duration, int(rate * duration))\n",
    "wave = sine_wave(freq)(timepoints)\n",
    "record_wave, play_wave, rate = play_and_record(wave, rate)"
   ]
  },
  {
   "cell_type": "code",
   "execution_count": 161,
   "metadata": {},
   "outputs": [],
   "source": [
    "# try play triangle wave\n",
    "rate = 48000\n",
    "freq = 500\n",
    "duration = 1\n",
    "timepoints = np.linspace(0, duration, int(rate * duration))\n",
    "def triangle_wave(freq):\n",
    "    return lambda time_in_second: np.abs(2 * (time_in_second * freq - np.floor(time_in_second * freq + 0.5)))\n",
    "wave = triangle_wave(freq)(timepoints)\n",
    "record_wave, play_wave, rate = play_and_record(wave, rate)"
   ]
  },
  {
   "cell_type": "code",
   "execution_count": 381,
   "metadata": {},
   "outputs": [],
   "source": [
    "# try play a chord\n",
    "rate = 48000\n",
    "duration = 5\n",
    "timepoints = np.linspace(0, duration, int(rate * duration) + 1)\n",
    "wave = np.zeros(len(timepoints))\n",
    "count = 0\n",
    "frequencies = [261.63, 327.04, 392.45]\n",
    "\n",
    "for freq in frequencies:\n",
    "    # print(freq)\n",
    "    count += 1\n",
    "    wave += sine_wave(freq)(timepoints)\n",
    "wave /= count\n",
    "record_wave, play_wave, rate = play_and_record(wave, rate)"
   ]
  },
  {
   "cell_type": "code",
   "execution_count": 6,
   "metadata": {},
   "outputs": [],
   "source": [
    "# try play a chirp\n",
    "\n",
    "chirp_frequencies1 = np.linspace(100, 5000, 10)\n",
    "chirp_frequencies2 = np.linspace(6000, 10000, 10)\n",
    "\n",
    "def gen_chirp(frequencies):\n",
    "    rate = 48000\n",
    "    duration = 1 / 100\n",
    "    timepoints = np.linspace(0, duration, int(rate * duration) + 1)\n",
    "    chirp = np.zeros(len(timepoints))\n",
    "    for freq in frequencies:\n",
    "        # print(freq)\n",
    "        chirp += sine_wave(freq)(timepoints)\n",
    "    chirp /= len(frequencies)\n",
    "    return chirp\n",
    "\n",
    "chirp1 = gen_chirp(chirp_frequencies1)\n",
    "chirp2 = gen_chirp(chirp_frequencies2)"
   ]
  },
  {
   "cell_type": "code",
   "execution_count": 7,
   "metadata": {},
   "outputs": [],
   "source": [
    "def locate_chirp(data, chirp):\n",
    "    corr = np.correlate(data, chirp, mode='full')\n",
    "    loc = np.argmax(corr)\n",
    "    return loc\n",
    "\n",
    "def play_and_record_precise(data, rate):\n",
    "    # get sine wave with 440Hz for 0.2s\n",
    "    sine_wav = sine_wave_samples(440, 0.2 * 440, 0, 1, rate)\n",
    "    audio = np.concatenate((sine_wav, chirp1, data, chirp2, np.zeros(int(0.5*rate))))\n",
    "\n",
    "    record_wave, play_wave, rate = play_and_record(audio, rate, discard=False)\n",
    "\n",
    "    chirp1_loc = locate_chirp(record_wave, chirp1)\n",
    "    chirp2_loc = locate_chirp(record_wave, chirp2)\n",
    "\n",
    "    start = chirp1_loc + 1\n",
    "    end = chirp2_loc - len(chirp2) + 1\n",
    "\n",
    "    return record_wave[start:end], rate"
   ]
  },
  {
   "cell_type": "code",
   "execution_count": 544,
   "metadata": {},
   "outputs": [
    {
     "name": "stdout",
     "output_type": "stream",
     "text": [
      "48000 47975\n"
     ]
    }
   ],
   "source": [
    "rate, wave = read_wave_file(\"../test-audio.wav\")\n",
    "wave = wave[int(0.7*rate):int(1.7*rate)]\n",
    "# sd.play(wave, rate)\n",
    "record, rate = play_and_record_precise(wave, rate)\n",
    "\n",
    "print(len(wave), len(record))"
   ]
  },
  {
   "cell_type": "code",
   "execution_count": 10,
   "metadata": {},
   "outputs": [],
   "source": [
    "rate, wave = read_wave_file(\"../test-audio.wav\")\n",
    "seconds = 2\n",
    "start_point = int(0.75 * rate)\n",
    "carrier_wave = wave[start_point:start_point+int(rate * seconds)]\n",
    "# carrier_wave = sine_440hz(np.linspace(0, seconds, int(rate * seconds)))\n",
    "\n",
    "# encode binary data to wave with frequency freq\n",
    "freq = 100\n",
    "binary_data = np.random.randint(0, 2, size=int(freq * seconds))\n",
    "\n",
    "times = np.linspace(0, seconds, len(wave))\n",
    "cycle_times = np.linspace(0, 1/freq, int(rate / freq))\n",
    "one = sine_wave(freq)(cycle_times)\n",
    "zero = sine_wave(freq * 2)(cycle_times) # fsk\n",
    "# zero = sine_wave(freq, np.pi)(cycle_times) # psk\n",
    "psk_wave = np.concatenate([one if bit == 1 else zero for bit in binary_data])\n",
    "\n",
    "# play_audio(psk_wave, rate)\n",
    "\n",
    "# to make the final wave like a song\n",
    "data_wave = psk_wave * 0.3 + 0.7\n",
    "# data_wave = psk_wave\n",
    "\n",
    "# AM modulation\n",
    "modulated_wave = data_wave * carrier_wave\n",
    "\n",
    "# play_audio(carrier_wave, rate)\n",
    "# play_audio(modulated_wave, rate)\n",
    "\n",
    "# print(binary_data[:20])\n",
    "# print(binary_data.shape)\n",
    "# print(cycle_times.shape)"
   ]
  },
  {
   "cell_type": "code",
   "execution_count": 11,
   "metadata": {},
   "outputs": [],
   "source": [
    "# receive_wave = modulated_wave\n",
    "receive_wave, rate = play_and_record_precise(modulated_wave, rate)\n",
    "# receive_wave, rate = play_and_record_precise(carrier_wave, rate)"
   ]
  },
  {
   "cell_type": "code",
   "execution_count": 12,
   "metadata": {},
   "outputs": [
    {
     "name": "stdout",
     "output_type": "stream",
     "text": [
      "0.65\n"
     ]
    }
   ],
   "source": [
    "# AM decode\n",
    "assert len(receive_wave) <= len(carrier_wave)\n",
    "receive_wave_decode = receive_wave * carrier_wave[:len(receive_wave)]\n",
    "receive_am_wave = low_pass_filter(receive_wave_decode, rate, freq + 50)\n",
    "# plot_audio(receive_am_wave, rate, seconds)\n",
    "\n",
    "# prettier decode\n",
    "# mean_amplitude = np.mean(receive_am_wave)\n",
    "# receive_psk_wave = receive_am_wave - mean_amplitude\n",
    "receive_psk_wave = receive_am_wave\n",
    "\n",
    "# append zero if length is not enough len(one) * len(binary_data)\n",
    "if len(receive_psk_wave) < len(one) * len(binary_data):\n",
    "    receive_psk_wave = np.concatenate([receive_psk_wave, np.zeros(len(one) * len(binary_data) - len(receive_psk_wave))])\n",
    "receive_wave_one = receive_psk_wave * np.concatenate([one for _ in range(len(binary_data))])\n",
    "# plot_audio(receive_wave_one, rate, seconds)\n",
    "\n",
    "window_size = len(cycle_times)\n",
    "receive_smooth = np.correlate(receive_wave_one, np.ones(window_size) / window_size, mode='full')\n",
    "\n",
    "# plot_audio(receive_smooth, rate, seconds)\n",
    "receive_data_raw = np.zeros(len(binary_data))\n",
    "for i in range(len(binary_data)):\n",
    "    receive_data_raw[i] = receive_smooth[(i+1) * window_size - 1]\n",
    "\n",
    "mean = np.mean(receive_data_raw)\n",
    "receive_data = receive_data_raw > mean\n",
    "\n",
    "similarity = np.sum(binary_data == receive_data) / len(binary_data)\n",
    "print(similarity)\n",
    "# print(binary_data)\n",
    "# print(receive_data_raw)"
   ]
  },
  {
   "cell_type": "code",
   "execution_count": 581,
   "metadata": {},
   "outputs": [],
   "source": [
    "# plot_audio(psk_wave, rate, seconds=None)\n",
    "plot_audio(receive_smooth, rate, seconds=None)"
   ]
  }
 ],
 "metadata": {
  "kernelspec": {
   "display_name": "venv",
   "language": "python",
   "name": "python3"
  },
  "language_info": {
   "codemirror_mode": {
    "name": "ipython",
    "version": 3
   },
   "file_extension": ".py",
   "mimetype": "text/x-python",
   "name": "python",
   "nbconvert_exporter": "python",
   "pygments_lexer": "ipython3",
   "version": "3.12.6"
  }
 },
 "nbformat": 4,
 "nbformat_minor": 2
}
