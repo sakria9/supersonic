{
 "cells": [
  {
   "cell_type": "code",
   "execution_count": 1,
   "metadata": {},
   "outputs": [
    {
     "name": "stdout",
     "output_type": "stream",
     "text": [
      "chrip freq 5000, 10000.0\n",
      "chrip freq 7000, 11000.0\n"
     ]
    }
   ],
   "source": [
    "# plot the audio data\n",
    "# use popup window\n",
    "%matplotlib qt\n",
    "import matplotlib.pyplot as plt\n",
    "\n",
    "from utils import *"
   ]
  },
  {
   "cell_type": "code",
   "execution_count": 17,
   "metadata": {},
   "outputs": [],
   "source": [
    "data_len = 50\n",
    "bin = np.random.randint(0, 2, size=data_len)\n",
    "\n",
    "ENABLE_PAUSE = 0\n",
    "PAUSE_TIME_RATIO = 0.5\n",
    "ENABLE_SHIFT_CORR = 0\n",
    "\n",
    "def fsk_modulation(binary_data, rate, symbol_freq, fsk_freq):\n",
    "    symbol_samples = int(rate / symbol_freq)\n",
    "    pause_samples = int(symbol_samples * PAUSE_TIME_RATIO) if ENABLE_PAUSE else 0\n",
    "    symbol_time = 1 / symbol_freq\n",
    "\n",
    "    print(f\"Min FSK freq: {symbol_freq}\")\n",
    "    assert fsk_freq >= symbol_freq\n",
    "\n",
    "    t = np.linspace(0, symbol_time, symbol_samples+1)[:-1]\n",
    "    one = sine_wave(fsk_freq)(t)\n",
    "    zero = sine_wave(2*fsk_freq)(t)\n",
    "    one = np.concatenate((one, np.zeros(pause_samples)))\n",
    "    zero = np.concatenate((zero, np.zeros(pause_samples)))\n",
    "\n",
    "    fsk_wave = np.concatenate([one if bit == 1 else zero for bit in binary_data])\n",
    "    return fsk_wave\n",
    "\n",
    "def fsk_demodulation(expected_bits, receive_wave, rate, symbol_freq, fsk_freq):\n",
    "    symbol_samples = int(rate / symbol_freq)\n",
    "    pause_samples = int(symbol_samples * PAUSE_TIME_RATIO) if ENABLE_PAUSE else 0\n",
    "\n",
    "    symbol_time = 1 / symbol_freq\n",
    "\n",
    "    t = np.linspace(0, symbol_time, symbol_samples+1)[:-1]\n",
    "    one = sine_wave(fsk_freq)(t)\n",
    "    zero = sine_wave(2*fsk_freq)(t)\n",
    "\n",
    "    receive_fsk_wave = receive_wave\n",
    "\n",
    "    num_recv = 0\n",
    "    receive_bits = np.zeros(expected_bits)\n",
    "    start = 0\n",
    "    wave_lens = []\n",
    "\n",
    "    err_cnt = 0\n",
    "    while num_recv < expected_bits:\n",
    "        if ENABLE_SHIFT_CORR:\n",
    "            end = start + int(symbol_samples * 1.1) + pause_samples\n",
    "        else:\n",
    "            end = start + int(symbol_samples) + pause_samples\n",
    "\n",
    "        wave = receive_fsk_wave[start:end]\n",
    "        wave = np.concatenate((wave, np.zeros(end - start - len(wave))))\n",
    "\n",
    "        # plot_audio(wave, rate, seconds=None)\n",
    "        # plot_fft(wave, rate, seconds=None, freq_range=(500, 2500))\n",
    "\n",
    "        one_corr_arr = np.abs(np.correlate(wave, one, 'full')[:len(wave)])\n",
    "        zero_corr_arr = np.abs(np.correlate(wave, zero, 'full')[:len(wave)])\n",
    "        one_corr = np.max(one_corr_arr)\n",
    "        zero_corr = np.max(zero_corr_arr)\n",
    "        bit = 1 if one_corr > zero_corr else 0\n",
    "\n",
    "        if ENABLE_SHIFT_CORR:\n",
    "            wave_len = (np.argmax(one_corr_arr) if bit == 1 else np.argmax(zero_corr_arr)) + pause_samples\n",
    "        else:\n",
    "            wave_len = symbol_samples + pause_samples\n",
    "        start += wave_len\n",
    "        wave_lens.append(wave_len)\n",
    "\n",
    "        if bit != bin[num_recv]:\n",
    "            # print(f\"idx={num_recv}, bit={bit}, truth={bin1[num_recv]}, wave_len={wave_len} one_corr = {one_corr}, zero_corr = {zero_corr}\")\n",
    "            # if err_cnt == 0:\n",
    "            #     # plot_audio(wave, rate, seconds=None)\n",
    "            #     plot_fft(wave, rate, seconds=None)\n",
    "            err_cnt += 1\n",
    "\n",
    "        receive_bits[num_recv] = bit\n",
    "        num_recv += 1\n",
    "    return receive_bits"
   ]
  },
  {
   "cell_type": "code",
   "execution_count": 20,
   "metadata": {},
   "outputs": [],
   "source": [
    "def simple_fsk_demodulation(wave, freq):\n",
    "    rate = 48000\n",
    "    symbol_samples = int(rate / freq)\n",
    "\n",
    "    symbol_time = 1 / freq\n",
    "\n",
    "    t = np.linspace(0, symbol_time, symbol_samples+1)[:-1]\n",
    "    one = sine_wave(freq)(t)\n",
    "    zero = sine_wave(2*freq)(t)\n",
    "\n",
    "    receive_fsk_wave = wave[:len(wave) - len(wave) % symbol_samples]\n",
    "    result = np.zeros(len(receive_fsk_wave) // symbol_samples)\n",
    "    for i in range(len(result)):\n",
    "        wave = receive_fsk_wave[i*symbol_samples:(i+1)*symbol_samples]\n",
    "        one_corr = abs(np.abs(np.correlate(wave, one, 'valid')).max())\n",
    "        zero_corr = abs(np.abs(np.correlate(wave, zero, 'valid')).max())\n",
    "        result[i] = 1 if one_corr > zero_corr else 0\n",
    "    return result"
   ]
  },
  {
   "cell_type": "code",
   "execution_count": 24,
   "metadata": {},
   "outputs": [
    {
     "name": "stdout",
     "output_type": "stream",
     "text": [
      "Min FSK freq: 1000\n",
      "max corr 0.14715802723328342\n",
      "max corr 0.2929436488270555\n",
      "59794 62193\n"
     ]
    }
   ],
   "source": [
    "rate = 48000\n",
    "\n",
    "symbol_freq = 1000\n",
    "symbol_samples = int(rate / symbol_freq)\n",
    "fsk_freq = symbol_freq\n",
    "fsk_wave = fsk_modulation(bin, rate, symbol_freq, fsk_freq)\n",
    "\n",
    "record_wave, rate, raw_record_wave = play_and_record_precise2(fsk_wave, rate)\n",
    "record_wave = -record_wave\n",
    "if len(record_wave) < len(fsk_wave):\n",
    "    record_wave = np.concatenate((record_wave, np.zeros(len(fsk_wave) - len(record_wave))))"
   ]
  },
  {
   "cell_type": "code",
   "execution_count": 25,
   "metadata": {},
   "outputs": [
    {
     "name": "stdout",
     "output_type": "stream",
     "text": [
      "Similarity: 1.0\n",
      "Transfer Time: 0.05 s, 1000.0 bps, 1.0 kbps\n"
     ]
    }
   ],
   "source": [
    "# receive_bits = fsk_demodulation(len(bin), record_wave.copy(), rate, symbol_freq, fsk_freq)\n",
    "receive_bits = simple_fsk_demodulation(record_wave.copy(), fsk_freq)\n",
    "\n",
    "similarity = np.sum(receive_bits == bin) / len(bin)\n",
    "print(f\"Similarity: {similarity}\")\n",
    "\n",
    "transfer_time = len(fsk_wave) / rate\n",
    "bits = len(bin)\n",
    "bps = bits / transfer_time\n",
    "print(f\"Transfer Time: {transfer_time} s, {bps} bps, {bps/1000} kbps\")"
   ]
  },
  {
   "cell_type": "code",
   "execution_count": 27,
   "metadata": {},
   "outputs": [
    {
     "name": "stdout",
     "output_type": "stream",
     "text": [
      "chirp len  144\n",
      "fsk wave len 2400\n"
     ]
    }
   ],
   "source": [
    "sine_wave_440_1 = sine_wave(440)(np.linspace(0, 0.7, int(0.7*48000), endpoint=0))\n",
    "empty = np.zeros(int(0.3*48000))\n",
    "\n",
    "print(\"chirp len \", len(chirp1))\n",
    "print(\"fsk wave len\", len(fsk_wave))\n",
    "\n",
    "wave = np.concatenate([sine_wave_440_1, empty, chirp1, fsk_wave, empty])\n",
    "\n",
    "# plot_fft(fsk_wave, rate)\n",
    "\n",
    "sd.play(wave, rate)\n",
    "\n",
    "# plt.plot(wave)"
   ]
  },
  {
   "cell_type": "code",
   "execution_count": 28,
   "metadata": {},
   "outputs": [
    {
     "name": "stdout",
     "output_type": "stream",
     "text": [
      "00101100110111000111101110100101101100100101001000\n",
      "00101100110111000111101110100101101110100101001000\n"
     ]
    }
   ],
   "source": [
    "a = ['1' if bit == 1 else '0' for bit in bin]\n",
    "s = ''.join(a)\n",
    "print(s)\n",
    "print('00101100110111000111101110100101101110100101001000')"
   ]
  },
  {
   "cell_type": "code",
   "execution_count": 50,
   "metadata": {},
   "outputs": [
    {
     "name": "stderr",
     "output_type": "stream",
     "text": [
      "The cached device pixel ratio value was stale on window update.  Please file a QTBUG which explains how to reproduce.\n",
      "qt.qpa.wayland.textinput: virtual void QtWaylandClient::QWaylandTextInputv3::zwp_text_input_v3_leave(wl_surface*) Got leave event for surface 0x0 focused surface 0x5e1ff4b607b0\n",
      "qt.qpa.wayland.textinput: virtual void QtWaylandClient::QWaylandTextInputv3::zwp_text_input_v3_leave(wl_surface*) Got leave event for surface 0x0 focused surface 0x5e1ff4ced240\n"
     ]
    }
   ],
   "source": [
    "plt.figure()\n",
    "plt.plot(record_wave)\n",
    "plt.plot(fsk_wave)\n",
    "plt.show()\n",
    "\n",
    "plt.figure()\n",
    "plt.plot(raw_record_wave)\n",
    "plt.show()"
   ]
  }
 ],
 "metadata": {
  "kernelspec": {
   "display_name": "venv",
   "language": "python",
   "name": "python3"
  },
  "language_info": {
   "codemirror_mode": {
    "name": "ipython",
    "version": 3
   },
   "file_extension": ".py",
   "mimetype": "text/x-python",
   "name": "python",
   "nbconvert_exporter": "python",
   "pygments_lexer": "ipython3",
   "version": "3.12.7"
  }
 },
 "nbformat": 4,
 "nbformat_minor": 2
}
