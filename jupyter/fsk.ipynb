{
 "cells": [
  {
   "cell_type": "code",
   "execution_count": 1,
   "metadata": {},
   "outputs": [
    {
     "name": "stdout",
     "output_type": "stream",
     "text": [
      "chrip freq 7000, 11000.0\n",
      "chrip freq 5000, 10000.0\n"
     ]
    }
   ],
   "source": [
    "# plot the audio data\n",
    "# use popup window\n",
    "%matplotlib qt\n",
    "import matplotlib.pyplot as plt\n",
    "\n",
    "from utils import *"
   ]
  },
  {
   "cell_type": "code",
   "execution_count": 50,
   "metadata": {},
   "outputs": [
    {
     "name": "stdout",
     "output_type": "stream",
     "text": [
      "Min FSK freq: 1000\n",
      "max corr 0.3144859787933879\n",
      "max corr 0.24492680009296988\n",
      "60678 65485\n",
      "4807 4800\n",
      "Similarity: 1.0\n",
      "Transfer Time: 0.1 s, 1000.0 bps, 1.0 kbps\n"
     ]
    }
   ],
   "source": [
    "data_len = 100\n",
    "bin1 = np.random.randint(0, 2, size=data_len)\n",
    "bin2 = np.random.randint(0, 2, size=data_len)\n",
    "\n",
    "ENABLE_PAUSE = 0\n",
    "PAUSE_TIME_RATIO = 0.5\n",
    "ENABLE_SHIFT_CORR = 0\n",
    "\n",
    "def fsk_modulation(binary_data, rate, symbol_freq, fsk_freq):\n",
    "    symbol_samples = int(rate / symbol_freq)\n",
    "    pause_samples = int(symbol_samples * PAUSE_TIME_RATIO) if ENABLE_PAUSE else 0\n",
    "    symbol_time = 1 / symbol_freq\n",
    "\n",
    "    print(f\"Min FSK freq: {symbol_freq}\")\n",
    "    assert fsk_freq >= symbol_freq\n",
    "\n",
    "    t = np.linspace(0, symbol_time, symbol_samples+1)[:-1]\n",
    "    one = sine_wave(fsk_freq)(t)\n",
    "    zero = sine_wave(2*fsk_freq)(t)\n",
    "    one = np.concatenate((one, np.zeros(pause_samples)))\n",
    "    zero = np.concatenate((zero, np.zeros(pause_samples)))\n",
    "\n",
    "    fsk_wave = np.concatenate([one if bit == 1 else zero for bit in binary_data])\n",
    "    return fsk_wave\n",
    "\n",
    "def fsk_demodulation(expected_bits, receive_wave, rate, symbol_freq, fsk_freq):\n",
    "    symbol_samples = int(rate / symbol_freq)\n",
    "    pause_samples = int(symbol_samples * PAUSE_TIME_RATIO) if ENABLE_PAUSE else 0\n",
    "\n",
    "    symbol_time = 1 / symbol_freq\n",
    "\n",
    "    t = np.linspace(0, symbol_time, symbol_samples+1)[:-1]\n",
    "    one = sine_wave(fsk_freq)(t)\n",
    "    zero = sine_wave(2*fsk_freq)(t)\n",
    "\n",
    "    receive_fsk_wave = receive_wave\n",
    "\n",
    "    num_recv = 0\n",
    "    receive_bits = np.zeros(expected_bits)\n",
    "    start = 0\n",
    "    wave_lens = []\n",
    "\n",
    "    err_cnt = 0\n",
    "    while num_recv < expected_bits:\n",
    "        if ENABLE_SHIFT_CORR:\n",
    "            end = start + int(symbol_samples * 1.1) + pause_samples\n",
    "        else:\n",
    "            end = start + int(symbol_samples) + pause_samples\n",
    "\n",
    "        wave = receive_fsk_wave[start:end]\n",
    "        wave = np.concatenate((wave, np.zeros(end - start - len(wave))))\n",
    "\n",
    "        # plot_audio(wave, rate, seconds=None)\n",
    "        # plot_fft(wave, rate, seconds=None, freq_range=(500, 2500))\n",
    "\n",
    "        one_corr_arr = np.abs(np.correlate(wave, one, 'full')[:len(wave)])\n",
    "        zero_corr_arr = np.abs(np.correlate(wave, zero, 'full')[:len(wave)])\n",
    "        one_corr = np.max(one_corr_arr)\n",
    "        zero_corr = np.max(zero_corr_arr)\n",
    "        bit = 1 if one_corr > zero_corr else 0\n",
    "\n",
    "        if ENABLE_SHIFT_CORR:\n",
    "            wave_len = (np.argmax(one_corr_arr) if bit == 1 else np.argmax(zero_corr_arr)) + pause_samples\n",
    "        else:\n",
    "            wave_len = symbol_samples + pause_samples\n",
    "        start += wave_len\n",
    "        wave_lens.append(wave_len)\n",
    "\n",
    "        if bit != bin1[num_recv]:\n",
    "            # print(f\"idx={num_recv}, bit={bit}, truth={bin1[num_recv]}, wave_len={wave_len} one_corr = {one_corr}, zero_corr = {zero_corr}\")\n",
    "            # if err_cnt == 0:\n",
    "            #     # plot_audio(wave, rate, seconds=None)\n",
    "            #     plot_fft(wave, rate, seconds=None)\n",
    "            err_cnt += 1\n",
    "\n",
    "        receive_bits[num_recv] = bit\n",
    "        num_recv += 1\n",
    "    return receive_bits\n",
    "\n",
    "rate = 48000\n",
    "\n",
    "symbol_freq = 1000\n",
    "fsk_freq = symbol_freq * 2\n",
    "fsk_wave = fsk_modulation(bin1, rate, symbol_freq, fsk_freq)\n",
    "\n",
    "record_wave, rate, raw_record_wave = play_and_record_precise2(fsk_wave, rate)\n",
    "record_wave = -record_wave\n",
    "# record_wave = fsk_wave\n",
    "\n",
    "print(len(record_wave), len(fsk_wave))\n",
    "\n",
    "receive_bits = fsk_demodulation(len(bin1), record_wave.copy(), rate, symbol_freq, fsk_freq)\n",
    "\n",
    "similarity = np.sum(receive_bits == bin1) / len(bin1)\n",
    "print(f\"Similarity: {similarity}\")\n",
    "\n",
    "transfer_time = len(fsk_wave) / rate\n",
    "bits = len(bin1)\n",
    "bps = bits / transfer_time\n",
    "print(f\"Transfer Time: {transfer_time} s, {bps} bps, {bps/1000} kbps\")"
   ]
  },
  {
   "cell_type": "code",
   "execution_count": 50,
   "metadata": {},
   "outputs": [
    {
     "name": "stderr",
     "output_type": "stream",
     "text": [
      "The cached device pixel ratio value was stale on window update.  Please file a QTBUG which explains how to reproduce.\n",
      "qt.qpa.wayland.textinput: virtual void QtWaylandClient::QWaylandTextInputv3::zwp_text_input_v3_leave(wl_surface*) Got leave event for surface 0x0 focused surface 0x5e1ff4b607b0\n",
      "qt.qpa.wayland.textinput: virtual void QtWaylandClient::QWaylandTextInputv3::zwp_text_input_v3_leave(wl_surface*) Got leave event for surface 0x0 focused surface 0x5e1ff4ced240\n"
     ]
    }
   ],
   "source": [
    "plt.figure()\n",
    "plt.plot(record_wave)\n",
    "plt.plot(fsk_wave)\n",
    "plt.show()\n",
    "\n",
    "plt.figure()\n",
    "plt.plot(raw_record_wave)\n",
    "plt.show()"
   ]
  }
 ],
 "metadata": {
  "kernelspec": {
   "display_name": "venv",
   "language": "python",
   "name": "python3"
  },
  "language_info": {
   "codemirror_mode": {
    "name": "ipython",
    "version": 3
   },
   "file_extension": ".py",
   "mimetype": "text/x-python",
   "name": "python",
   "nbconvert_exporter": "python",
   "pygments_lexer": "ipython3",
   "version": "3.12.7"
  }
 },
 "nbformat": 4,
 "nbformat_minor": 2
}
