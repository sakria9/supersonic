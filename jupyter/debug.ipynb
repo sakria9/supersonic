{
 "cells": [
  {
   "cell_type": "code",
   "execution_count": 1,
   "metadata": {},
   "outputs": [
    {
     "name": "stdout",
     "output_type": "stream",
     "text": [
      "chrip freq 5000, 10000.0\n",
      "chrip freq 7000, 11000.0\n"
     ]
    }
   ],
   "source": [
    "# plot the audio data\n",
    "# use popup window\n",
    "%matplotlib qt\n",
    "import matplotlib.pyplot as plt\n",
    "\n",
    "from utils import *"
   ]
  },
  {
   "cell_type": "code",
   "execution_count": 8,
   "metadata": {},
   "outputs": [
    {
     "name": "stdout",
     "output_type": "stream",
     "text": [
      "101010011100000010100101110000100110100101010101\n",
      "101010010100000010100101110000100110100101010001\n"
     ]
    },
    {
     "data": {
      "text/plain": [
       "<matplotlib.legend.Legend at 0x7b3425e4bfb0>"
      ]
     },
     "execution_count": 8,
     "metadata": {},
     "output_type": "execute_result"
    },
    {
     "name": "stderr",
     "output_type": "stream",
     "text": [
      "qt.qpa.wayland.textinput: virtual void QtWaylandClient::QWaylandTextInputv3::zwp_text_input_v3_leave(wl_surface*) Got leave event for surface 0x0 focused surface 0x5cd7294118b0\n"
     ]
    }
   ],
   "source": [
    "signal = np.loadtxt(\"/home/ryo/code/supersonic/build/ddata/frames100.txt\")\n",
    "recv_signal = np.loadtxt(\"/home/ryo/code/supersonic/build/ddata/recv_frames100.txt\")\n",
    "recv_signal = recv_signal / np.max(np.abs(recv_signal))\n",
    "\n",
    "num_symbol = len(signal) // 12\n",
    "\n",
    "plt.plot(signal - 5, label='signal')\n",
    "plt.plot(recv_signal - 5, label='recv_signal')\n",
    "for i in range(num_symbol):\n",
    "    plt.axvline(x=i*12, color='r', linestyle='--')\n",
    "\n",
    "signal_1_mag = []\n",
    "signal_2_mag = []\n",
    "recv_signal_1_mag = []\n",
    "recv_signal_2_mag = []\n",
    "\n",
    "def discrete_signal_mag(signal):\n",
    "    mag1 = []\n",
    "    mag2 = []\n",
    "    for i in range(num_symbol):\n",
    "        wave = signal[i*12:(i+1)*12]\n",
    "        wave_freq = np.fft.rfft(wave)\n",
    "        mag1.append(np.abs(wave_freq)[1])\n",
    "        mag2.append(np.abs(wave_freq)[2])\n",
    "    return mag1, mag2\n",
    "\n",
    "def cont_signal_mag(signal):\n",
    "    mag1 = []\n",
    "    mag2 = []\n",
    "    for i in range(len(signal)):\n",
    "        wave = signal[max(0, i - 12): i]\n",
    "        if len(wave) != 12:\n",
    "            wave = np.concatenate([np.zeros(12 - len(wave)), wave])\n",
    "        assert len(wave) == 12\n",
    "        wave_freq = np.fft.rfft(wave)\n",
    "        mag1.append(np.abs(wave_freq)[1])\n",
    "        mag2.append(np.abs(wave_freq)[2])\n",
    "    return mag1, mag2\n",
    "\n",
    "def plot_symbol_info(info):\n",
    "    y = []\n",
    "    for i in info:\n",
    "        for _ in range(12):\n",
    "            y.append(i)\n",
    "    plt.plot(y)\n",
    "\n",
    "\n",
    "signal_1_mag, signal_2_mag = discrete_signal_mag(signal)\n",
    "recv_signal_1_mag, recv_signal_2_mag = discrete_signal_mag(recv_signal)\n",
    "# plot_symbol_info(signal_1_mag)\n",
    "# plot_symbol_info(signal_2_mag)\n",
    "# plot_symbol_info(recv_signal_1_mag)\n",
    "# plot_symbol_info(recv_signal_2_mag)\n",
    "\n",
    "cont_signal_1_mag, cont_signal_2_mag = cont_signal_mag(signal)\n",
    "plt.plot(cont_signal_1_mag, label='signal_4000Hz_mag', color='g')\n",
    "plt.plot(cont_signal_2_mag, label='signal_8000Hz_mag', color='r')\n",
    "cont_recv_signal_1_mag, cont_recv_signal_2_mag = cont_signal_mag(recv_signal)\n",
    "plt.plot(cont_recv_signal_1_mag, label='recv_4000Hz_mag', color='g')\n",
    "plt.plot(cont_recv_signal_2_mag, label='recv_8000Hz_mag', color='r')\n",
    "\n",
    "# for i in range(num_symbol):\n",
    "#     if ((signal_1_mag > signal_2_mag) != (recv_signal_1_mag > recv_signal_2_mag)):\n",
    "#         plt.axvline(x=i, color='r', linestyle='--')\n",
    "signal_bits = [signal_1_mag[i] > signal_2_mag[i] for i in range(num_symbol)]\n",
    "recv_signal_bits = [recv_signal_1_mag[i] > recv_signal_2_mag[i] for i in range(num_symbol)]\n",
    "\n",
    "print(''.join([str(int(b)) for b in signal_bits]))\n",
    "print(''.join([str(int(b)) for b in recv_signal_bits]))\n",
    "\n",
    "for i, bit, recv_bit in zip(range(num_symbol), signal_bits, recv_signal_bits):\n",
    "    if bit != recv_bit:\n",
    "        plt.axvline(x=i * 12 + 12, color='b', linestyle='--')\n",
    "plt.legend()"
   ]
  },
  {
   "cell_type": "code",
   "execution_count": 6,
   "metadata": {},
   "outputs": [
    {
     "name": "stdout",
     "output_type": "stream",
     "text": [
      "[1 2 0]\n",
      "[5 6 4]\n"
     ]
    }
   ],
   "source": [
    "a = np.array([4, 5, 6])\n",
    "permu = np.random.permutation(len(a))\n",
    "print(permu)\n",
    "print(a[permu])"
   ]
  }
 ],
 "metadata": {
  "kernelspec": {
   "display_name": "venv",
   "language": "python",
   "name": "python3"
  },
  "language_info": {
   "codemirror_mode": {
    "name": "ipython",
    "version": 3
   },
   "file_extension": ".py",
   "mimetype": "text/x-python",
   "name": "python",
   "nbconvert_exporter": "python",
   "pygments_lexer": "ipython3",
   "version": "3.12.7"
  }
 },
 "nbformat": 4,
 "nbformat_minor": 2
}
