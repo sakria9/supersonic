{
 "cells": [
  {
   "cell_type": "code",
   "execution_count": 1,
   "metadata": {},
   "outputs": [
    {
     "name": "stdout",
     "output_type": "stream",
     "text": [
      "chrip freq 5000, 15000.0\n",
      "chrip freq 7000, 11000.0\n"
     ]
    }
   ],
   "source": [
    "# plot the audio data\n",
    "# use popup window\n",
    "%matplotlib qt\n",
    "import matplotlib.pyplot as plt\n",
    "\n",
    "from utils import *"
   ]
  },
  {
   "cell_type": "code",
   "execution_count": 2,
   "metadata": {},
   "outputs": [],
   "source": [
    "rate = 48000\n",
    "seconds = 10 / 400\n",
    "# y = np.concatenate((sine_wave(400)(t), sine_wave(800)(t)))\n",
    "# y = np.concatenate((sine_wave(400)(t), sine_wave(400)(t)))\n",
    "# y = np.zeros(int(0.2*rate))\n",
    "\n",
    "freq = 1000\n",
    "cycle_time = 1 / freq\n",
    "cycle_samples = int(cycle_time * rate)\n",
    "n_cycles = 50\n",
    "t = np.linspace(0, n_cycles * cycle_time, n_cycles * cycle_samples+1)[:-1]\n",
    "y = sine_wave(freq)(t)"
   ]
  },
  {
   "cell_type": "code",
   "execution_count": 3,
   "metadata": {},
   "outputs": [
    {
     "name": "stdout",
     "output_type": "stream",
     "text": [
      "chrip freq 5000, 15000.0\n"
     ]
    },
    {
     "name": "stderr",
     "output_type": "stream",
     "text": [
      "The cached device pixel ratio value was stale on window update.  Please file a QTBUG which explains how to reproduce.\n",
      "qt.qpa.wayland.textinput: virtual void QtWaylandClient::QWaylandTextInputv3::zwp_text_input_v3_leave(wl_surface*) Got leave event for surface 0x0 focused surface 0x5a2829efefa0\n"
     ]
    }
   ],
   "source": [
    "def gen_chirp(f_0, c, duration, rate):\n",
    "    f_1 = c * duration + f_0\n",
    "    print(f\"chrip freq {f_0}, {f_1}\")\n",
    "\n",
    "    def phi(t):\n",
    "        return 2 * np.pi * (c / 2 * t * t + f_0 * t)\n",
    "\n",
    "    times = np.linspace(0, duration, int(rate * duration)+1)[:-1]\n",
    "\n",
    "    chirp = np.sin(phi(times))\n",
    "    chirp_rev = -np.flip(chirp)\n",
    "    chirp = np.concatenate((chirp, chirp_rev))\n",
    "    # chirp = np.sin(2 * np.pi * f_0 * times)\n",
    "\n",
    "    chirp = np.concatenate((chirp, np.zeros(int(0.001*rate))))\n",
    "    return chirp\n",
    "\n",
    "chirp1 = gen_chirp(5000, 10000000, 0.001, 48000)\n",
    "# chirp1 = gen_chirp(7000, 400000, 0.01, 48000)\n",
    "\n",
    "# plt.plot(t, y)\n",
    "sine_wav = sine_wave_samples(440, 1 * 440, 0, 1, rate)\n",
    "# empty for 0.2s\n",
    "empty = np.zeros(int(0.2 * rate))\n",
    "audio = np.concatenate((sine_wav, empty, chirp1, y, np.zeros(int(0.5*rate))))\n",
    "# audio = np.concatenate((sine_wav, empty, y, np.zeros(int(0.5*rate))))\n",
    "\n",
    "record_wave, play_wave, rate = play_and_record(audio, rate, discard=False)\n",
    "record_wave = record_wave[int(1*rate):]\n",
    "\n",
    "def find_start(wave):\n",
    "    corr1 = np.correlate(wave, chirp1, mode='full') / len(chirp1)\n",
    "    xmax = np.argmax(corr1)\n",
    "    return xmax\n",
    "\n",
    "s1 = -record_wave\n",
    "# s1 = audio\n",
    "\n",
    "s1 = s1 / np.max(np.abs(s1))\n",
    "\n",
    "xmax = find_start(s1)\n",
    "\n",
    "result_signal = s1[xmax:xmax+len(y)]\n",
    "result_signal = result_signal / np.max(np.abs(result_signal))\n",
    "\n",
    "plt.plot(s1)\n",
    "\n",
    "plt.axhline(y=0, color='k')\n",
    "\n",
    "corr1 = np.correlate(s1, chirp1, mode='full') / len(chirp1)\n",
    "plt.plot(corr1)\n",
    "\n",
    "plt.axvline(x=xmax, color='r')\n",
    "plt.plot(np.linspace(0, len(chirp1)+len(y), len(chirp1)+len(y), endpoint=False)-len(chirp1) + xmax, np.concatenate((chirp1, y)) * 0.5 + 2)\n",
    "plt.show()\n",
    "\n",
    "fft_result = np.fft.fft(result_signal)[:10]\n",
    "# plot_fft(result_signal, rate)\n",
    "# plt.plot(np.abs(fft_result))\n",
    "# plt.plot(np.real(fft_result))\n",
    "# plt.plot(np.imag(fft_result))\n",
    "# plt.legend(['abs', 'real', 'imag'])\n",
    "\n",
    "# coss = []\n",
    "# sins = []\n",
    "\n",
    "# for i in range(len(y) // cycle_samples):\n",
    "#     signal = result_signal[i*cycle_samples:(i+1)*cycle_samples]\n",
    "#     fft_result = np.fft.fft(signal)[:10]\n",
    "#     cos_part = np.abs(np.real(fft_result[1]))\n",
    "#     sin_part = np.abs(np.imag(fft_result[1]))\n",
    "#     coss = np.append(coss, cos_part)\n",
    "#     sins = np.append(sins, sin_part)\n",
    "#     if cos_part > sin_part:\n",
    "#         print(f\"{cos_part > sin_part}\")"
   ]
  },
  {
   "cell_type": "code",
   "execution_count": 4,
   "metadata": {},
   "outputs": [
    {
     "name": "stdout",
     "output_type": "stream",
     "text": [
      "chrip freq 5000, 10000.0\n"
     ]
    }
   ],
   "source": [
    "def gen_chirp(f_0, c, duration, rate):\n",
    "    f_1 = c * duration + f_0\n",
    "    print(f\"chrip freq {f_0}, {f_1}\")\n",
    "\n",
    "    def phi(t):\n",
    "        return 2 * np.pi * (c / 2 * t * t + f_0 * t)\n",
    "\n",
    "    times = np.linspace(0, duration, int(rate * duration)+1)[:-1]\n",
    "\n",
    "    chirp = np.sin(phi(times))\n",
    "    chirp_rev = -np.flip(chirp)\n",
    "    chirp = np.concatenate((chirp, chirp_rev))\n",
    "\n",
    "    chirp = np.concatenate((chirp, np.zeros(48)))\n",
    "    return chirp\n",
    "\n",
    "chirp1 = gen_chirp(5000, 5000000, 0.001, 48000)\n",
    "# chirp1 = gen_chirp(7000, 400000, 0.01, 48000)\n",
    "\n",
    "# plt.plot(t, y)\n",
    "sine_wav = sine_wave_samples(440, 1 * 440, 0, 1, rate)\n",
    "# empty for 0.2s\n",
    "empty = np.zeros(int(0.2 * rate))\n",
    "audio = np.concatenate((sine_wav, empty, chirp1, y, chirp1, y, chirp1, y, chirp1, y, np.zeros(int(0.5*rate))))\n",
    "# audio = np.concatenate((sine_wav, empty, y, np.zeros(int(0.5*rate))))\n",
    "\n",
    "record_wave, play_wave, rate = play_and_record(audio, rate, discard=False)\n",
    "record_wave = record_wave[int(1*rate):]\n",
    "\n",
    "record_wave = -record_wave"
   ]
  },
  {
   "cell_type": "code",
   "execution_count": 7,
   "metadata": {},
   "outputs": [
    {
     "name": "stdout",
     "output_type": "stream",
     "text": [
      "phy payload len 2400\n",
      "chirp len 144\n"
     ]
    }
   ],
   "source": [
    "# plt.plot(audio)\n",
    "save_wave_file(\"chirp_test_audio.wav\", rate, audio)\n",
    "print('phy payload len', len(y))\n",
    "print('chirp len')"
   ]
  },
  {
   "cell_type": "code",
   "execution_count": 24,
   "metadata": {},
   "outputs": [
    {
     "name": "stderr",
     "output_type": "stream",
     "text": [
      "The cached device pixel ratio value was stale on window update.  Please file a QTBUG which explains how to reproduce.\n",
      "qt.qpa.wayland.textinput: virtual void QtWaylandClient::QWaylandTextInputv3::zwp_text_input_v3_leave(wl_surface*) Got leave event for surface 0x0 focused surface 0x562349561f90\n"
     ]
    }
   ],
   "source": [
    "# plt.plot(record_wave)\n",
    "\n",
    "def corr_sliding_window(wave):\n",
    "    chirp = chirp1\n",
    "    chirp_len = len(chirp)\n",
    "\n",
    "    result = np.zeros(len(wave))\n",
    "    for i in range(0, len(wave)):\n",
    "        start = max(i - chirp_len + 1, 0)\n",
    "        end = i\n",
    "        window = wave[start:end+1]\n",
    "        if len(window) != chirp_len:\n",
    "            result[i] = 0\n",
    "            continue\n",
    "        window = np.copy(window) / np.max(np.abs(window))\n",
    "        corr = np.correlate(window, chirp, mode='valid') / len(chirp)\n",
    "        assert len(corr) == 1\n",
    "        result[i] = corr[0]\n",
    "    return result\n",
    "\n",
    "def chirp_location_sliding_window(corr):\n",
    "    window_size = 129\n",
    "    result = np.zeros(len(corr))\n",
    "    for i in range(len(corr)):\n",
    "        start = max(i - (window_size-1)//2, 0)\n",
    "        end = i + (window_size-1)//2\n",
    "        window = corr[start:end+1]\n",
    "        if len(window) != window_size:\n",
    "            window = np.concatenate((np.zeros(window_size - len(window)), window))\n",
    "        position = np.argmax(window)\n",
    "        if position == window_size // 2 and corr[i] > 0.1:\n",
    "            result[i] = 1\n",
    "    return result\n",
    "\n",
    "corr = corr_sliding_window(record_wave)\n",
    "chirp_location = chirp_location_sliding_window(corr)\n",
    "\n",
    "plt.plot(record_wave)\n",
    "plt.plot(corr)\n",
    "# plt.plot(chirp_location, 'o')\n",
    "for loc in np.where(chirp_location == 1)[0]:\n",
    "    plt.axvline(x=loc, color='r')\n",
    "    plt.axvline(x=loc+len(y), color='g')"
   ]
  },
  {
   "cell_type": "code",
   "execution_count": 49,
   "metadata": {},
   "outputs": [
    {
     "name": "stdout",
     "output_type": "stream",
     "text": [
      "-0.006393047857937883\n",
      "-0.006393047857937883\n"
     ]
    }
   ],
   "source": [
    "# corr[0:100]\n",
    "# plt.plot(corr)\n",
    "i = 300\n",
    "start = i - 64\n",
    "end = i + 64\n",
    "# len(corr[start:end+1])\n",
    "print(corr[start:end+1][64])\n",
    "print(corr[i])"
   ]
  }
 ],
 "metadata": {
  "kernelspec": {
   "display_name": "venv",
   "language": "python",
   "name": "python3"
  },
  "language_info": {
   "codemirror_mode": {
    "name": "ipython",
    "version": 3
   },
   "file_extension": ".py",
   "mimetype": "text/x-python",
   "name": "python",
   "nbconvert_exporter": "python",
   "pygments_lexer": "ipython3",
   "version": "3.12.7"
  }
 },
 "nbformat": 4,
 "nbformat_minor": 2
}
