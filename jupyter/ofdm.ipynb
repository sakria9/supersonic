{
 "cells": [
  {
   "cell_type": "code",
   "execution_count": 1,
   "metadata": {},
   "outputs": [
    {
     "name": "stdout",
     "output_type": "stream",
     "text": [
      "chrip freq 5000, 10000.0\n",
      "chrip freq 7000, 11000.0\n"
     ]
    }
   ],
   "source": [
    "# plot the audio data\n",
    "# use popup window\n",
    "# %matplotlib qt\n",
    "import matplotlib.pyplot as plt\n",
    "\n",
    "from utils import *"
   ]
  },
  {
   "cell_type": "code",
   "execution_count": 2,
   "metadata": {},
   "outputs": [
    {
     "name": "stdout",
     "output_type": "stream",
     "text": [
      "0.5166666666666667\n",
      "0.7975\n",
      "0.8241666666666667\n",
      "1.0\n",
      "1.0\n",
      "1.0\n",
      "1.0\n",
      "0.9991666666666666\n",
      "0.7433333333333333\n",
      "1.0\n",
      "0.5\n"
     ]
    }
   ],
   "source": [
    "rate = 48000\n",
    "freq = 1000\n",
    "samples = rate // freq\n",
    "channels = 12\n",
    "\n",
    "def encode_one(bits):\n",
    "    assert len(bits) == channels\n",
    "    freq_amp = np.zeros(samples//2+1, dtype=np.complex128)\n",
    "    A = samples * 0.5 / channels\n",
    "    for i in range(channels):\n",
    "        if bits[i]:\n",
    "            freq_amp[i + 1] = -A * 1j\n",
    "        else:\n",
    "            freq_amp[i + 1] = A\n",
    "\n",
    "    wave = np.fft.irfft(freq_amp)\n",
    "    return wave\n",
    "\n",
    "def decode_one(wave):\n",
    "    freq_amp = np.fft.rfft(wave)\n",
    "    bits = []\n",
    "    for i in range(channels):\n",
    "        if (np.abs(np.imag(freq_amp[i + 1])) > np.abs(np.real(freq_amp[i + 1]))):\n",
    "            bits.append(1)\n",
    "        else:\n",
    "            bits.append(0)\n",
    "    return np.array(bits)\n",
    "\n",
    "def encode_many(bits):\n",
    "    assert len(bits) % channels == 0\n",
    "    cp_samples = 12\n",
    "    waves = []\n",
    "    for i in range(0, len(bits), channels):\n",
    "        wave = encode_one(bits[i:i+channels])\n",
    "        wave = np.concatenate([wave[-cp_samples:], wave])\n",
    "        assert len(wave) == samples + cp_samples\n",
    "        waves.append(wave)\n",
    "    wave = np.concatenate(waves)\n",
    "    assert len(wave) == len(bits) // channels * (samples + cp_samples)\n",
    "    return wave\n",
    "\n",
    "def decode_many(waves):\n",
    "    cp_samples = 12\n",
    "    bits = []\n",
    "    for i in range(0, len(waves), cp_samples + samples):\n",
    "        wave = waves[i:i+cp_samples+samples]\n",
    "        assert len(wave) == samples + cp_samples\n",
    "        bits.append(decode_one(wave[cp_samples:]))\n",
    "    return np.concatenate(bits)\n",
    "\n",
    "similarities = []\n",
    "for i in range(10):\n",
    "    data_len = 100\n",
    "    bits = np.random.randint(0, 2, channels * data_len)\n",
    "    wave = encode_many(bits)\n",
    "    # print(bits)\n",
    "    # print(decode_many(wave))\n",
    "\n",
    "    # print(len(wave))\n",
    "    record_wave, rate, raw_wave = play_and_record_precise2(wave, rate)\n",
    "    # print(len(record_wave))\n",
    "\n",
    "    decoded_bits = decode_many(record_wave)\n",
    "\n",
    "    similarity = np.sum(decoded_bits == bits) / len(bits)\n",
    "\n",
    "    # bps = len(bits) / (len(wave) / rate)\n",
    "    # 10105.263157894737\n",
    "\n",
    "    print(similarity)\n",
    "    similarities.append(similarity)\n",
    "\n",
    "one_rate = similarities.count(1) / len(similarities)\n",
    "print(one_rate)\n",
    "\n",
    "# print(np.mean(similarities))"
   ]
  },
  {
   "cell_type": "code",
   "execution_count": null,
   "metadata": {},
   "outputs": [
    {
     "name": "stdout",
     "output_type": "stream",
     "text": [
      "0.84\n"
     ]
    }
   ],
   "source": [
    "similarities = []\n",
    "for i in range(1):\n",
    "    signal = np.loadtxt(f\"/home/ryo/code/supersonic/build/ddata/frames{i}.txt\")\n",
    "    recv_signal = np.loadtxt(f\"/home/ryo/code/supersonic/build/ddata/recv_frames{i}.txt\")\n",
    "\n",
    "    bits = decode_many(signal)\n",
    "    recv_bits = decode_many(recv_signal)\n",
    "\n",
    "    similarity = np.sum(recv_bits == bits) / len(bits)\n",
    "    # print(similarity)\n",
    "    similarities.append(similarity)\n",
    "one_rate = similarities.count(1) / len(similarities)\n",
    "print(one_rate)"
   ]
  }
 ],
 "metadata": {
  "kernelspec": {
   "display_name": "venv",
   "language": "python",
   "name": "python3"
  },
  "language_info": {
   "codemirror_mode": {
    "name": "ipython",
    "version": 3
   },
   "file_extension": ".py",
   "mimetype": "text/x-python",
   "name": "python",
   "nbconvert_exporter": "python",
   "pygments_lexer": "ipython3",
   "version": "3.12.7"
  }
 },
 "nbformat": 4,
 "nbformat_minor": 2
}
