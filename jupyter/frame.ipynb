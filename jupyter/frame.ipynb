{
 "cells": [
  {
   "cell_type": "code",
   "execution_count": 7,
   "metadata": {},
   "outputs": [
    {
     "name": "stdout",
     "output_type": "stream",
     "text": [
      "Data frame length: 4208\n",
      "Data frame length: 87 ms\n",
      "Ack frame length: 2 ms\n",
      "RTT: 222 ms\n",
      "Min RTT: 196 ms\n",
      "bps: 9225\n",
      "Max bps: 10448\n"
     ]
    }
   ],
   "source": [
    "rate = 48000\n",
    "\n",
    "chirp = 96 + 6\n",
    "symbol = 2\n",
    "data = 2048\n",
    "\n",
    "channel = 1\n",
    "\n",
    "data_frame_len = chirp + symbol * (2 + 3 + data / channel)\n",
    "print(\"Data frame length: %d\" % data_frame_len)\n",
    "data_frame_ms = data_frame_len * 1000 / rate\n",
    "ack_frame_len = chirp + symbol * (2 + 3)\n",
    "ack_frame_ms = ack_frame_len * 1000 / rate\n",
    "\n",
    "print(\"Data frame length: %d ms\" % data_frame_ms)\n",
    "print(\"Ack frame length: %d ms\" % ack_frame_ms)\n",
    "\n",
    "kick_to_send_overhead = 16\n",
    "send_to_recv_overhead = 50\n",
    "send_to_recv = 20\n",
    "# send_to_recv_overhead = 20\n",
    "\n",
    "rtt = data_frame_ms + kick_to_send_overhead + send_to_recv_overhead + ack_frame_ms + kick_to_send_overhead + send_to_recv_overhead\n",
    "print(\"RTT: %d ms\" % rtt)\n",
    "\n",
    "min_rtt = data_frame_ms + kick_to_send_overhead + send_to_recv + ack_frame_ms + send_to_recv + send_to_recv_overhead\n",
    "print(\"Min RTT: %d ms\" % min_rtt)\n",
    "\n",
    "bps = data * (1000 / rtt)\n",
    "print(\"bps: %d\" % bps)\n",
    "\n",
    "max_bps = data * (1000 / min_rtt)\n",
    "print(\"Max bps: %d\" % max_bps)"
   ]
  }
 ],
 "metadata": {
  "kernelspec": {
   "display_name": "venv",
   "language": "python",
   "name": "python3"
  },
  "language_info": {
   "codemirror_mode": {
    "name": "ipython",
    "version": 3
   },
   "file_extension": ".py",
   "mimetype": "text/x-python",
   "name": "python",
   "nbconvert_exporter": "python",
   "pygments_lexer": "ipython3",
   "version": "3.12.7"
  }
 },
 "nbformat": 4,
 "nbformat_minor": 2
}
