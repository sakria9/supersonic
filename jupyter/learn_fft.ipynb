{
 "cells": [
  {
   "cell_type": "code",
   "execution_count": 1,
   "metadata": {},
   "outputs": [
    {
     "name": "stdout",
     "output_type": "stream",
     "text": [
      "chrip freq 5000, 15000.0\n",
      "chrip freq 7000, 11000.0\n"
     ]
    }
   ],
   "source": [
    "# plot the audio data\n",
    "# use popup window\n",
    "%matplotlib qt\n",
    "import matplotlib.pyplot as plt\n",
    "\n",
    "from utils import *# plot the audio data\n",
    "# use popup window\n",
    "%matplotlib qt\n",
    "import matplotlib.pyplot as plt\n",
    "\n",
    "from utils import *"
   ]
  },
  {
   "cell_type": "code",
   "execution_count": 11,
   "metadata": {},
   "outputs": [
    {
     "data": {
      "text/plain": [
       "[<matplotlib.lines.Line2D at 0x7de193bfefc0>]"
      ]
     },
     "execution_count": 11,
     "metadata": {},
     "output_type": "execute_result"
    },
    {
     "name": "stderr",
     "output_type": "stream",
     "text": [
      "The cached device pixel ratio value was stale on window update.  Please file a QTBUG which explains how to reproduce.\n",
      "qt.qpa.wayland.textinput: virtual void QtWaylandClient::QWaylandTextInputv3::zwp_text_input_v3_leave(wl_surface*) Got leave event for surface 0x0 focused surface 0x56b3849ae5a0\n"
     ]
    }
   ],
   "source": [
    "rate = 100\n",
    "seconds = 1\n",
    "\n",
    "t = np.linspace(0, seconds, rate * seconds, endpoint=False)\n",
    "wave_d = (sine_wave(1)(t) + sine_wave(2)(t)) / 2\n",
    "\n",
    "X = np.fft.rfft(wave_d)\n",
    "x_axis = np.fft.rfftfreq(len(wave_d), 1/rate)\n",
    "\n",
    "# plt.plot(wave_d)\n",
    "# plt.plot(np.abs(X))\n",
    "\n",
    "\n",
    "freq_amp = np.zeros(X.shape, dtype=np.complex128)\n",
    "freq_amp[1] = -1j * 0.5 * rate * 0.5\n",
    "freq_amp[2] = -1j * 0.5 * rate * 0.5\n",
    "\n",
    "wave = np.fft.irfft(freq_amp)\n",
    "\n",
    "plt.plot(wave)"
   ]
  }
 ],
 "metadata": {
  "kernelspec": {
   "display_name": "venv",
   "language": "python",
   "name": "python3"
  },
  "language_info": {
   "codemirror_mode": {
    "name": "ipython",
    "version": 3
   },
   "file_extension": ".py",
   "mimetype": "text/x-python",
   "name": "python",
   "nbconvert_exporter": "python",
   "pygments_lexer": "ipython3",
   "version": "3.12.7"
  }
 },
 "nbformat": 4,
 "nbformat_minor": 2
}
