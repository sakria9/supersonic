{
 "cells": [
  {
   "cell_type": "code",
   "execution_count": 2,
   "metadata": {},
   "outputs": [
    {
     "name": "stdout",
     "output_type": "stream",
     "text": [
      "chrip freq 5000, 10000.0\n",
      "chrip freq 7000, 11000.0\n"
     ]
    }
   ],
   "source": [
    "# plot the audio data\n",
    "# use popup window\n",
    "%matplotlib qt\n",
    "import matplotlib.pyplot as plt\n",
    "\n",
    "from utils import *"
   ]
  },
  {
   "cell_type": "code",
   "execution_count": 3,
   "metadata": {},
   "outputs": [],
   "source": [
    "import pickle"
   ]
  },
  {
   "cell_type": "code",
   "execution_count": null,
   "metadata": {},
   "outputs": [],
   "source": [
    "# line delay\n",
    "\n",
    "rate = 48000\n",
    "\n",
    "empty = np.zeros(int(0.5 * rate))\n",
    "\n",
    "duration = 0.1\n",
    "t = np.linspace(0, duration, int(rate * duration)+1)[:-1]\n",
    "signal = sine_440hz(t)\n",
    "\n",
    "record, play, _ = play_and_record(np.concatenate((signal, empty, signal, empty)), 48000)\n",
    "\n",
    "# pickle.dump(record, open('line_delay_record.pkl', 'wb'))\n",
    "# pickle.dump(play, open('line_delay_play.pkl', 'wb'))"
   ]
  },
  {
   "cell_type": "code",
   "execution_count": 15,
   "metadata": {},
   "outputs": [
    {
     "data": {
      "text/plain": [
       "[<matplotlib.lines.Line2D at 0x6ffeb74de0d0>]"
      ]
     },
     "execution_count": 15,
     "metadata": {},
     "output_type": "execute_result"
    },
    {
     "name": "stderr",
     "output_type": "stream",
     "text": [
      "qt.qpa.wayland.textinput: virtual void QtWaylandClient::QWaylandTextInputv3::zwp_text_input_v3_leave(wl_surface*) Got leave event for surface 0x0 focused surface 0x61c510497010\n"
     ]
    }
   ],
   "source": [
    "record = pickle.load(open('line_delay_record.pkl', 'rb'))\n",
    "play = pickle.load(open('line_delay_play.pkl', 'rb'))\n",
    "\n",
    "x_range = np.arange(0, len(record)) / rate\n",
    "plt.plot(x_range, record)\n",
    "plt.plot(x_range, play)"
   ]
  },
  {
   "cell_type": "code",
   "execution_count": 65,
   "metadata": {},
   "outputs": [
    {
     "name": "stderr",
     "output_type": "stream",
     "text": [
      "The cached device pixel ratio value was stale on window update.  Please file a QTBUG which explains how to reproduce.\n",
      "qt.qpa.wayland.textinput: virtual void QtWaylandClient::QWaylandTextInputv3::zwp_text_input_v3_leave(wl_surface*) Got leave event for surface 0x0 focused surface 0x56ef06773e70\n"
     ]
    }
   ],
   "source": [
    "# ask line coding\n",
    "\n",
    "rate = 48000\n",
    "\n",
    "one = np.array([0, 1])\n",
    "zero = np.array([0, -1])\n",
    "\n",
    "signal = np.concatenate((one, zero, zero, one, one))\n",
    "\n",
    "record, _, _ = play_and_record_precise2(signal, rate)\n",
    "\n",
    "for i in range(len(signal) // 2):\n",
    "    plt.plot([i*2, i*2+1], [record[i*2], record[i*2+1]])\n",
    "    plt.plot([i*2, i*2+1], [signal[i*2], signal[i*2+1]])\n",
    "\n",
    "# plt.plot(signal)\n",
    "# plt.plot(record)\n",
    "plt.show()"
   ]
  },
  {
   "cell_type": "code",
   "execution_count": 66,
   "metadata": {},
   "outputs": [],
   "source": [
    "# pickle.dump(record, open('line_coding_record.pkl', 'wb'))\n",
    "# pickle.dump(signal, open('line_coding_signal.pkl', 'wb'))"
   ]
  },
  {
   "cell_type": "code",
   "execution_count": 73,
   "metadata": {},
   "outputs": [
    {
     "name": "stderr",
     "output_type": "stream",
     "text": [
      "The cached device pixel ratio value was stale on window update.  Please file a QTBUG which explains how to reproduce.\n",
      "qt.qpa.wayland.textinput: virtual void QtWaylandClient::QWaylandTextInputv3::zwp_text_input_v3_leave(wl_surface*) Got leave event for surface 0x0 focused surface 0x56ef05944f00\n"
     ]
    }
   ],
   "source": [
    "pickle.load(open('line_coding_record.pkl', 'rb'))\n",
    "pickle.load(open('line_coding_signal.pkl', 'rb'))\n",
    "\n",
    "# plt.plot(record)\n",
    "# plt.plot(signal)\n",
    "\n",
    "# instead of line, we plot dots\n",
    "# plt.plot(record, '-o')\n",
    "# plt.plot(signal, '-o')\n",
    "\n",
    "signal_color = 'orange'\n",
    "record_color = 'blue'\n",
    "\n",
    "for i in range(len(signal) // 2):\n",
    "    plt.plot([i*2, i*2+1], [record[i*2], record[i*2+1]], '-o', color='C0')\n",
    "    plt.plot([i*2, i*2+1], [signal[i*2], signal[i*2+1]], '-o', color='C1')\n",
    "\n",
    "# plt.plot(signal)\n",
    "# plt.plot(record)\n",
    "plt.show()"
   ]
  },
  {
   "cell_type": "code",
   "execution_count": 9,
   "metadata": {},
   "outputs": [
    {
     "data": {
      "text/plain": [
       "[<matplotlib.lines.Line2D at 0x6ffebc088b90>]"
      ]
     },
     "execution_count": 9,
     "metadata": {},
     "output_type": "execute_result"
    },
    {
     "name": "stderr",
     "output_type": "stream",
     "text": [
      "qt.qpa.wayland.textinput: virtual void QtWaylandClient::QWaylandTextInputv3::zwp_text_input_v3_leave(wl_surface*) Got leave event for surface 0x0 focused surface 0x61c510bf7d10\n"
     ]
    }
   ],
   "source": [
    "# air_flip\n",
    "\n",
    "rate = 48000\n",
    "\n",
    "empty = np.zeros(int(0.5 * rate))\n",
    "\n",
    "duration = 0.2\n",
    "t = np.linspace(0, duration, int(rate * duration)+1)[:-1]\n",
    "signal = sine_wave(1000)(t)\n",
    "\n",
    "\n",
    "sine_wav = sine_wave_samples(440, 1 * 440, 0, 1, rate)\n",
    "# empty for 0.2s\n",
    "empty = np.zeros(int(0.2 * rate))\n",
    "audio = np.concatenate((sine_wav, empty, chirp1, signal, np.zeros(int(0.5*rate))))\n",
    "\n",
    "record_wave, play_wave, rate = play_and_record(audio, rate, discard=False)\n",
    "\n",
    "magic_correction = 0\n",
    "\n",
    "chirp1_loc = locate_chirp(record_wave, chirp1) + magic_correction\n",
    "# chirp2_loc = locate_chirp(record_wave, chirp2) + magic_correction\n",
    "# chirp2_loc = min(chirp2_loc, len(record_wave))\n",
    "\n",
    "start = chirp1_loc + 1\n",
    "end = start + len(signal)\n",
    "\n",
    "play = np.concatenate((chirp1, signal))\n",
    "record = record_wave[start - len(chirp1):end]\n",
    "\n",
    "pickle.dump(record, open('air_flip_record.pkl', 'wb'))\n",
    "pickle.dump(play, open('air_flip_play.pkl', 'wb'))"
   ]
  },
  {
   "cell_type": "code",
   "execution_count": 16,
   "metadata": {},
   "outputs": [
    {
     "data": {
      "text/plain": [
       "[<matplotlib.lines.Line2D at 0x6ffeb3dd6990>]"
      ]
     },
     "execution_count": 16,
     "metadata": {},
     "output_type": "execute_result"
    }
   ],
   "source": [
    "pickle.load(open('air_flip_record.pkl', 'rb'))\n",
    "pickle.load(open('air_flip_play.pkl', 'rb'))\n",
    "\n",
    "x_axis = np.arange(0, len(record)) / rate\n",
    "plt.plot(x_axis, play)\n",
    "plt.plot(x_axis, record)"
   ]
  },
  {
   "cell_type": "code",
   "execution_count": 14,
   "metadata": {},
   "outputs": [
    {
     "data": {
      "text/plain": [
       "[<matplotlib.lines.Line2D at 0x6ffeb3eb16d0>]"
      ]
     },
     "execution_count": 14,
     "metadata": {},
     "output_type": "execute_result"
    },
    {
     "name": "stderr",
     "output_type": "stream",
     "text": [
      "qt.qpa.wayland.textinput: virtual void QtWaylandClient::QWaylandTextInputv3::zwp_text_input_v3_leave(wl_surface*) Got leave event for surface 0x0 focused surface 0x61c510b4c670\n"
     ]
    }
   ],
   "source": [
    "# air_drift\n",
    "\n",
    "rate = 48000\n",
    "\n",
    "empty = np.zeros(int(0.5 * rate))\n",
    "\n",
    "duration = 0.2\n",
    "t = np.linspace(0, duration, int(rate * duration)+1)[:-1]\n",
    "signal = sine_wave(2000)(t)\n",
    "\n",
    "\n",
    "sine_wav = sine_wave_samples(440, 1 * 440, 0, 1, rate)\n",
    "# empty for 0.2s\n",
    "empty = np.zeros(int(0.2 * rate))\n",
    "audio = np.concatenate((sine_wav, empty, chirp1, signal, np.zeros(int(0.5*rate))))\n",
    "\n",
    "record_wave, play_wave, rate = play_and_record(audio, rate, discard=False)\n",
    "\n",
    "magic_correction = 0\n",
    "\n",
    "chirp1_loc = locate_chirp(record_wave, chirp1) + magic_correction\n",
    "# chirp2_loc = locate_chirp(record_wave, chirp2) + magic_correction\n",
    "# chirp2_loc = min(chirp2_loc, len(record_wave))\n",
    "\n",
    "start = chirp1_loc + 1\n",
    "end = start + len(signal)\n",
    "\n",
    "play = signal\n",
    "record = record_wave[start:end]\n",
    "\n",
    "record = -record\n",
    "\n",
    "pickle.dump(record, open('air_drift_record.pkl', 'wb'))\n",
    "pickle.dump(play, open('air_drift_play.pkl', 'wb'))\n",
    "\n",
    "# plt.plot(play)\n",
    "# plt.plot(record)"
   ]
  },
  {
   "cell_type": "code",
   "execution_count": 7,
   "metadata": {},
   "outputs": [
    {
     "name": "stdout",
     "output_type": "stream",
     "text": [
      "Min FSK freq: 1000\n",
      "Similarity: 1.0\n",
      "Transfer Time: 0.005 s, 1000.0 bps, 1.0 kbps\n"
     ]
    }
   ],
   "source": [
    "# fsk\n",
    "\n",
    "ENABLE_PAUSE = 0\n",
    "PAUSE_TIME_RATIO = 0.5\n",
    "ENABLE_SHIFT_CORR = 0\n",
    "\n",
    "def fsk_modulation(binary_data, rate, symbol_freq, fsk_freq):\n",
    "    symbol_samples = int(rate / symbol_freq)\n",
    "    pause_samples = int(symbol_samples * PAUSE_TIME_RATIO) if ENABLE_PAUSE else 0\n",
    "    symbol_time = 1 / symbol_freq\n",
    "\n",
    "    print(f\"Min FSK freq: {symbol_freq}\")\n",
    "    assert fsk_freq >= symbol_freq\n",
    "\n",
    "    t = np.linspace(0, symbol_time, symbol_samples+1)[:-1]\n",
    "    one = sine_wave(fsk_freq)(t)\n",
    "    zero = sine_wave(2*fsk_freq)(t)\n",
    "    one = np.concatenate((one, np.zeros(pause_samples)))\n",
    "    zero = np.concatenate((zero, np.zeros(pause_samples)))\n",
    "\n",
    "    fsk_wave = np.concatenate([one if bit == 1 else zero for bit in binary_data])\n",
    "    return fsk_wave\n",
    "\n",
    "def simple_fsk_demodulation(wave, freq):\n",
    "    rate = 48000\n",
    "    symbol_samples = int(rate / freq)\n",
    "\n",
    "    symbol_time = 1 / freq\n",
    "\n",
    "    t = np.linspace(0, symbol_time, symbol_samples+1)[:-1]\n",
    "    one = sine_wave(freq)(t)\n",
    "    zero = sine_wave(2*freq)(t)\n",
    "\n",
    "    receive_fsk_wave = wave[:len(wave) - len(wave) % symbol_samples]\n",
    "    result = np.zeros(len(receive_fsk_wave) // symbol_samples)\n",
    "    for i in range(len(result)):\n",
    "        wave = receive_fsk_wave[i*symbol_samples:(i+1)*symbol_samples]\n",
    "        one_corr = abs(np.abs(np.correlate(wave, one, 'valid')).max())\n",
    "        zero_corr = abs(np.abs(np.correlate(wave, zero, 'valid')).max())\n",
    "        result[i] = 1 if one_corr > zero_corr else 0\n",
    "    return result\n",
    "data_len = 5\n",
    "# bin = np.random.randint(0, 2, size=data_len)\n",
    "bin = np.array([1, 0, 0, 1, 1])\n",
    "\n",
    "rate = 48000\n",
    "\n",
    "symbol_freq = 1000\n",
    "symbol_samples = int(rate / symbol_freq)\n",
    "fsk_freq = symbol_freq\n",
    "fsk_wave = fsk_modulation(bin, rate, symbol_freq, fsk_freq)\n",
    "\n",
    "record_wave, rate, raw_record_wave = play_and_record_precise2(fsk_wave, rate)\n",
    "record_wave = -record_wave\n",
    "if len(record_wave) < len(fsk_wave):\n",
    "    record_wave = np.concatenate((record_wave, np.zeros(len(fsk_wave) - len(record_wave))))\n",
    "\n",
    "# receive_bits = fsk_demodulation(len(bin), record_wave.copy(), rate, symbol_freq, fsk_freq)\n",
    "receive_bits = simple_fsk_demodulation(record_wave.copy(), fsk_freq)\n",
    "\n",
    "receive_bits = receive_bits[:len(bin)]\n",
    "\n",
    "similarity = np.sum(receive_bits == bin) / len(bin)\n",
    "print(f\"Similarity: {similarity}\")\n",
    "\n",
    "transfer_time = len(fsk_wave) / rate\n",
    "bits = len(bin)\n",
    "bps = bits / transfer_time\n",
    "print(f\"Transfer Time: {transfer_time} s, {bps} bps, {bps/1000} kbps\")\n",
    "\n",
    "play = fsk_wave\n",
    "record = record_wave\n",
    "\n",
    "pickle.dump(record, open('fsk_record.pkl', 'wb'))\n",
    "pickle.dump(play, open('fsk_play.pkl', 'wb'))"
   ]
  },
  {
   "cell_type": "code",
   "execution_count": 23,
   "metadata": {},
   "outputs": [
    {
     "name": "stderr",
     "output_type": "stream",
     "text": [
      "qt.qpa.wayland.textinput: virtual void QtWaylandClient::QWaylandTextInputv3::zwp_text_input_v3_leave(wl_surface*) Got leave event for surface 0x0 focused surface 0x654eb9e62430\n"
     ]
    }
   ],
   "source": [
    "play = pickle.load(open('fsk_play.pkl', 'rb'))\n",
    "record = pickle.load(open('fsk_record.pkl', 'rb'))\n",
    "fig, ax = plt.subplots()\n",
    "rate = 48000\n",
    "x_axis = np.arange(0, len(record)) / rate\n",
    "ax.plot(x_axis, play, label='Playback')\n",
    "ax.plot(x_axis, record, label='Capture')\n",
    "ax.legend()\n",
    "ax.set_xlabel('Time (s)')\n",
    "ax.set_ylabel('Amplitude')\n",
    "ax.set_title('FSK via Air (1000Hz and 2000Hz)')\n",
    "freq = 1000\n",
    "symbol_samples = int(rate / freq)\n",
    "for i in range(1, len(bin)):\n",
    "    ax.axvline(x=(i*symbol_samples/rate), color='grey', linestyle='--')"
   ]
  }
 ],
 "metadata": {
  "kernelspec": {
   "display_name": "venv",
   "language": "python",
   "name": "python3"
  },
  "language_info": {
   "codemirror_mode": {
    "name": "ipython",
    "version": 3
   },
   "file_extension": ".py",
   "mimetype": "text/x-python",
   "name": "python",
   "nbconvert_exporter": "python",
   "pygments_lexer": "ipython3",
   "version": "3.13.1"
  }
 },
 "nbformat": 4,
 "nbformat_minor": 2
}
