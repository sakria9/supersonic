{
 "cells": [
  {
   "cell_type": "code",
   "execution_count": 2,
   "metadata": {},
   "outputs": [],
   "source": [
    "# plot the audio data\n",
    "# use popup window\n",
    "import matplotlib.pyplot as plt\n",
    "\n",
    "from utils import *"
   ]
  },
  {
   "cell_type": "code",
   "execution_count": 4,
   "metadata": {},
   "outputs": [
    {
     "name": "stdout",
     "output_type": "stream",
     "text": [
      "1.0\n",
      "1.0\n",
      "1.0\n",
      "1.0\n",
      "1.0\n",
      "1.0\n",
      "1.0\n",
      "1.0\n",
      "1.0\n",
      "1.0\n"
     ]
    }
   ],
   "source": [
    "data_len = 100\n",
    "rate = 48000\n",
    "\n",
    "for i in range(10):\n",
    "    data = np.random.randint(0, 2, data_len)\n",
    "    one = np.array([0, -1])\n",
    "    zero = np.array([0, 1])\n",
    "    symbol_len = 2\n",
    "\n",
    "    wave = np.zeros(data_len * symbol_len)\n",
    "    for i, b in enumerate(data):\n",
    "        if b == 1:\n",
    "            wave[i*symbol_len:i*symbol_len+symbol_len] = one\n",
    "        else:\n",
    "            wave[i*symbol_len:i*symbol_len+symbol_len] = zero\n",
    "\n",
    "    record_wave, rate, raw_wave = play_and_record_precise2(wave, rate)\n",
    "    record_wave = record_wave / np.max(np.abs(record_wave))\n",
    "    # record_wave, rate, raw_wave = record_precise(len(wave), 10, rate)\n",
    "\n",
    "    # plt.plot(record_wave, 'o')\n",
    "    # plt.plot(wave, 'o')\n",
    "\n",
    "    decoded_data = np.zeros(data_len)\n",
    "\n",
    "    for i in range(data_len):\n",
    "        wave = record_wave[i*symbol_len:i*symbol_len+symbol_len]\n",
    "        if np.dot(wave, one) > np.dot(wave, zero):\n",
    "            decoded_data[i] = 1\n",
    "        else:\n",
    "            decoded_data[i] = 0\n",
    "\n",
    "    similarity = np.sum(decoded_data == data) / data_len\n",
    "    print(similarity)\n",
    "\n",
    "    # bps = rate * symbol_bits\n",
    "    # KBperSec = rate * symbol_bits / 8 / 1024\n",
    "    # print(\"bps: \", bps)\n",
    "    # print(\"KB/s: \", KBperSec)"
   ]
  }
 ],
 "metadata": {
  "kernelspec": {
   "display_name": "venv",
   "language": "python",
   "name": "python3"
  },
  "language_info": {
   "codemirror_mode": {
    "name": "ipython",
    "version": 3
   },
   "file_extension": ".py",
   "mimetype": "text/x-python",
   "name": "python",
   "nbconvert_exporter": "python",
   "pygments_lexer": "ipython3",
   "version": "3.13.1"
  }
 },
 "nbformat": 4,
 "nbformat_minor": 2
}
