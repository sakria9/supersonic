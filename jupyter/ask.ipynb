{
 "cells": [
  {
   "cell_type": "code",
   "execution_count": 1,
   "metadata": {},
   "outputs": [
    {
     "name": "stdout",
     "output_type": "stream",
     "text": [
      "chrip freq 5000, 15000.0\n",
      "chrip freq 7000, 11000.0\n"
     ]
    }
   ],
   "source": [
    "# plot the audio data\n",
    "# use popup window\n",
    "%matplotlib qt\n",
    "import matplotlib.pyplot as plt\n",
    "\n",
    "from utils import *"
   ]
  },
  {
   "cell_type": "code",
   "execution_count": 2,
   "metadata": {},
   "outputs": [],
   "source": [
    "data_len = 100\n",
    "bin = np.random.randint(0, 2, size=data_len)"
   ]
  },
  {
   "cell_type": "code",
   "execution_count": 6,
   "metadata": {},
   "outputs": [
    {
     "name": "stdout",
     "output_type": "stream",
     "text": [
      "max corr 0.14880093495115845\n",
      "max corr 0.24193280156561328\n",
      "59782 64588\n"
     ]
    },
    {
     "data": {
      "text/plain": [
       "[<matplotlib.lines.Line2D at 0x743ea5e09dc0>]"
      ]
     },
     "execution_count": 6,
     "metadata": {},
     "output_type": "execute_result"
    },
    {
     "name": "stderr",
     "output_type": "stream",
     "text": [
      "qt.qpa.wayland.textinput: virtual void QtWaylandClient::QWaylandTextInputv3::zwp_text_input_v3_leave(wl_surface*) Got leave event for surface 0x0 focused surface 0x603af283ffe0\n"
     ]
    }
   ],
   "source": [
    "rate = 48000\n",
    "symbol_samples = 48\n",
    "symbol_time = symbol_samples / rate\n",
    "freq = 1000\n",
    "\n",
    "t = np.linspace(0, symbol_time, symbol_samples, endpoint=False)\n",
    "one = np.sin(2 * np.pi * 1000 * t)\n",
    "zero = np.zeros(symbol_samples)\n",
    "\n",
    "wave = np.concatenate([one if b == 1 else zero for b in bin])\n",
    "\n",
    "\n",
    "record_wave, rate, raw_wave = play_and_record_precise2(wave, rate)\n",
    "record_wave = -record_wave\n",
    "\n",
    "plt.plot(wave)\n",
    "plt.plot(record_wave)"
   ]
  }
 ],
 "metadata": {
  "kernelspec": {
   "display_name": "venv",
   "language": "python",
   "name": "python3"
  },
  "language_info": {
   "codemirror_mode": {
    "name": "ipython",
    "version": 3
   },
   "file_extension": ".py",
   "mimetype": "text/x-python",
   "name": "python",
   "nbconvert_exporter": "python",
   "pygments_lexer": "ipython3",
   "version": "3.12.7"
  }
 },
 "nbformat": 4,
 "nbformat_minor": 2
}
