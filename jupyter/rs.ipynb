{
 "cells": [
  {
   "cell_type": "code",
   "execution_count": 3,
   "metadata": {},
   "outputs": [
    {
     "name": "stdout",
     "output_type": "stream",
     "text": [
      "RS(255, 253)\n"
     ]
    }
   ],
   "source": [
    "bit_r = 0.99920000\n",
    "byte_r = bit_r ** 8\n",
    "error_r = 1 - byte_r\n",
    "N = 255\n",
    "T = int(error_r * N)\n",
    "K = N - 2 * T\n",
    "print(f\"RS({N}, {K})\")"
   ]
  },
  {
   "cell_type": "code",
   "execution_count": 6,
   "metadata": {},
   "outputs": [
    {
     "name": "stdout",
     "output_type": "stream",
     "text": [
      "Byte max incorrect rate: 0.06274509803921569\n",
      "Byte min correct rate: 0.9372549019607843\n",
      "Bit min correct rate: 0.9919327174453767\n"
     ]
    }
   ],
   "source": [
    "max_error = (255 - 223) // 2\n",
    "max_error_rate = max_error / 255\n",
    "min_correct_rate = 1 - max_error_rate\n",
    "print(f\"Byte max incorrect rate: {max_error_rate}\")\n",
    "print(f\"Byte min correct rate: {min_correct_rate}\")\n",
    "min_bit_corr_rate = min_correct_rate ** (1/8)\n",
    "print(f\"Bit min correct rate: {min_bit_corr_rate}\")"
   ]
  }
 ],
 "metadata": {
  "kernelspec": {
   "display_name": "venv",
   "language": "python",
   "name": "python3"
  },
  "language_info": {
   "codemirror_mode": {
    "name": "ipython",
    "version": 3
   },
   "file_extension": ".py",
   "mimetype": "text/x-python",
   "name": "python",
   "nbconvert_exporter": "python",
   "pygments_lexer": "ipython3",
   "version": "3.12.7"
  }
 },
 "nbformat": 4,
 "nbformat_minor": 2
}
